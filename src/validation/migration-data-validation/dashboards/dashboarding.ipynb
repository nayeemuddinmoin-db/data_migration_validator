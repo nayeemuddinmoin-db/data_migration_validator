{
 "cells": [
  {
   "cell_type": "code",
   "execution_count": 0,
   "metadata": {
    "application/vnd.databricks.v1+cell": {
     "cellMetadata": {
      "byteLimit": 2048000,
      "rowLimit": 10000
     },
     "inputWidgets": {},
     "nuid": "1a6e5826-e79d-4df0-add1-3f8c75ab01f7",
     "showTitle": true,
     "tableResultSettingsMap": {},
     "title": "Description"
    }
   },
   "outputs": [],
   "source": [
    "%python\n",
    "##########################################\n",
    "#  TODO                                  #\n",
    "#  @author: Mahesh Madhusoodanan Pillai  #\n",
    "#  @email: mahesh.pillai@databricks.com  #\n",
    "##########################################"
   ]
  },
  {
   "cell_type": "code",
   "execution_count": 0,
   "metadata": {
    "application/vnd.databricks.v1+cell": {
     "cellMetadata": {
      "byteLimit": 2048000,
      "rowLimit": 10000
     },
     "inputWidgets": {},
     "nuid": "144b97b6-6ea5-4b99-b4ad-2203c2ddacda",
     "showTitle": false,
     "tableResultSettingsMap": {},
     "title": ""
    }
   },
   "outputs": [],
   "source": [
    "%run \"../conf/constants\""
   ]
  },
  {
   "cell_type": "code",
   "execution_count": 0,
   "metadata": {
    "application/vnd.databricks.v1+cell": {
     "cellMetadata": {
      "byteLimit": 2048000,
      "rowLimit": 10000
     },
     "inputWidgets": {},
     "nuid": "1666b0f7-7a45-4008-ad8c-3c63aac4a110",
     "showTitle": false,
     "tableResultSettingsMap": {},
     "title": ""
    }
   },
   "outputs": [],
   "source": [
    "%python\n",
    "sqls = []\n",
    "\n",
    "databricks = f'''CREATE OR REPLACE TEMPORARY VIEW schema_store_catalog_v as\n",
    "select \"databricks\" WAREHOUSE, run_timestamp RUN_TIMESTAMP, iteration_name ITERATION_NAME, concat_ws(\".\",catalog,db_name,table_name) TABLE_NAME, original_order COL_ORDER, col_name COL_NAME, comment COL_COMMENT, data_type DATA_TYPE from {DATABRICKS_SCHEMA_STORE}'''\n",
    "\n",
    "netezza = f'''select \"netezza\" WAREHOUSE, run_timestamp RUN_TIMESTAMP, iteration_name ITERATION_NAME, concat_ws(\".\",DATABASE,schema,Name) TABLE_NAME, ATTNUM COL_ORDER, ATTNAME COL_NAME, DESCRIPTION COL_COMMENT, FORMAT_TYPE DATA_TYPE from {NETEZZA_SCHEMA_STORE}'''\n",
    "\n",
    "snowflake = f'''select \"snowflake\" WAREHOUSE, run_timestamp RUN_TIMESTAMP, iteration_name ITERATION_NAME, concat_ws(\".\", TABLE_CATALOG, TABLE_SCHEMA, TABLE_NAME) TABLE_NAME, ORDINAL_POSITION COL_ORDER, COLUMN_NAME COL_NAME, COMMENT COL_COMMENT, GENERATED_DATA_TYPE DATA_TYPE from (select * ,\n",
    "   case\n",
    "     lower(DATA_TYPE)\n",
    "     when 'number' then concat(DATA_TYPE,\"(\",NUMERIC_PRECISION,\",\",NUMERIC_SCALE,\")\")\n",
    "     when 'text' then concat(DATA_TYPE,\"(\",data_length,\")\")\n",
    "     else DATA_TYPE\n",
    "   end as GENERATED_DATA_TYPE\n",
    "from {SNOWFLAKE_SCHEMA_STORE})x'''\n",
    "\n",
    "oracle = f'''select \"oracle\" WAREHOUSE, run_timestamp RUN_TIMESTAMP, iteration_name ITERATION_NAME, concat_ws(\".\",OWNER,TABLE_NAME) TABLE_NAME, COLUMN_ID COL_ORDER, COLUMN_NAME COL_NAME, COMMENTS COL_COMMENT, GENERATED_DATA_TYPE DATA_TYPE from (select * ,\n",
    "   case\n",
    "     lower(DATA_TYPE)\n",
    "     when 'number' then concat(DATA_TYPE,\"(\",DATA_PRECISION,\",\",DATA_SCALE,\")\")\n",
    "     when 'varchar2' then concat(DATA_TYPE,\"(\",DATA_LENGTH,\")\")\n",
    "     when 'nvarchar2' then concat(DATA_TYPE,\"(\",DATA_LENGTH,\")\")\n",
    "     else DATA_TYPE\n",
    "   end as GENERATED_DATA_TYPE\n",
    "from {ORACLE_SCHEMA_STORE})x'''\n",
    "\n",
    "mssql = f'''select \"mssql\" WAREHOUSE, run_timestamp RUN_TIMESTAMP, iteration_name ITERATION_NAME, concat_ws(\".\",TABLE_SCHEMA,TABLE_NAME) TABLE_NAME, ORDINAL_POSITION COL_ORDER, COLUMN_NAME COL_NAME, COLUMN_COMMENT COL_COMMENT, DATA_TYPE DATA_TYPE from {MSSQL_SCHEMA_STORE}'''\n",
    "\n",
    "teradata = f'''select \"teradata\" WAREHOUSE, run_timestamp RUN_TIMESTAMP, iteration_name ITERATION_NAME, concat_ws(\".\",DatabaseName,TableName) TABLE_NAME, ColumnOrder COL_ORDER, ColumnName COL_NAME, CommentString COL_COMMENT, GENERATED_DATA_TYPE DATA_TYPE  from (select * ,\n",
    "  case\n",
    "    lower(DATA_TYPE)\n",
    "    when 'decimal' then concat(DATA_TYPE,\"(\",DecimalTotalDigits,\",\",DecimalFractionalDigits,\")\")\n",
    "    when 'byte' then concat(DATA_TYPE,\"(\",ColumnLength,\")\")\n",
    "    when 'varbyte' then concat(DATA_TYPE,\"(\",ColumnLength,\")\")\n",
    "    when 'char' then concat(DATA_TYPE,\"(\",ColumnLength,\")\")\n",
    "    when 'varchar' then concat(DATA_TYPE,\"(\",ColumnLength,\")\")\n",
    "    else DATA_TYPE\n",
    "  end as GENERATED_DATA_TYPE \n",
    "from {TERADATA_SCHEMA_STORE})x'''\n",
    "\n",
    "hive = f'''select \"hive\" WAREHOUSE, run_timestamp RUN_TIMESTAMP, iteration_name ITERATION_NAME, concat_ws(\".\",db_name,table_name) TABLE_NAME, original_order COL_ORDER, col_name COL_NAME, comment COL_COMMENT, data_type DATA_TYPE from {HIVE_SCHEMA_STORE}'''\n",
    " \n",
    "\n",
    "if spark.catalog.tableExists(DATABRICKS_SCHEMA_STORE):\n",
    "  sqls.append(databricks)\n",
    "if spark.catalog.tableExists(NETEZZA_SCHEMA_STORE):\n",
    "  sqls.append(netezza)\n",
    "if spark.catalog.tableExists(SNOWFLAKE_SCHEMA_STORE):\n",
    "  sqls.append(snowflake)\n",
    "if spark.catalog.tableExists(ORACLE_SCHEMA_STORE):\n",
    "  sqls.append(oracle)\n",
    "if spark.catalog.tableExists(MSSQL_SCHEMA_STORE):\n",
    "  sqls.append(mssql)\n",
    "if spark.catalog.tableExists(TERADATA_SCHEMA_STORE):\n",
    "  sqls.append(teradata)\n",
    "if spark.catalog.tableExists(HIVE_SCHEMA_STORE):\n",
    "  sqls.append(hive)\n",
    "\n",
    "sql = \" UNION \".join(sqls)\n",
    "spark.sql(sql)\n",
    "\n",
    "# spark.sql(f'''CREATE OR REPLACE TEMPORARY VIEW schema_store_catalog_v as\n",
    "# select \"databricks\" WAREHOUSE, run_timestamp RUN_TIMESTAMP, iteration_name ITERATION_NAME, concat_ws(\".\",db_name,table_name) TABLE_NAME, original_order COL_ORDER, col_name COL_NAME, comment COL_COMMENT, data_type DATA_TYPE from {DATABRICKS_SCHEMA_STORE}\n",
    "# UNION\n",
    "# select \"netezza\" WAREHOUSE, run_timestamp RUN_TIMESTAMP, iteration_name ITERATION_NAME, concat_ws(\".\",DATABASE,schema,Name) TABLE_NAME, ATTNUM COL_ORDER, ATTNAME COL_NAME, DESCRIPTION COL_COMMENT, FORMAT_TYPE DATA_TYPE from {NETEZZA_SCHEMA_STORE}\n",
    "# UNION\n",
    "# select \"snowflake\" WAREHOUSE, run_timestamp RUN_TIMESTAMP, iteration_name ITERATION_NAME, concat_ws(\".\", TABLE_CATALOG, TABLE_SCHEMA, TABLE_NAME) TABLE_NAME, ORDINAL_POSITION COL_ORDER, COLUMN_NAME COL_NAME, COMMENT COL_COMMENT, GENERATED_DATA_TYPE DATA_TYPE from (select * ,\n",
    "#    case\n",
    "#      lower(DATA_TYPE)\n",
    "#      when 'number' then concat(DATA_TYPE,\"(\",NUMERIC_PRECISION,\",\",NUMERIC_SCALE,\")\")\n",
    "#      when 'text' then concat(DATA_TYPE,\"(\",CHARACTER_MAXIMUM_LENGTH,\")\")\n",
    "#      else DATA_TYPE\n",
    "#    end as GENERATED_DATA_TYPE\n",
    "# from {SNOWFLAKE_SCHEMA_STORE})x\n",
    "# ''')"
   ]
  },
  {
   "cell_type": "code",
   "execution_count": 0,
   "metadata": {
    "application/vnd.databricks.v1+cell": {
     "cellMetadata": {
      "byteLimit": 2048000,
      "rowLimit": 10000
     },
     "inputWidgets": {},
     "nuid": "21570950-5639-4cb5-a456-9ad35d3833ef",
     "showTitle": false,
     "tableResultSettingsMap": {},
     "title": ""
    }
   },
   "outputs": [],
   "source": [
    "%python\n",
    "dbutils.widgets.combobox(\"01-Iteration Name\",\"\", [iteration_name[0] for iteration_name in spark.sql(f\"select iteration_name from (select distinct iteration_name, run_timestamp from {DATABRICKS_SCHEMA_STORE} order by run_timestamp desc)x\").collect()])\n",
    "iteration_name=dbutils.widgets.get(\"01-Iteration Name\")\n",
    "dbutils.widgets.dropdown(\"03-Additional Filters for Mismatch Chart only\",\"N/A\", [addtnl_filter[0] for addtnl_filter in spark.sql(f\"SELECT distinct addtnl_filter from {MISMATCH_METRICS}\").collect()])\n",
    "addtnl_filter=dbutils.widgets.get(\"03-Additional Filters for Mismatch Chart only\")\n",
    "dbutils.widgets.combobox(\"02-Table Family\",\"\", [table_family[0] for table_family in spark.sql(f\"SELECT distinct table_family from {MISMATCH_METRICS}\").collect()])\n",
    "table_family=dbutils.widgets.get(\"02-Table Family\")"
   ]
  },
  {
   "cell_type": "code",
   "execution_count": 0,
   "metadata": {
    "application/vnd.databricks.v1+cell": {
     "cellMetadata": {
      "byteLimit": 2048000,
      "rowLimit": 10000
     },
     "inputWidgets": {},
     "nuid": "dc34876c-c8af-42de-9df8-4491334ba1f8",
     "showTitle": false,
     "tableResultSettingsMap": {},
     "title": ""
    }
   },
   "outputs": [
    {
     "output_type": "display_data",
     "data": {
      "text/plain": [
       "Databricks visualization. Run in Databricks to view."
      ]
     },
     "metadata": {
      "application/vnd.databricks.v1.subcommand+json": {
       "baseErrorDetails": null,
       "bindings": {},
       "collapsed": false,
       "command": "%python\ndisplay(spark.sql(f'''select workflow_name, table_family, src_table, tgt_warehouse, tgt_table, tgt_primary_keys from (with src_details as (\n        select\n        a.*,\n        b.warehouse src_warehouse,\n        b.jdbc_options src_jdbc_options\n        from\n        (select * from\n        {VALIDATION_MAPPING_TABLE} where table_family in ('{table_family}'))a\n        left outer join {TABLE_CONFIG_TABLE} b on a.src_connection_name = b.connection_name\n        )\n        select\n        a.*,\n        b.warehouse tgt_warehouse,\n        b.jdbc_options tgt_jdbc_options\n        from\n        src_details a\n        left outer join {TABLE_CONFIG_TABLE} b on a.tgt_connection_name = b.connection_name)x where table_family ='{table_family}' '''))",
       "commandTitle": "Visualization 1",
       "commandType": "auto",
       "commandVersion": 0,
       "commentThread": [],
       "commentsVisible": false,
       "contentSha256Hex": null,
       "customPlotOptions": {
        "redashChart": [
         {
          "key": "type",
          "value": "DETAILS"
         },
         {
          "key": "options",
          "value": {
           "columns": [
            {
             "name": "workflow_name",
             "title": "workflow_name",
             "type": "string"
            },
            {
             "name": "table_family",
             "title": "table_family",
             "type": "string"
            },
            {
             "name": "src_warehouse",
             "title": "src_warehouse",
             "type": "string"
            },
            {
             "name": "src_table",
             "title": "src_table",
             "type": "string"
            },
            {
             "name": "tgt_warehouse",
             "title": "tgt_warehouse",
             "type": "string"
            },
            {
             "name": "tgt_table",
             "title": "tgt_table",
             "type": "string"
            },
            {
             "name": "col_mapping",
             "title": "col_mapping",
             "type": "string"
            },
            {
             "name": "tgt_primary_keys",
             "title": "tgt_primary_keys",
             "type": "string"
            },
            {
             "name": "addtnl_filters",
             "title": "addtnl_filters",
             "type": "string"
            },
            {
             "name": "validation_data_db",
             "title": "validation_data_db",
             "type": "string"
            },
            {
             "name": "general_validation_is_active",
             "title": "general_validation_is_active",
             "type": "boolean"
            }
           ],
           "version": 1
          }
         }
        ]
       },
       "datasetPreviewNameToCmdIdMap": {},
       "diffDeletes": [],
       "diffInserts": [],
       "displayType": "redashChart",
       "error": null,
       "errorDetails": null,
       "errorSummary": null,
       "errorTraceType": null,
       "finishTime": 0,
       "globalVars": {},
       "guid": "",
       "height": "auto",
       "hideCommandCode": false,
       "hideCommandResult": false,
       "iPythonMetadata": null,
       "inputWidgets": {},
       "isLockedInExamMode": false,
       "latestUser": "a user",
       "latestUserId": null,
       "listResultMetadata": null,
       "metadata": {
        "byteLimit": 2048000,
        "rowLimit": 10000
       },
       "nuid": "ba622489-c1df-4b64-a4df-e5d35ce35013",
       "origId": 0,
       "parentHierarchy": [],
       "pivotAggregation": null,
       "pivotColumns": null,
       "position": 1.328125,
       "resultDbfsErrorMessage": null,
       "resultDbfsStatus": "INLINED_IN_TREE",
       "results": null,
       "showCommandTitle": false,
       "startTime": 0,
       "state": "input",
       "streamStates": {},
       "subcommandOptions": {},
       "submitTime": 0,
       "subtype": "tableResultSubCmd.visualization",
       "tableResultIndex": 0,
       "tableResultSettingsMap": {},
       "useConsistentColors": false,
       "version": "CommandV1",
       "width": "auto",
       "workflows": null,
       "xColumns": null,
       "yColumns": null
      }
     },
     "output_type": "display_data"
    }
   ],
   "source": [
    "%python\n",
    "display(spark.sql(f'''select workflow_name, table_family, src_table, tgt_warehouse, tgt_table, tgt_primary_keys from (with src_details as (\n",
    "        select\n",
    "        a.*,\n",
    "        b.warehouse src_warehouse,\n",
    "        b.jdbc_options src_jdbc_options\n",
    "        from\n",
    "        (select * from\n",
    "        {VALIDATION_MAPPING_TABLE} where table_family in ('{table_family}'))a\n",
    "        left outer join {TABLE_CONFIG_TABLE} b on a.src_connection_name = b.connection_name\n",
    "        )\n",
    "        select\n",
    "        a.*,\n",
    "        b.warehouse tgt_warehouse,\n",
    "        b.jdbc_options tgt_jdbc_options\n",
    "        from\n",
    "        src_details a\n",
    "        left outer join {TABLE_CONFIG_TABLE} b on a.tgt_connection_name = b.connection_name)x where table_family ='{table_family}' '''))"
   ]
  },
  {
   "cell_type": "code",
   "execution_count": 0,
   "metadata": {
    "application/vnd.databricks.v1+cell": {
     "cellMetadata": {
      "byteLimit": 2048000,
      "rowLimit": 10000
     },
     "inputWidgets": {},
     "nuid": "579fa20c-c24d-4c60-ba34-46c7d998cffa",
     "showTitle": false,
     "tableResultSettingsMap": {},
     "title": ""
    }
   },
   "outputs": [],
   "source": [
    "%python\n",
    "def readValidationTableList(validation_mapping_table,table_config_table):\n",
    "  config_sql = f'''\n",
    "        with src_details as (\n",
    "        select\n",
    "        a.*,\n",
    "        b.warehouse src_warehouse,\n",
    "        b.jdbc_options src_jdbc_options\n",
    "        from\n",
    "        (select * from\n",
    "        {validation_mapping_table} where table_family in ('{table_family}'))a\n",
    "        left outer join {table_config_table} b on a.src_connection_name = b.connection_name\n",
    "        )\n",
    "        select\n",
    "        a.*,\n",
    "        b.warehouse tgt_warehouse,\n",
    "        b.jdbc_options tgt_jdbc_options\n",
    "        from\n",
    "        src_details a\n",
    "        left outer join {table_config_table} b on a.tgt_connection_name = b.connection_name'''\n",
    "  \n",
    "  table_mappings = spark.sql(config_sql).collect()[0]\n",
    "  return table_mappings\n",
    "\n",
    "table_mapping = readValidationTableList(VALIDATION_MAPPING_TABLE,TABLE_CONFIG_TABLE)\n",
    "src_wrhse = table_mapping[\"src_warehouse\"]\n",
    "tgt_wrhse = table_mapping[\"tgt_warehouse\"]\n",
    "src_tbl = table_mapping[\"src_table\"]\n",
    "tgt_tbl = table_mapping[\"tgt_table\"]\n",
    "table_family = table_mapping[\"table_family\"]\n",
    "print(src_wrhse, tgt_wrhse, src_tbl, tgt_tbl)"
   ]
  },
  {
   "cell_type": "code",
   "execution_count": 0,
   "metadata": {
    "application/vnd.databricks.v1+cell": {
     "cellMetadata": {
      "byteLimit": 2048000,
      "rowLimit": 10000
     },
     "inputWidgets": {},
     "nuid": "fa522543-2cec-4e2a-8fe1-74027335c677",
     "showTitle": false,
     "tableResultSettingsMap": {},
     "title": ""
    }
   },
   "outputs": [],
   "source": [
    "%python\n",
    "mismatch_exclude_fields = table_mapping[\"mismatch_exclude_fields\"]\n",
    "if 'replicate_io_split_key' in mismatch_exclude_fields.split(\"|\"):\n",
    "  print(\"Blaa\")\n",
    "else:\n",
    "  print(\"Bl\")"
   ]
  },
  {
   "cell_type": "code",
   "execution_count": 0,
   "metadata": {
    "application/vnd.databricks.v1+cell": {
     "cellMetadata": {
      "byteLimit": 2048000,
      "rowLimit": 10000
     },
     "inputWidgets": {},
     "nuid": "e3cd600f-9443-410f-ad1e-c67602bc235f",
     "showTitle": false,
     "tableResultSettingsMap": {},
     "title": ""
    }
   },
   "outputs": [
    {
     "output_type": "display_data",
     "data": {
      "text/plain": [
       "Databricks visualization. Run in Databricks to view."
      ]
     },
     "metadata": {
      "application/vnd.databricks.v1.subcommand+json": {
       "baseErrorDetails": null,
       "bindings": {},
       "collapsed": false,
       "command": "%python\ndisplay(spark.sql(f'''select * from (select *, total_record_count-distinct_key_count as primary_key_violations from {PRIMARY_KEY_VALIDATION}  where iteration_name =\"{iteration_name}\" and lower(table_family) = lower(\"{table_family}\") )a where primary_key_violations !=0'''))",
       "commandTitle": "Visualization 1",
       "commandType": "auto",
       "commandVersion": 0,
       "commentThread": [],
       "commentsVisible": false,
       "contentSha256Hex": null,
       "customPlotOptions": {
        "redashChart": [
         {
          "key": "type",
          "value": "TABLE"
         },
         {
          "key": "options",
          "value": {
           "columns": [
            {
             "alignContent": "right",
             "allowHTML": false,
             "allowSearch": false,
             "booleanValues": [
              "false",
              "true"
             ],
             "dateTimeFormat": "DD/MM/YYYY HH:mm:ss.SSS",
             "displayAs": "datetime",
             "highlightLinks": false,
             "imageHeight": "",
             "imageTitleTemplate": "{{ @ }}",
             "imageUrlTemplate": "{{ @ }}",
             "imageWidth": "",
             "linkOpenInNewTab": true,
             "linkTextTemplate": "{{ @ }}",
             "linkTitleTemplate": "{{ @ }}",
             "linkUrlTemplate": "{{ @ }}",
             "name": "run_timestamp",
             "order": 100000,
             "preserveWhitespace": false,
             "title": "run_timestamp",
             "type": "datetime",
             "useMonospaceFont": false,
             "visible": true
            },
            {
             "alignContent": "left",
             "allowHTML": false,
             "allowSearch": false,
             "booleanValues": [
              "false",
              "true"
             ],
             "displayAs": "string",
             "highlightLinks": false,
             "imageHeight": "",
             "imageTitleTemplate": "{{ @ }}",
             "imageUrlTemplate": "{{ @ }}",
             "imageWidth": "",
             "linkOpenInNewTab": true,
             "linkTextTemplate": "{{ @ }}",
             "linkTitleTemplate": "{{ @ }}",
             "linkUrlTemplate": "{{ @ }}",
             "name": "table_family",
             "order": 100001,
             "preserveWhitespace": false,
             "title": "table_family",
             "type": "string",
             "useMonospaceFont": false,
             "visible": true
            },
            {
             "alignContent": "left",
             "allowHTML": false,
             "allowSearch": false,
             "booleanValues": [
              "false",
              "true"
             ],
             "displayAs": "string",
             "highlightLinks": false,
             "imageHeight": "",
             "imageTitleTemplate": "{{ @ }}",
             "imageUrlTemplate": "{{ @ }}",
             "imageWidth": "",
             "linkOpenInNewTab": true,
             "linkTextTemplate": "{{ @ }}",
             "linkTitleTemplate": "{{ @ }}",
             "linkUrlTemplate": "{{ @ }}",
             "name": "table_name",
             "order": 100002,
             "preserveWhitespace": false,
             "title": "table_name",
             "type": "string",
             "useMonospaceFont": false,
             "visible": true
            },
            {
             "alignContent": "right",
             "allowHTML": false,
             "allowSearch": false,
             "booleanValues": [
              "false",
              "true"
             ],
             "displayAs": "number",
             "highlightLinks": false,
             "imageHeight": "",
             "imageTitleTemplate": "{{ @ }}",
             "imageUrlTemplate": "{{ @ }}",
             "imageWidth": "",
             "linkOpenInNewTab": true,
             "linkTextTemplate": "{{ @ }}",
             "linkTitleTemplate": "{{ @ }}",
             "linkUrlTemplate": "{{ @ }}",
             "name": "total_record_count",
             "numberFormat": "0",
             "order": 100003,
             "preserveWhitespace": false,
             "title": "total_record_count",
             "type": "integer",
             "useMonospaceFont": false,
             "visible": true
            },
            {
             "alignContent": "right",
             "allowHTML": false,
             "allowSearch": false,
             "booleanValues": [
              "false",
              "true"
             ],
             "displayAs": "number",
             "highlightLinks": false,
             "imageHeight": "",
             "imageTitleTemplate": "{{ @ }}",
             "imageUrlTemplate": "{{ @ }}",
             "imageWidth": "",
             "linkOpenInNewTab": true,
             "linkTextTemplate": "{{ @ }}",
             "linkTitleTemplate": "{{ @ }}",
             "linkUrlTemplate": "{{ @ }}",
             "name": "distinct_key_count",
             "numberFormat": "0",
             "order": 100004,
             "preserveWhitespace": false,
             "title": "distinct_key_count",
             "type": "integer",
             "useMonospaceFont": false,
             "visible": true
            },
            {
             "alignContent": "left",
             "allowHTML": false,
             "allowSearch": false,
             "booleanValues": [
              "false",
              "true"
             ],
             "displayAs": "string",
             "highlightLinks": false,
             "imageHeight": "",
             "imageTitleTemplate": "{{ @ }}",
             "imageUrlTemplate": "{{ @ }}",
             "imageWidth": "",
             "linkOpenInNewTab": true,
             "linkTextTemplate": "{{ @ }}",
             "linkTitleTemplate": "{{ @ }}",
             "linkUrlTemplate": "{{ @ }}",
             "name": "iteration_name",
             "order": 100005,
             "preserveWhitespace": false,
             "title": "iteration_name",
             "type": "string",
             "useMonospaceFont": false,
             "visible": true
            },
            {
             "alignContent": "right",
             "allowHTML": false,
             "allowSearch": false,
             "booleanValues": [
              "false",
              "true"
             ],
             "displayAs": "number",
             "highlightLinks": false,
             "imageHeight": "",
             "imageTitleTemplate": "{{ @ }}",
             "imageUrlTemplate": "{{ @ }}",
             "imageWidth": "",
             "linkOpenInNewTab": true,
             "linkTextTemplate": "{{ @ }}",
             "linkTitleTemplate": "{{ @ }}",
             "linkUrlTemplate": "{{ @ }}",
             "name": "primary_key_violations",
             "numberFormat": "0",
             "order": 100006,
             "preserveWhitespace": false,
             "title": "primary_key_violations",
             "type": "integer",
             "useMonospaceFont": false,
             "visible": true
            }
           ],
           "condensed": true,
           "itemsPerPage": 25,
           "paginationSize": "default",
           "version": 2,
           "withRowNumber": false
          }
         }
        ]
       },
       "datasetPreviewNameToCmdIdMap": {},
       "diffDeletes": [],
       "diffInserts": [],
       "displayType": "redashChart",
       "error": null,
       "errorDetails": null,
       "errorSummary": null,
       "errorTraceType": null,
       "finishTime": 0,
       "globalVars": {},
       "guid": "",
       "height": "auto",
       "hideCommandCode": false,
       "hideCommandResult": false,
       "iPythonMetadata": null,
       "inputWidgets": {},
       "isLockedInExamMode": false,
       "latestUser": "a user",
       "latestUserId": null,
       "listResultMetadata": null,
       "metadata": {
        "byteLimit": 2048000,
        "rowLimit": 10000
       },
       "nuid": "be01a0fb-fa3c-4f04-8557-2abd0bceccc8",
       "origId": 0,
       "parentHierarchy": [],
       "pivotAggregation": null,
       "pivotColumns": null,
       "position": 1.84375,
       "resultDbfsErrorMessage": null,
       "resultDbfsStatus": "INLINED_IN_TREE",
       "results": null,
       "showCommandTitle": false,
       "startTime": 0,
       "state": "input",
       "streamStates": {},
       "subcommandOptions": {},
       "submitTime": 0,
       "subtype": "tableResultSubCmd.visualization",
       "tableResultIndex": 0,
       "tableResultSettingsMap": {},
       "useConsistentColors": false,
       "version": "CommandV1",
       "width": "auto",
       "workflows": null,
       "xColumns": null,
       "yColumns": null
      }
     },
     "output_type": "display_data"
    }
   ],
   "source": [
    "%python\n",
    "display(spark.sql(f'''select * from (select *, total_record_count-distinct_key_count as primary_key_violations from {PRIMARY_KEY_VALIDATION}  where iteration_name =\"{iteration_name}\" and lower(table_family) = lower(\"{table_family}\") )a where primary_key_violations !=0'''))"
   ]
  },
  {
   "cell_type": "markdown",
   "metadata": {
    "application/vnd.databricks.v1+cell": {
     "cellMetadata": {
      "byteLimit": 2048000,
      "rowLimit": 10000
     },
     "inputWidgets": {},
     "nuid": "db5ad060-2bea-4bc8-ab2f-bd94a282b855",
     "showTitle": false,
     "tableResultSettingsMap": {},
     "title": ""
    }
   },
   "source": [
    "#Schema Validation\n",
    "* Compares the Column Names, Column Comments, Data Types of the Source and Target Tables\n",
    "* Also checks the compatibility between the datatypes that have mismatches "
   ]
  },
  {
   "cell_type": "code",
   "execution_count": 0,
   "metadata": {
    "application/vnd.databricks.v1+cell": {
     "cellMetadata": {
      "byteLimit": 2048000,
      "rowLimit": 10000
     },
     "inputWidgets": {},
     "nuid": "c1fa20b2-56ff-4547-97af-75371ed4de01",
     "showTitle": false,
     "tableResultSettingsMap": {},
     "title": ""
    }
   },
   "outputs": [],
   "source": [
    "%python\n",
    "spark.sql(f'''\n",
    "    select col_name, \n",
    "    IF(array_contains (split('{mismatch_exclude_fields}','\\\\\\|'),tgt_col_name) OR array_contains (split('{mismatch_exclude_fields}','\\\\\\|'),src_col_name), concat(\"BYPASS_\",col_name_compare),col_name_compare) as col_name_compare, \n",
    "    IF(array_contains (split('{mismatch_exclude_fields}','\\\\\\|'),tgt_col_name) OR array_contains (split('{mismatch_exclude_fields}','\\\\\\|'),src_col_name), concat(\"BYPASS_\",data_type_compare),data_type_compare) as data_type_compare, \n",
    "    IF(array_contains (split('{mismatch_exclude_fields}','\\\\\\|'),tgt_col_name) OR array_contains (split('{mismatch_exclude_fields}','\\\\\\|'),src_col_name), concat(\"BYPASS_\",comment_compare),comment_compare) as comment_compare, \n",
    "    IF(array_contains (split('{mismatch_exclude_fields}','\\\\\\|'),tgt_col_name) OR array_contains (split('{mismatch_exclude_fields}','\\\\\\|'),src_col_name), concat(\"BYPASS_\",datatype_congruency),datatype_congruency) as datatype_congruency\n",
    "    from (                      \n",
    "    select *,\n",
    "            IF(\n",
    "        lower(x.src_COL_NAME) <=> lower(x.tgt_COL_NAME),\n",
    "        'MATCH',\n",
    "        'MISMATCH'\n",
    "    ) as col_name_compare,\n",
    "    IF(\n",
    "        lower(x.src_DATA_TYPE) <=> lower(x.tgt_DATA_TYPE),\n",
    "        'MATCH',\n",
    "        'MISMATCH'\n",
    "    ) as data_type_compare,\n",
    "    IF(\n",
    "        lower(x.src_COL_COMMENT) <=> lower(x.tgt_COL_COMMENT),\n",
    "        'MATCH',\n",
    "        'MISMATCH'\n",
    "    ) as comment_compare,\n",
    "    if(\n",
    "        rlike(\n",
    "            lower(src_data_type),\n",
    "            {src_wrhse}_compatibility_regex),\n",
    "        true,\n",
    "        false\n",
    "        )as data_type_compatibility,\n",
    "    if(y.has_precision,  \n",
    "    if(\n",
    "        (\n",
    "        regexp_extract(\n",
    "            lower(tgt_data_type),\n",
    "            {src_wrhse}_compatibility_regex,\n",
    "            2\n",
    "        )\n",
    "        ) -(\n",
    "        regexp_extract(\n",
    "            lower(src_data_type),\n",
    "            {src_wrhse}_compatibility_regex,\n",
    "            2\n",
    "        )\n",
    "        ) >= 0,\n",
    "        true,\n",
    "        false\n",
    "    ),true) precision_compatible,\n",
    "    if(y.has_precision,\n",
    "        if(\n",
    "        (\n",
    "        nvl(int(regexp_extract(\n",
    "            lower(tgt_data_type),\n",
    "            {src_wrhse}_compatibility_regex,\n",
    "            4\n",
    "        )),0)\n",
    "        ) -(\n",
    "        nvl(int(regexp_extract(\n",
    "            lower(src_data_type),\n",
    "            {src_wrhse}_compatibility_regex,\n",
    "            4\n",
    "        )),0)\n",
    "        ) >= 0,\n",
    "        true,\n",
    "        false\n",
    "    ),true) scale_compatible,\n",
    "    (data_type_compatibility and precision_compatible and scale_compatible) final_compatibility,\n",
    "    IF(\n",
    "        final_compatibility,\n",
    "        'MATCH',\n",
    "        'MISMATCH'\n",
    "    ) as datatype_congruency\n",
    "    from (select a.iteration_name, a.table_name src_table_name, b.table_name tgt_table_name, coalesce(a.col_name,b.col_name) as col_name, a.col_name src_col_name, b.col_name tgt_col_name, coalesce(a.col_order, b.col_order) col_order, a.data_type src_data_type, b.data_type tgt_data_type, a.col_comment src_col_comment, b.col_comment tgt_col_comment from (select * from schema_store_catalog_v where lower(warehouse) = lower('{src_wrhse}') and iteration_name =\"{iteration_name}\" and lower(TABLE_NAME) = lower(\"{src_tbl}\"))a\n",
    "    FULL OUTER JOIN \n",
    "    (select * from schema_store_catalog_v where lower(warehouse) = lower('{tgt_wrhse}') and iteration_name =\"{iteration_name}\" and lower(TABLE_NAME) =lower(\"{tgt_tbl}\"))b\n",
    "    ON lower(a.COL_NAME) = lower(b.COL_NAME)\n",
    "    -- where lower(a.DATA_TYPE) <> lower(b.DATA_TYPE)\n",
    "    order by COL_ORDER) x\n",
    "    left outer join (select data_type lkp_data_type, warehouse, data_type data_type_aliases, has_precision, {src_wrhse}_compatibility_regex from {DATA_TYPE_COMPATIBILITY_MATRIX}\n",
    "    where lower(warehouse) = lower('{tgt_wrhse}')) y\n",
    "    on rlike(lower(x.tgt_data_type),lkp_data_type)\n",
    "    -- where {src_wrhse}_compatibility_regex is not null\n",
    "    )q order by COL_ORDER\n",
    "    ''').display()"
   ]
  },
  {
   "cell_type": "code",
   "execution_count": 0,
   "metadata": {
    "application/vnd.databricks.v1+cell": {
     "cellMetadata": {
      "byteLimit": 2048000,
      "rowLimit": 10000
     },
     "inputWidgets": {},
     "nuid": "95222427-a136-4b04-9a08-113c9c5375c1",
     "showTitle": false,
     "tableResultSettingsMap": {},
     "title": ""
    }
   },
   "outputs": [],
   "source": [
    "%python\n",
    "spark.sql(f'''select a.iteration_name, a.table_name src_table_name, b.table_name tgt_table_name, coalesce(a.col_name,b.col_name) as col_name, a.col_name src_col_name, b.col_name tgt_col_name, a.data_type src_data_type, b.data_type tgt_data_type, a.col_comment src_col_comment, b.col_comment tgt_col_comment from (select * from schema_store_catalog_v where lower(warehouse) = lower('{src_wrhse}') and iteration_name =\"{iteration_name}\" and lower(TABLE_NAME) = lower(\"{src_tbl}\"))a\n",
    "    FULL OUTER JOIN \n",
    "    (select * from schema_store_catalog_v where lower(warehouse) = lower('{tgt_wrhse}') and iteration_name =\"{iteration_name}\" and lower(TABLE_NAME) =lower(\"{tgt_tbl}\"))b\n",
    "    ON lower(a.COL_NAME) = lower(b.COL_NAME)\n",
    "    -- where lower(a.DATA_TYPE) <> lower(b.DATA_TYPE)\n",
    "    order by b.COL_ORDER''').display()"
   ]
  },
  {
   "cell_type": "code",
   "execution_count": 0,
   "metadata": {
    "application/vnd.databricks.v1+cell": {
     "cellMetadata": {
      "byteLimit": 2048000,
      "rowLimit": 10000
     },
     "inputWidgets": {},
     "nuid": "75d41a98-5d10-4869-a549-aff94017b302",
     "showTitle": true,
     "tableResultSettingsMap": {},
     "title": "Ordinal Position Validation"
    }
   },
   "outputs": [
    {
     "output_type": "display_data",
     "data": {
      "text/plain": [
       "Databricks visualization. Run in Databricks to view."
      ]
     },
     "metadata": {
      "application/vnd.databricks.v1.subcommand+json": {
       "baseErrorDetails": null,
       "bindings": {},
       "collapsed": false,
       "command": "%python\n__backend_agg_display_orig = display\n__backend_agg_dfs = []\ndef __backend_agg_display_new(df):\n    __backend_agg_df_modules = [\"pandas.core.frame\", \"databricks.koalas.frame\", \"pyspark.sql.dataframe\", \"pyspark.pandas.frame\", \"pyspark.sql.connect.dataframe\"]\n    if (type(df).__module__ in __backend_agg_df_modules and type(df).__name__ == 'DataFrame') or isinstance(df, list):\n        __backend_agg_dfs.append(df)\n\ndisplay = __backend_agg_display_new\n\ndef __backend_agg_user_code_fn():\n    import base64\n    exec(base64.standard_b64decode(\"ZGlzcGxheShzcGFyay5zcWwoZicnJwpTRUxFQ1QKICBhLklURVJBVElPTl9OQU1FLAogIGEuVEFCTEVfTkFNRSBTUkNfVEFCTEVfTkFNRSwKICBiLlRBQkxFX05BTUUgVEdUX1RBQkxFX05BTUUsCiAgYS5DT0xfTkFNRSBTUkNfQ09MX05BTUUsCiAgYi5DT0xfTkFNRSBUR1RfQ09MX05BTUUsCiAgSUYoCiAgICBsb3dlcihhLkNPTF9OQU1FKSA8PT4gbG93ZXIoYi5DT0xfTkFNRSksCiAgICAnTUFUQ0gnLAogICAgJ01JU01BVENIJwogICkgYXMgY29sX25hbWVfY29tcGFyZQpmcm9tCihzZWxlY3QgKiBmcm9tIHNjaGVtYV9zdG9yZV9jYXRhbG9nX3Ygd2hlcmUgbG93ZXIod2FyZWhvdXNlKSA9IGxvd2VyKCd7c3JjX3dyaHNlfScpIGFuZCBpdGVyYXRpb25fbmFtZSA9IntpdGVyYXRpb25fbmFtZX0iIGFuZCBsb3dlcihUQUJMRV9OQU1FKSA9IGxvd2VyKCJ7c3JjX3RibH0iKSlhCkZVTEwgT1VURVIgSk9JTiAKKHNlbGVjdCAqIGZyb20gc2NoZW1hX3N0b3JlX2NhdGFsb2dfdiB3aGVyZSBsb3dlcih3YXJlaG91c2UpID0gbG93ZXIoJ3t0Z3Rfd3Joc2V9JykgYW5kIGl0ZXJhdGlvbl9uYW1lID0ie2l0ZXJhdGlvbl9uYW1lfSIgYW5kIGxvd2VyKFRBQkxFX05BTUUpID0gbG93ZXIoInt0Z3RfdGJsfSIpKWIKT04gYS5DT0xfT1JERVIgPSBiLkNPTF9PUkRFUgpvcmRlciBieSBhLkNPTF9PUkRFUgonJycpKQ==\").decode())\n\ntry:\n    # run user code\n    __backend_agg_user_code_fn()\n\n    #reset display function\n    display = __backend_agg_display_orig\n\n    if len(__backend_agg_dfs) > 0:\n        # create a temp view\n        if type(__backend_agg_dfs[0]).__module__ == \"databricks.koalas.frame\":\n            # koalas dataframe\n            __backend_agg_dfs[0].to_spark().createOrReplaceTempView(\"DatabricksView961255e\")\n        elif type(__backend_agg_dfs[0]).__module__ == \"pandas.core.frame\" or isinstance(__backend_agg_dfs[0], list):\n            # pandas dataframe\n            spark.createDataFrame(__backend_agg_dfs[0]).createOrReplaceTempView(\"DatabricksView961255e\")\n        else:\n            __backend_agg_dfs[0].createOrReplaceTempView(\"DatabricksView961255e\")\n        #run backend agg\n        display(spark.sql(\"\"\"WITH q AS (select * from DatabricksView961255e) SELECT `SRC_COL_NAME`,COUNT(`col_name_compare`) `column_63fbcb43888`,`col_name_compare` FROM q GROUP BY `SRC_COL_NAME`,`col_name_compare`\"\"\"))\n    else:\n        displayHTML(\"dataframe no longer exists. If you're using dataframe.display(), use display(dataframe) instead.\")\n\n\nfinally:\n    spark.sql(\"drop view if exists DatabricksView961255e\")\n    display = __backend_agg_display_orig\n    del __backend_agg_display_new\n    del __backend_agg_display_orig\n    del __backend_agg_dfs\n    del __backend_agg_user_code_fn\n\n",
       "commandTitle": "ColumnNameOrdinalValidation",
       "commandType": "auto",
       "commandVersion": 0,
       "commentThread": [],
       "commentsVisible": false,
       "contentSha256Hex": null,
       "customPlotOptions": {
        "redashChart": [
         {
          "key": "type",
          "value": "CHART"
         },
         {
          "key": "options",
          "value": {
           "alignYAxesAtZero": true,
           "coefficient": 1,
           "columnConfigurationMap": {
            "series": {
             "column": "col_name_compare",
             "id": "column_63fbcb43889"
            },
            "x": {
             "column": "SRC_COL_NAME",
             "id": "column_63fbcb43887"
            },
            "y": [
             {
              "column": "col_name_compare",
              "id": "column_63fbcb43888",
              "transform": "COUNT"
             }
            ]
           },
           "dateTimeFormat": "DD/MM/YYYY HH:mm",
           "direction": {
            "type": "counterclockwise"
           },
           "error_y": {
            "type": "data",
            "visible": true
           },
           "globalSeriesType": "column",
           "hideYAxes": true,
           "isAggregationOn": true,
           "legend": {
            "traceorder": "normal"
           },
           "missingValuesAsZero": true,
           "numberFormat": "0,0[.]00000",
           "percentFormat": "0[.]00%",
           "series": {
            "error_y": {
             "type": "data",
             "visible": true
            },
            "stacking": "stack"
           },
           "seriesOptions": {
            "": {
             "color": "#A8D1D1"
            },
            "MATCH": {
             "color": "#A8D1D1"
            },
            "column_63fbcb43888": {
             "type": "column",
             "yAxis": 0
            }
           },
           "showDataLabels": false,
           "sizemode": "diameter",
           "sortX": true,
           "sortY": true,
           "swappedAxes": true,
           "textFormat": "",
           "useAggregationsUi": true,
           "valuesOptions": {},
           "version": 2,
           "xAxis": {
            "labels": {
             "enabled": true
            },
            "type": "-"
           },
           "yAxis": [
            {
             "type": "-"
            },
            {
             "opposite": true,
             "type": "-"
            }
           ]
          }
         }
        ]
       },
       "datasetPreviewNameToCmdIdMap": {},
       "diffDeletes": [],
       "diffInserts": [],
       "displayType": "redashChart",
       "error": null,
       "errorDetails": null,
       "errorSummary": null,
       "errorTraceType": null,
       "finishTime": 0,
       "globalVars": {},
       "guid": "",
       "height": "auto",
       "hideCommandCode": false,
       "hideCommandResult": false,
       "iPythonMetadata": null,
       "inputWidgets": {},
       "isLockedInExamMode": false,
       "latestUser": "a user",
       "latestUserId": null,
       "listResultMetadata": null,
       "metadata": {
        "byteLimit": 2048000,
        "rowLimit": 10000
       },
       "nuid": "75e739ff-8452-4d5d-bccc-1d7f30c6af73",
       "origId": 0,
       "parentHierarchy": [],
       "pivotAggregation": null,
       "pivotColumns": null,
       "position": 1.9375,
       "resultDbfsErrorMessage": null,
       "resultDbfsStatus": "INLINED_IN_TREE",
       "results": null,
       "showCommandTitle": false,
       "startTime": 0,
       "state": "input",
       "streamStates": {},
       "subcommandOptions": {
        "queryPlan": {
         "groups": [
          {
           "column": "SRC_COL_NAME",
           "type": "column"
          },
          {
           "column": "col_name_compare",
           "type": "column"
          }
         ],
         "selects": [
          {
           "column": "SRC_COL_NAME",
           "type": "column"
          },
          {
           "alias": "column_63fbcb43888",
           "args": [
            {
             "column": "col_name_compare",
             "type": "column"
            }
           ],
           "function": "COUNT",
           "type": "function"
          },
          {
           "column": "col_name_compare",
           "type": "column"
          }
         ]
        }
       },
       "submitTime": 0,
       "subtype": "tableResultSubCmd.visualization",
       "tableResultIndex": 0,
       "tableResultSettingsMap": {},
       "useConsistentColors": false,
       "version": "CommandV1",
       "width": "auto",
       "workflows": null,
       "xColumns": null,
       "yColumns": null
      }
     },
     "output_type": "display_data"
    }
   ],
   "source": [
    "%python\n",
    "display(spark.sql(f'''\n",
    "SELECT\n",
    "  a.ITERATION_NAME,\n",
    "  a.TABLE_NAME SRC_TABLE_NAME,\n",
    "  b.TABLE_NAME TGT_TABLE_NAME,\n",
    "  a.COL_NAME SRC_COL_NAME,\n",
    "  b.COL_NAME TGT_COL_NAME,\n",
    "  IF(\n",
    "    lower(a.COL_NAME) <=> lower(b.COL_NAME),\n",
    "    'MATCH',\n",
    "    'MISMATCH'\n",
    "  ) as col_name_compare\n",
    "from\n",
    "(select * from schema_store_catalog_v where lower(warehouse) = lower('{src_wrhse}') and iteration_name =\"{iteration_name}\" and lower(TABLE_NAME) = lower(\"{src_tbl}\"))a\n",
    "FULL OUTER JOIN \n",
    "(select * from schema_store_catalog_v where lower(warehouse) = lower('{tgt_wrhse}') and iteration_name =\"{iteration_name}\" and lower(TABLE_NAME) = lower(\"{tgt_tbl}\"))b\n",
    "ON a.COL_ORDER = b.COL_ORDER\n",
    "order by a.COL_ORDER\n",
    "'''))"
   ]
  },
  {
   "cell_type": "code",
   "execution_count": 0,
   "metadata": {
    "application/vnd.databricks.v1+cell": {
     "cellMetadata": {
      "byteLimit": 2048000,
      "rowLimit": 10000
     },
     "inputWidgets": {},
     "nuid": "abe479fb-e780-40c4-bf93-1bb031c14eb4",
     "showTitle": true,
     "tableResultSettingsMap": {},
     "title": "Schema Validation"
    }
   },
   "outputs": [
    {
     "output_type": "display_data",
     "data": {
      "text/plain": [
       "Databricks visualization. Run in Databricks to view."
      ]
     },
     "metadata": {
      "application/vnd.databricks.v1.subcommand+json": {
       "baseErrorDetails": null,
       "bindings": {},
       "collapsed": false,
       "command": "%python\n__backend_agg_display_orig = display\n__backend_agg_dfs = []\ndef __backend_agg_display_new(df):\n    __backend_agg_df_modules = [\"pandas.core.frame\", \"databricks.koalas.frame\", \"pyspark.sql.dataframe\", \"pyspark.pandas.frame\", \"pyspark.sql.connect.dataframe\"]\n    if (type(df).__module__ in __backend_agg_df_modules and type(df).__name__ == 'DataFrame') or isinstance(df, list):\n        __backend_agg_dfs.append(df)\n\ndisplay = __backend_agg_display_new\n\ndef __backend_agg_user_code_fn():\n    import base64\n    exec(base64.standard_b64decode(\"ZGlzcGxheShzcGFyay5zcWwoZicnJwpTRUxFQ1QKICBhLklURVJBVElPTl9OQU1FLAogIGEuVEFCTEVfTkFNRSBTUkNfVEFCTEVfTkFNRSwKICBiLlRBQkxFX05BTUUgVEdUX1RBQkxFX05BTUUsCiAgYS5DT0xfTkFNRSBTUkNfQ09MX05BTUUsCiAgYi5DT0xfTkFNRSBUR1RfQ09MX05BTUUsCiAgSUYoCiAgICBsb3dlcihhLkNPTF9OQU1FKSA8PT4gbG93ZXIoYi5DT0xfTkFNRSksCiAgICAnTUFUQ0gnLAogICAgJ01JU01BVENIJwogICkgYXMgY29sX25hbWVfY29tcGFyZSwKICBhLkRBVEFfVFlQRSBTUkNfREFUQV9UWVBFLAogIGIuREFUQV9UWVBFIFRHVF9EQVRBX1RZUEUsCiAgSUYoCiAgICBsb3dlcihhLkRBVEFfVFlQRSkgPD0+IGxvd2VyKGIuREFUQV9UWVBFKSwKICAgICdNQVRDSCcsCiAgICAnTUlTTUFUQ0gnCiAgKSBhcyBkYXRhX3R5cGVfY29tcGFyZSwKICBhLkNPTF9DT01NRU5UIFNSQ19DT0xfQ09NTUVOVCwKICBiLkNPTF9DT01NRU5UIFRHVF9DT0xfQ09NTUVOVCwKICBJRigKICAgIGxvd2VyKGEuQ09MX0NPTU1FTlQpIDw9PiBsb3dlcihiLkNPTF9DT01NRU5UKSwKICAgICdNQVRDSCcsCiAgICAnTUlTTUFUQ0gnCiAgKSBhcyBjb21tZW50X2NvbXBhcmUKZnJvbQooc2VsZWN0ICogZnJvbSBzY2hlbWFfc3RvcmVfY2F0YWxvZ192IHdoZXJlIGxvd2VyKHdhcmVob3VzZSkgPSBsb3dlcigne3NyY193cmhzZX0nKSBhbmQgaXRlcmF0aW9uX25hbWUgPSJ7aXRlcmF0aW9uX25hbWV9IiBhbmQgbG93ZXIoVEFCTEVfTkFNRSkgPSBsb3dlcigie3NyY190Ymx9IikpYQpGVUxMIE9VVEVSIEpPSU4gCihzZWxlY3QgKiBmcm9tIHNjaGVtYV9zdG9yZV9jYXRhbG9nX3Ygd2hlcmUgbG93ZXIod2FyZWhvdXNlKSA9IGxvd2VyKCd7dGd0X3dyaHNlfScpIGFuZCBpdGVyYXRpb25fbmFtZSA9IntpdGVyYXRpb25fbmFtZX0iIGFuZCBsb3dlcihUQUJMRV9OQU1FKSA9IGxvd2VyKCJ7dGd0X3RibH0iKSliCk9OIGxvd2VyKGEuQ09MX05BTUUpID0gbG93ZXIoYi5DT0xfTkFNRSkKb3JkZXIgYnkgYS5DT0xfT1JERVIKJycnKSk=\").decode())\n\ntry:\n    # run user code\n    __backend_agg_user_code_fn()\n\n    #reset display function\n    display = __backend_agg_display_orig\n\n    if len(__backend_agg_dfs) > 0:\n        # create a temp view\n        if type(__backend_agg_dfs[0]).__module__ == \"databricks.koalas.frame\":\n            # koalas dataframe\n            __backend_agg_dfs[0].to_spark().createOrReplaceTempView(\"DatabricksViewe2e2e4a\")\n        elif type(__backend_agg_dfs[0]).__module__ == \"pandas.core.frame\" or isinstance(__backend_agg_dfs[0], list):\n            # pandas dataframe\n            spark.createDataFrame(__backend_agg_dfs[0]).createOrReplaceTempView(\"DatabricksViewe2e2e4a\")\n        else:\n            __backend_agg_dfs[0].createOrReplaceTempView(\"DatabricksViewe2e2e4a\")\n        #run backend agg\n        display(spark.sql(\"\"\"WITH q AS (select * from DatabricksViewe2e2e4a) SELECT `SRC_COL_NAME`,COUNT(`col_name_compare`) `column_2efd6ad8765`,`col_name_compare` FROM q GROUP BY `SRC_COL_NAME`,`col_name_compare`\"\"\"))\n    else:\n        displayHTML(\"dataframe no longer exists. If you're using dataframe.display(), use display(dataframe) instead.\")\n\n\nfinally:\n    spark.sql(\"drop view if exists DatabricksViewe2e2e4a\")\n    display = __backend_agg_display_orig\n    del __backend_agg_display_new\n    del __backend_agg_display_orig\n    del __backend_agg_dfs\n    del __backend_agg_user_code_fn\n\n",
       "commandTitle": "ColumnName",
       "commandType": "auto",
       "commandVersion": 0,
       "commentThread": [],
       "commentsVisible": false,
       "contentSha256Hex": null,
       "customPlotOptions": {
        "redashChart": [
         {
          "key": "type",
          "value": "CHART"
         },
         {
          "key": "options",
          "value": {
           "alignYAxesAtZero": true,
           "coefficient": 1,
           "columnConfigurationMap": {
            "series": {
             "column": "col_name_compare",
             "id": "column_2efd6ad8766"
            },
            "x": {
             "column": "SRC_COL_NAME",
             "id": "column_f6d088d5632"
            },
            "y": [
             {
              "column": "col_name_compare",
              "id": "column_2efd6ad8765",
              "transform": "COUNT"
             }
            ]
           },
           "dateTimeFormat": "DD/MM/YYYY HH:mm",
           "direction": {
            "type": "counterclockwise"
           },
           "error_y": {
            "type": "data",
            "visible": true
           },
           "globalSeriesType": "column",
           "hideYAxes": true,
           "isAggregationOn": true,
           "legend": {
            "traceorder": "normal"
           },
           "missingValuesAsZero": true,
           "numberFormat": "0,0[.]00000",
           "percentFormat": "0[.]00%",
           "series": {
            "error_y": {
             "type": "data",
             "visible": true
            },
            "stacking": "stack"
           },
           "seriesOptions": {
            "MATCH": {
             "color": "#A8D1D1"
            },
            "MISMATCH": {
             "color": "#FF3621"
            },
            "column_2efd6ad8765": {
             "type": "column",
             "yAxis": 0
            }
           },
           "showDataLabels": false,
           "sizemode": "diameter",
           "sortX": true,
           "sortY": true,
           "swappedAxes": true,
           "textFormat": "",
           "useAggregationsUi": true,
           "valuesOptions": {},
           "version": 2,
           "xAxis": {
            "labels": {
             "enabled": true
            },
            "type": "-"
           },
           "yAxis": [
            {
             "type": "-"
            },
            {
             "opposite": true,
             "type": "-"
            }
           ]
          }
         }
        ]
       },
       "datasetPreviewNameToCmdIdMap": {},
       "diffDeletes": [],
       "diffInserts": [],
       "displayType": "redashChart",
       "error": null,
       "errorDetails": null,
       "errorSummary": null,
       "errorTraceType": null,
       "finishTime": 0,
       "globalVars": {},
       "guid": "",
       "height": "auto",
       "hideCommandCode": false,
       "hideCommandResult": false,
       "iPythonMetadata": null,
       "inputWidgets": {},
       "isLockedInExamMode": false,
       "latestUser": "a user",
       "latestUserId": null,
       "listResultMetadata": null,
       "metadata": {
        "byteLimit": 2048000,
        "rowLimit": 10000
       },
       "nuid": "3a04f570-ea00-4971-b2a2-d4b46060af76",
       "origId": 0,
       "parentHierarchy": [],
       "pivotAggregation": null,
       "pivotColumns": null,
       "position": 2.0,
       "resultDbfsErrorMessage": null,
       "resultDbfsStatus": "INLINED_IN_TREE",
       "results": null,
       "showCommandTitle": false,
       "startTime": 0,
       "state": "input",
       "streamStates": {},
       "subcommandOptions": {
        "queryPlan": {
         "groups": [
          {
           "column": "SRC_COL_NAME",
           "type": "column"
          },
          {
           "column": "col_name_compare",
           "type": "column"
          }
         ],
         "selects": [
          {
           "column": "SRC_COL_NAME",
           "type": "column"
          },
          {
           "alias": "column_2efd6ad8765",
           "args": [
            {
             "column": "col_name_compare",
             "type": "column"
            }
           ],
           "function": "COUNT",
           "type": "function"
          },
          {
           "column": "col_name_compare",
           "type": "column"
          }
         ]
        }
       },
       "submitTime": 0,
       "subtype": "tableResultSubCmd.visualization",
       "tableResultIndex": 0,
       "tableResultSettingsMap": {},
       "useConsistentColors": false,
       "version": "CommandV1",
       "width": "auto",
       "workflows": null,
       "xColumns": null,
       "yColumns": null
      }
     },
     "output_type": "display_data"
    },
    {
     "output_type": "display_data",
     "data": {
      "text/plain": [
       "Databricks visualization. Run in Databricks to view."
      ]
     },
     "metadata": {
      "application/vnd.databricks.v1.subcommand+json": {
       "baseErrorDetails": null,
       "bindings": {},
       "collapsed": false,
       "command": "%python\n__backend_agg_display_orig = display\n__backend_agg_dfs = []\ndef __backend_agg_display_new(df):\n    __backend_agg_df_modules = [\"pandas.core.frame\", \"databricks.koalas.frame\", \"pyspark.sql.dataframe\", \"pyspark.pandas.frame\", \"pyspark.sql.connect.dataframe\"]\n    if (type(df).__module__ in __backend_agg_df_modules and type(df).__name__ == 'DataFrame') or isinstance(df, list):\n        __backend_agg_dfs.append(df)\n\ndisplay = __backend_agg_display_new\n\ndef __backend_agg_user_code_fn():\n    import base64\n    exec(base64.standard_b64decode(\"ZGlzcGxheShzcGFyay5zcWwoZicnJwpTRUxFQ1QKICBhLklURVJBVElPTl9OQU1FLAogIGEuVEFCTEVfTkFNRSBTUkNfVEFCTEVfTkFNRSwKICBiLlRBQkxFX05BTUUgVEdUX1RBQkxFX05BTUUsCiAgYS5DT0xfTkFNRSBTUkNfQ09MX05BTUUsCiAgYi5DT0xfTkFNRSBUR1RfQ09MX05BTUUsCiAgSUYoCiAgICBsb3dlcihhLkNPTF9OQU1FKSA8PT4gbG93ZXIoYi5DT0xfTkFNRSksCiAgICAnTUFUQ0gnLAogICAgJ01JU01BVENIJwogICkgYXMgY29sX25hbWVfY29tcGFyZSwKICBhLkRBVEFfVFlQRSBTUkNfREFUQV9UWVBFLAogIGIuREFUQV9UWVBFIFRHVF9EQVRBX1RZUEUsCiAgSUYoCiAgICBsb3dlcihhLkRBVEFfVFlQRSkgPD0+IGxvd2VyKGIuREFUQV9UWVBFKSwKICAgICdNQVRDSCcsCiAgICAnTUlTTUFUQ0gnCiAgKSBhcyBkYXRhX3R5cGVfY29tcGFyZSwKICBhLkNPTF9DT01NRU5UIFNSQ19DT0xfQ09NTUVOVCwKICBiLkNPTF9DT01NRU5UIFRHVF9DT0xfQ09NTUVOVCwKICBJRigKICAgIGxvd2VyKGEuQ09MX0NPTU1FTlQpIDw9PiBsb3dlcihiLkNPTF9DT01NRU5UKSwKICAgICdNQVRDSCcsCiAgICAnTUlTTUFUQ0gnCiAgKSBhcyBjb21tZW50X2NvbXBhcmUKZnJvbQooc2VsZWN0ICogZnJvbSBzY2hlbWFfc3RvcmVfY2F0YWxvZ192IHdoZXJlIGxvd2VyKHdhcmVob3VzZSkgPSBsb3dlcigne3NyY193cmhzZX0nKSBhbmQgaXRlcmF0aW9uX25hbWUgPSJ7aXRlcmF0aW9uX25hbWV9IiBhbmQgbG93ZXIoVEFCTEVfTkFNRSkgPSBsb3dlcigie3NyY190Ymx9IikpYQpGVUxMIE9VVEVSIEpPSU4gCihzZWxlY3QgKiBmcm9tIHNjaGVtYV9zdG9yZV9jYXRhbG9nX3Ygd2hlcmUgbG93ZXIod2FyZWhvdXNlKSA9IGxvd2VyKCd7dGd0X3dyaHNlfScpIGFuZCBpdGVyYXRpb25fbmFtZSA9IntpdGVyYXRpb25fbmFtZX0iIGFuZCBsb3dlcihUQUJMRV9OQU1FKSA9IGxvd2VyKCJ7dGd0X3RibH0iKSliCk9OIGxvd2VyKGEuQ09MX05BTUUpID0gbG93ZXIoYi5DT0xfTkFNRSkKb3JkZXIgYnkgYS5DT0xfT1JERVIKJycnKSk=\").decode())\n\ntry:\n    # run user code\n    __backend_agg_user_code_fn()\n\n    #reset display function\n    display = __backend_agg_display_orig\n\n    if len(__backend_agg_dfs) > 0:\n        # create a temp view\n        if type(__backend_agg_dfs[0]).__module__ == \"databricks.koalas.frame\":\n            # koalas dataframe\n            __backend_agg_dfs[0].to_spark().createOrReplaceTempView(\"DatabricksViewd66ef04\")\n        elif type(__backend_agg_dfs[0]).__module__ == \"pandas.core.frame\" or isinstance(__backend_agg_dfs[0], list):\n            # pandas dataframe\n            spark.createDataFrame(__backend_agg_dfs[0]).createOrReplaceTempView(\"DatabricksViewd66ef04\")\n        else:\n            __backend_agg_dfs[0].createOrReplaceTempView(\"DatabricksViewd66ef04\")\n        #run backend agg\n        display(spark.sql(\"\"\"WITH q AS (select * from DatabricksViewd66ef04) SELECT `SRC_COL_NAME`,COUNT(`data_type_compare`) `column_2efd6ad8773`,`data_type_compare` FROM q GROUP BY `SRC_COL_NAME`,`data_type_compare`\"\"\"))\n    else:\n        displayHTML(\"dataframe no longer exists. If you're using dataframe.display(), use display(dataframe) instead.\")\n\n\nfinally:\n    spark.sql(\"drop view if exists DatabricksViewd66ef04\")\n    display = __backend_agg_display_orig\n    del __backend_agg_display_new\n    del __backend_agg_display_orig\n    del __backend_agg_dfs\n    del __backend_agg_user_code_fn\n\n",
       "commandTitle": "DataType",
       "commandType": "auto",
       "commandVersion": 0,
       "commentThread": [],
       "commentsVisible": false,
       "contentSha256Hex": null,
       "customPlotOptions": {
        "redashChart": [
         {
          "key": "type",
          "value": "CHART"
         },
         {
          "key": "options",
          "value": {
           "alignYAxesAtZero": true,
           "coefficient": 1,
           "columnConfigurationMap": {
            "series": {
             "column": "data_type_compare",
             "id": "column_2efd6ad8774"
            },
            "x": {
             "column": "SRC_COL_NAME",
             "id": "column_f6d088d5637"
            },
            "y": [
             {
              "column": "data_type_compare",
              "id": "column_2efd6ad8773",
              "transform": "COUNT"
             }
            ]
           },
           "dateTimeFormat": "DD/MM/YYYY HH:mm",
           "direction": {
            "type": "counterclockwise"
           },
           "error_y": {
            "type": "data",
            "visible": true
           },
           "globalSeriesType": "column",
           "hideYAxes": true,
           "isAggregationOn": true,
           "legend": {
            "traceorder": "normal"
           },
           "missingValuesAsZero": true,
           "numberFormat": "0,0[.]00000",
           "percentFormat": "0[.]00%",
           "series": {
            "error_y": {
             "type": "data",
             "visible": true
            },
            "stacking": "stack"
           },
           "seriesOptions": {
            "MATCH": {
             "color": "#A8D1D1"
            },
            "MISMATCH": {
             "color": "#FF3621"
            },
            "column_2efd6ad8773": {
             "type": "column",
             "yAxis": 0
            }
           },
           "showDataLabels": false,
           "sizemode": "diameter",
           "sortX": true,
           "sortY": true,
           "swappedAxes": true,
           "textFormat": "",
           "useAggregationsUi": true,
           "valuesOptions": {},
           "version": 2,
           "xAxis": {
            "labels": {
             "enabled": true
            },
            "type": "-"
           },
           "yAxis": [
            {
             "type": "-"
            },
            {
             "opposite": true,
             "type": "-"
            }
           ]
          }
         }
        ]
       },
       "datasetPreviewNameToCmdIdMap": {},
       "diffDeletes": [],
       "diffInserts": [],
       "displayType": "redashChart",
       "error": null,
       "errorDetails": null,
       "errorSummary": null,
       "errorTraceType": null,
       "finishTime": 0,
       "globalVars": {},
       "guid": "",
       "height": "auto",
       "hideCommandCode": false,
       "hideCommandResult": false,
       "iPythonMetadata": null,
       "inputWidgets": {},
       "isLockedInExamMode": false,
       "latestUser": "a user",
       "latestUserId": null,
       "listResultMetadata": null,
       "metadata": {
        "byteLimit": 2048000,
        "rowLimit": 10000
       },
       "nuid": "65c4ddd5-c69a-4020-a5f6-459c5debc4f5",
       "origId": 0,
       "parentHierarchy": [],
       "pivotAggregation": null,
       "pivotColumns": null,
       "position": 3.0,
       "resultDbfsErrorMessage": null,
       "resultDbfsStatus": "INLINED_IN_TREE",
       "results": null,
       "showCommandTitle": false,
       "startTime": 0,
       "state": "input",
       "streamStates": {},
       "subcommandOptions": {
        "queryPlan": {
         "groups": [
          {
           "column": "SRC_COL_NAME",
           "type": "column"
          },
          {
           "column": "data_type_compare",
           "type": "column"
          }
         ],
         "selects": [
          {
           "column": "SRC_COL_NAME",
           "type": "column"
          },
          {
           "alias": "column_2efd6ad8773",
           "args": [
            {
             "column": "data_type_compare",
             "type": "column"
            }
           ],
           "function": "COUNT",
           "type": "function"
          },
          {
           "column": "data_type_compare",
           "type": "column"
          }
         ]
        }
       },
       "submitTime": 0,
       "subtype": "tableResultSubCmd.visualization",
       "tableResultIndex": 0,
       "tableResultSettingsMap": {},
       "useConsistentColors": false,
       "version": "CommandV1",
       "width": "auto",
       "workflows": null,
       "xColumns": null,
       "yColumns": null
      }
     },
     "output_type": "display_data"
    },
    {
     "output_type": "display_data",
     "data": {
      "text/plain": [
       "Databricks visualization. Run in Databricks to view."
      ]
     },
     "metadata": {
      "application/vnd.databricks.v1.subcommand+json": {
       "baseErrorDetails": null,
       "bindings": {},
       "collapsed": false,
       "command": "%python\n__backend_agg_display_orig = display\n__backend_agg_dfs = []\ndef __backend_agg_display_new(df):\n    __backend_agg_df_modules = [\"pandas.core.frame\", \"databricks.koalas.frame\", \"pyspark.sql.dataframe\", \"pyspark.pandas.frame\", \"pyspark.sql.connect.dataframe\"]\n    if (type(df).__module__ in __backend_agg_df_modules and type(df).__name__ == 'DataFrame') or isinstance(df, list):\n        __backend_agg_dfs.append(df)\n\ndisplay = __backend_agg_display_new\n\ndef __backend_agg_user_code_fn():\n    import base64\n    exec(base64.standard_b64decode(\"ZGlzcGxheShzcGFyay5zcWwoZicnJwpTRUxFQ1QKICBhLklURVJBVElPTl9OQU1FLAogIGEuVEFCTEVfTkFNRSBTUkNfVEFCTEVfTkFNRSwKICBiLlRBQkxFX05BTUUgVEdUX1RBQkxFX05BTUUsCiAgYS5DT0xfTkFNRSBTUkNfQ09MX05BTUUsCiAgYi5DT0xfTkFNRSBUR1RfQ09MX05BTUUsCiAgSUYoCiAgICBsb3dlcihhLkNPTF9OQU1FKSA8PT4gbG93ZXIoYi5DT0xfTkFNRSksCiAgICAnTUFUQ0gnLAogICAgJ01JU01BVENIJwogICkgYXMgY29sX25hbWVfY29tcGFyZSwKICBhLkRBVEFfVFlQRSBTUkNfREFUQV9UWVBFLAogIGIuREFUQV9UWVBFIFRHVF9EQVRBX1RZUEUsCiAgSUYoCiAgICBsb3dlcihhLkRBVEFfVFlQRSkgPD0+IGxvd2VyKGIuREFUQV9UWVBFKSwKICAgICdNQVRDSCcsCiAgICAnTUlTTUFUQ0gnCiAgKSBhcyBkYXRhX3R5cGVfY29tcGFyZSwKICBhLkNPTF9DT01NRU5UIFNSQ19DT0xfQ09NTUVOVCwKICBiLkNPTF9DT01NRU5UIFRHVF9DT0xfQ09NTUVOVCwKICBJRigKICAgIGxvd2VyKGEuQ09MX0NPTU1FTlQpIDw9PiBsb3dlcihiLkNPTF9DT01NRU5UKSwKICAgICdNQVRDSCcsCiAgICAnTUlTTUFUQ0gnCiAgKSBhcyBjb21tZW50X2NvbXBhcmUKZnJvbQooc2VsZWN0ICogZnJvbSBzY2hlbWFfc3RvcmVfY2F0YWxvZ192IHdoZXJlIGxvd2VyKHdhcmVob3VzZSkgPSBsb3dlcigne3NyY193cmhzZX0nKSBhbmQgaXRlcmF0aW9uX25hbWUgPSJ7aXRlcmF0aW9uX25hbWV9IiBhbmQgbG93ZXIoVEFCTEVfTkFNRSkgPSBsb3dlcigie3NyY190Ymx9IikpYQpGVUxMIE9VVEVSIEpPSU4gCihzZWxlY3QgKiBmcm9tIHNjaGVtYV9zdG9yZV9jYXRhbG9nX3Ygd2hlcmUgbG93ZXIod2FyZWhvdXNlKSA9IGxvd2VyKCd7dGd0X3dyaHNlfScpIGFuZCBpdGVyYXRpb25fbmFtZSA9IntpdGVyYXRpb25fbmFtZX0iIGFuZCBsb3dlcihUQUJMRV9OQU1FKSA9IGxvd2VyKCJ7dGd0X3RibH0iKSliCk9OIGxvd2VyKGEuQ09MX05BTUUpID0gbG93ZXIoYi5DT0xfTkFNRSkKb3JkZXIgYnkgYS5DT0xfT1JERVIKJycnKSk=\").decode())\n\ntry:\n    # run user code\n    __backend_agg_user_code_fn()\n\n    #reset display function\n    display = __backend_agg_display_orig\n\n    if len(__backend_agg_dfs) > 0:\n        # create a temp view\n        if type(__backend_agg_dfs[0]).__module__ == \"databricks.koalas.frame\":\n            # koalas dataframe\n            __backend_agg_dfs[0].to_spark().createOrReplaceTempView(\"DatabricksViewda06fd8\")\n        elif type(__backend_agg_dfs[0]).__module__ == \"pandas.core.frame\" or isinstance(__backend_agg_dfs[0], list):\n            # pandas dataframe\n            spark.createDataFrame(__backend_agg_dfs[0]).createOrReplaceTempView(\"DatabricksViewda06fd8\")\n        else:\n            __backend_agg_dfs[0].createOrReplaceTempView(\"DatabricksViewda06fd8\")\n        #run backend agg\n        display(spark.sql(\"\"\"WITH q AS (select * from DatabricksViewda06fd8) SELECT `SRC_COL_NAME`,COUNT(`comment_compare`) `column_2efd6ad8793`,`comment_compare` FROM q GROUP BY `SRC_COL_NAME`,`comment_compare`\"\"\"))\n    else:\n        displayHTML(\"dataframe no longer exists. If you're using dataframe.display(), use display(dataframe) instead.\")\n\n\nfinally:\n    spark.sql(\"drop view if exists DatabricksViewda06fd8\")\n    display = __backend_agg_display_orig\n    del __backend_agg_display_new\n    del __backend_agg_display_orig\n    del __backend_agg_dfs\n    del __backend_agg_user_code_fn\n\n",
       "commandTitle": "Comment",
       "commandType": "auto",
       "commandVersion": 0,
       "commentThread": [],
       "commentsVisible": false,
       "contentSha256Hex": null,
       "customPlotOptions": {
        "redashChart": [
         {
          "key": "type",
          "value": "CHART"
         },
         {
          "key": "options",
          "value": {
           "alignYAxesAtZero": true,
           "coefficient": 1,
           "columnConfigurationMap": {
            "series": {
             "column": "comment_compare",
             "id": "column_2efd6ad8794"
            },
            "x": {
             "column": "SRC_COL_NAME",
             "id": "column_f6d088d5645"
            },
            "y": [
             {
              "column": "comment_compare",
              "id": "column_2efd6ad8793",
              "transform": "COUNT"
             }
            ]
           },
           "dateTimeFormat": "DD/MM/YYYY HH:mm",
           "direction": {
            "type": "counterclockwise"
           },
           "error_y": {
            "type": "data",
            "visible": true
           },
           "globalSeriesType": "column",
           "hideXAxis": false,
           "hideYAxes": true,
           "isAggregationOn": true,
           "legend": {
            "traceorder": "normal"
           },
           "missingValuesAsZero": true,
           "numberFormat": "0,0[.]00000",
           "percentFormat": "0[.]00%",
           "series": {
            "error_y": {
             "type": "data",
             "visible": true
            },
            "stacking": "stack"
           },
           "seriesOptions": {
            "MATCH": {
             "color": "#A8D1D1"
            },
            "column_2efd6ad8793": {
             "type": "column",
             "yAxis": 0
            }
           },
           "showDataLabels": false,
           "sizemode": "diameter",
           "sortX": true,
           "sortY": true,
           "swappedAxes": true,
           "textFormat": "",
           "useAggregationsUi": true,
           "valuesOptions": {},
           "version": 2,
           "xAxis": {
            "labels": {
             "enabled": true
            },
            "type": "-"
           },
           "yAxis": [
            {
             "type": "-"
            },
            {
             "opposite": true,
             "type": "-"
            }
           ]
          }
         }
        ]
       },
       "datasetPreviewNameToCmdIdMap": {},
       "diffDeletes": [],
       "diffInserts": [],
       "displayType": "redashChart",
       "error": null,
       "errorDetails": null,
       "errorSummary": null,
       "errorTraceType": null,
       "finishTime": 1741709548332,
       "globalVars": {},
       "guid": "",
       "height": "auto",
       "hideCommandCode": false,
       "hideCommandResult": false,
       "iPythonMetadata": null,
       "inputWidgets": {},
       "isLockedInExamMode": false,
       "latestUser": "a user",
       "latestUserId": null,
       "listResultMetadata": [
        [
         "table",
         7
        ]
       ],
       "metadata": {
        "byteLimit": 2048000,
        "rowLimit": 10000
       },
       "nuid": "48660602-943a-4eaf-9b07-577403c81b0c",
       "origId": 0,
       "parentHierarchy": [],
       "pivotAggregation": null,
       "pivotColumns": null,
       "position": 4.0,
       "resultDbfsErrorMessage": null,
       "resultDbfsStatus": "INLINED_IN_TREE",
       "results": null,
       "showCommandTitle": false,
       "startTime": 1741709547838,
       "state": "input",
       "streamStates": {},
       "subcommandOptions": {
        "queryPlan": {
         "groups": [
          {
           "column": "SRC_COL_NAME",
           "type": "column"
          },
          {
           "column": "comment_compare",
           "type": "column"
          }
         ],
         "selects": [
          {
           "column": "SRC_COL_NAME",
           "type": "column"
          },
          {
           "alias": "column_2efd6ad8793",
           "args": [
            {
             "column": "comment_compare",
             "type": "column"
            }
           ],
           "function": "COUNT",
           "type": "function"
          },
          {
           "column": "comment_compare",
           "type": "column"
          }
         ]
        }
       },
       "submitTime": 1741709541369,
       "subtype": "tableResultSubCmd.visualization",
       "tableResultIndex": 0,
       "tableResultSettingsMap": {},
       "useConsistentColors": false,
       "version": "CommandV1",
       "width": "auto",
       "workflows": null,
       "xColumns": null,
       "yColumns": null
      }
     },
     "output_type": "display_data"
    },
    {
     "output_type": "display_data",
     "data": {
      "text/plain": [
       "Databricks visualization. Run in Databricks to view."
      ]
     },
     "metadata": {
      "application/vnd.databricks.v1.subcommand+json": {
       "baseErrorDetails": null,
       "bindings": {},
       "collapsed": false,
       "command": "%python\ndisplay(spark.sql(f'''\nSELECT\n  a.ITERATION_NAME,\n  a.TABLE_NAME SRC_TABLE_NAME,\n  b.TABLE_NAME TGT_TABLE_NAME,\n  a.COL_NAME SRC_COL_NAME,\n  b.COL_NAME TGT_COL_NAME,\n  IF(\n    lower(a.COL_NAME) <=> lower(b.COL_NAME),\n    'MATCH',\n    'MISMATCH'\n  ) as col_name_compare,\n  a.DATA_TYPE SRC_DATA_TYPE,\n  b.DATA_TYPE TGT_DATA_TYPE,\n  IF(\n    lower(a.DATA_TYPE) <=> lower(b.DATA_TYPE),\n    'MATCH',\n    'MISMATCH'\n  ) as data_type_compare,\n  a.COL_COMMENT SRC_COL_COMMENT,\n  b.COL_COMMENT TGT_COL_COMMENT,\n  IF(\n    lower(a.COL_COMMENT) <=> lower(b.COL_COMMENT),\n    'MATCH',\n    'MISMATCH'\n  ) as comment_compare\nfrom\n(select * from schema_store_catalog_v where lower(warehouse) = lower('{src_wrhse}') and iteration_name =\"{iteration_name}\" and lower(TABLE_NAME) = lower(\"{src_tbl}\"))a\nFULL OUTER JOIN \n(select * from schema_store_catalog_v where lower(warehouse) = lower('{tgt_wrhse}') and iteration_name =\"{iteration_name}\" and lower(TABLE_NAME) = lower(\"{tgt_tbl}\"))b\nON lower(a.COL_NAME) = lower(b.COL_NAME)\norder by a.COL_ORDER\n'''))",
       "commandTitle": "Visualization 1",
       "commandType": "auto",
       "commandVersion": 0,
       "commentThread": [],
       "commentsVisible": false,
       "contentSha256Hex": null,
       "customPlotOptions": {
        "redashChart": [
         {
          "key": "type",
          "value": "TABLE"
         },
         {
          "key": "options",
          "value": {
           "columns": [
            {
             "alignContent": "left",
             "allowHTML": false,
             "allowSearch": false,
             "booleanValues": [
              "false",
              "true"
             ],
             "displayAs": "string",
             "highlightLinks": false,
             "imageHeight": "",
             "imageTitleTemplate": "{{ @ }}",
             "imageUrlTemplate": "{{ @ }}",
             "imageWidth": "",
             "linkOpenInNewTab": true,
             "linkTextTemplate": "{{ @ }}",
             "linkTitleTemplate": "{{ @ }}",
             "linkUrlTemplate": "{{ @ }}",
             "name": "ITERATION_NAME",
             "order": 100000,
             "preserveWhitespace": false,
             "title": "ITERATION_NAME",
             "type": "string",
             "useMonospaceFont": false,
             "visible": true
            },
            {
             "alignContent": "left",
             "allowHTML": false,
             "allowSearch": false,
             "booleanValues": [
              "false",
              "true"
             ],
             "displayAs": "string",
             "highlightLinks": false,
             "imageHeight": "",
             "imageTitleTemplate": "{{ @ }}",
             "imageUrlTemplate": "{{ @ }}",
             "imageWidth": "",
             "linkOpenInNewTab": true,
             "linkTextTemplate": "{{ @ }}",
             "linkTitleTemplate": "{{ @ }}",
             "linkUrlTemplate": "{{ @ }}",
             "name": "SRC_TABLE_NAME",
             "order": 100001,
             "preserveWhitespace": false,
             "title": "SRC_TABLE_NAME",
             "type": "string",
             "useMonospaceFont": false,
             "visible": true
            },
            {
             "alignContent": "left",
             "allowHTML": false,
             "allowSearch": false,
             "booleanValues": [
              "false",
              "true"
             ],
             "displayAs": "string",
             "highlightLinks": false,
             "imageHeight": "",
             "imageTitleTemplate": "{{ @ }}",
             "imageUrlTemplate": "{{ @ }}",
             "imageWidth": "",
             "linkOpenInNewTab": true,
             "linkTextTemplate": "{{ @ }}",
             "linkTitleTemplate": "{{ @ }}",
             "linkUrlTemplate": "{{ @ }}",
             "name": "TGT_TABLE_NAME",
             "order": 100002,
             "preserveWhitespace": false,
             "title": "TGT_TABLE_NAME",
             "type": "string",
             "useMonospaceFont": false,
             "visible": true
            },
            {
             "alignContent": "left",
             "allowHTML": false,
             "allowSearch": false,
             "booleanValues": [
              "false",
              "true"
             ],
             "cellFormat": {
              "default": {
               "foregroundColor": null
              },
              "rules": [
               {
                "if": {
                 "column": "col_name_compare",
                 "fn": "=",
                 "literal": "MISMATCH"
                },
                "value": {
                 "foregroundColor": "#E92828"
                }
               },
               {
                "if": {
                 "column": "data_type_compare",
                 "fn": "=",
                 "literal": "MISMATCH"
                },
                "value": {
                 "foregroundColor": "#E92828"
                }
               },
               {
                "if": {
                 "column": "comment_compare",
                 "fn": "=",
                 "literal": "MISMATCH"
                },
                "value": {
                 "foregroundColor": "#E92828"
                }
               }
              ]
             },
             "displayAs": "string",
             "highlightLinks": false,
             "imageHeight": "",
             "imageTitleTemplate": "{{ @ }}",
             "imageUrlTemplate": "{{ @ }}",
             "imageWidth": "",
             "linkOpenInNewTab": true,
             "linkTextTemplate": "{{ @ }}",
             "linkTitleTemplate": "{{ @ }}",
             "linkUrlTemplate": "{{ @ }}",
             "name": "SRC_COL_NAME",
             "order": 100003,
             "preserveWhitespace": false,
             "title": "SRC_COL_NAME",
             "type": "string",
             "useMonospaceFont": false,
             "visible": true
            },
            {
             "alignContent": "left",
             "allowHTML": false,
             "allowSearch": false,
             "booleanValues": [
              "false",
              "true"
             ],
             "cellFormat": {
              "default": {
               "foregroundColor": null
              },
              "rules": [
               {
                "if": {
                 "column": "col_name_compare",
                 "fn": "=",
                 "literal": "MISMATCH"
                },
                "value": {
                 "foregroundColor": "#E92828"
                }
               },
               {
                "if": {
                 "column": "data_type_compare",
                 "fn": "=",
                 "literal": "MISMATCH"
                },
                "value": {
                 "foregroundColor": "#E92828"
                }
               },
               {
                "if": {
                 "column": "comment_compare",
                 "fn": "=",
                 "literal": "MISMATCH"
                },
                "value": {
                 "foregroundColor": "#E92828"
                }
               }
              ]
             },
             "displayAs": "string",
             "highlightLinks": false,
             "imageHeight": "",
             "imageTitleTemplate": "{{ @ }}",
             "imageUrlTemplate": "{{ @ }}",
             "imageWidth": "",
             "linkOpenInNewTab": true,
             "linkTextTemplate": "{{ @ }}",
             "linkTitleTemplate": "{{ @ }}",
             "linkUrlTemplate": "{{ @ }}",
             "name": "TGT_COL_NAME",
             "order": 100004,
             "preserveWhitespace": false,
             "title": "TGT_COL_NAME",
             "type": "string",
             "useMonospaceFont": false,
             "visible": true
            },
            {
             "alignContent": "left",
             "allowHTML": false,
             "allowSearch": false,
             "booleanValues": [
              "false",
              "true"
             ],
             "cellFormat": {
              "default": {
               "foregroundColor": null
              },
              "rules": [
               {
                "if": {
                 "column": "col_name_compare",
                 "fn": "=",
                 "literal": "MISMATCH"
                },
                "value": {
                 "foregroundColor": "#E92828"
                }
               }
              ]
             },
             "displayAs": "string",
             "highlightLinks": false,
             "imageHeight": "",
             "imageTitleTemplate": "{{ @ }}",
             "imageUrlTemplate": "{{ @ }}",
             "imageWidth": "",
             "linkOpenInNewTab": true,
             "linkTextTemplate": "{{ @ }}",
             "linkTitleTemplate": "{{ @ }}",
             "linkUrlTemplate": "{{ @ }}",
             "name": "col_name_compare",
             "order": 100005,
             "preserveWhitespace": false,
             "title": "col_name_compare",
             "type": "string",
             "useMonospaceFont": false,
             "visible": true
            },
            {
             "alignContent": "left",
             "allowHTML": false,
             "allowSearch": false,
             "booleanValues": [
              "false",
              "true"
             ],
             "displayAs": "string",
             "highlightLinks": false,
             "imageHeight": "",
             "imageTitleTemplate": "{{ @ }}",
             "imageUrlTemplate": "{{ @ }}",
             "imageWidth": "",
             "linkOpenInNewTab": true,
             "linkTextTemplate": "{{ @ }}",
             "linkTitleTemplate": "{{ @ }}",
             "linkUrlTemplate": "{{ @ }}",
             "name": "SRC_DATA_TYPE",
             "order": 100006,
             "preserveWhitespace": false,
             "title": "SRC_DATA_TYPE",
             "type": "string",
             "useMonospaceFont": false,
             "visible": true
            },
            {
             "alignContent": "left",
             "allowHTML": false,
             "allowSearch": false,
             "booleanValues": [
              "false",
              "true"
             ],
             "displayAs": "string",
             "highlightLinks": false,
             "imageHeight": "",
             "imageTitleTemplate": "{{ @ }}",
             "imageUrlTemplate": "{{ @ }}",
             "imageWidth": "",
             "linkOpenInNewTab": true,
             "linkTextTemplate": "{{ @ }}",
             "linkTitleTemplate": "{{ @ }}",
             "linkUrlTemplate": "{{ @ }}",
             "name": "TGT_DATA_TYPE",
             "order": 100007,
             "preserveWhitespace": false,
             "title": "TGT_DATA_TYPE",
             "type": "string",
             "useMonospaceFont": false,
             "visible": true
            },
            {
             "alignContent": "left",
             "allowHTML": false,
             "allowSearch": false,
             "booleanValues": [
              "false",
              "true"
             ],
             "cellFormat": {
              "default": {
               "foregroundColor": null
              },
              "rules": [
               {
                "if": {
                 "column": "data_type_compare",
                 "fn": "=",
                 "literal": "MISMATCH"
                },
                "value": {
                 "foregroundColor": "#E92828"
                }
               }
              ]
             },
             "displayAs": "string",
             "highlightLinks": false,
             "imageHeight": "",
             "imageTitleTemplate": "{{ @ }}",
             "imageUrlTemplate": "{{ @ }}",
             "imageWidth": "",
             "linkOpenInNewTab": true,
             "linkTextTemplate": "{{ @ }}",
             "linkTitleTemplate": "{{ @ }}",
             "linkUrlTemplate": "{{ @ }}",
             "name": "data_type_compare",
             "order": 100008,
             "preserveWhitespace": false,
             "title": "data_type_compare",
             "type": "string",
             "useMonospaceFont": false,
             "visible": true
            },
            {
             "alignContent": "left",
             "allowHTML": false,
             "allowSearch": false,
             "booleanValues": [
              "false",
              "true"
             ],
             "displayAs": "string",
             "highlightLinks": false,
             "imageHeight": "",
             "imageTitleTemplate": "{{ @ }}",
             "imageUrlTemplate": "{{ @ }}",
             "imageWidth": "",
             "linkOpenInNewTab": true,
             "linkTextTemplate": "{{ @ }}",
             "linkTitleTemplate": "{{ @ }}",
             "linkUrlTemplate": "{{ @ }}",
             "name": "SRC_COL_COMMENT",
             "order": 100009,
             "preserveWhitespace": false,
             "title": "SRC_COL_COMMENT",
             "type": "string",
             "useMonospaceFont": false,
             "visible": true
            },
            {
             "alignContent": "left",
             "allowHTML": false,
             "allowSearch": false,
             "booleanValues": [
              "false",
              "true"
             ],
             "displayAs": "string",
             "highlightLinks": false,
             "imageHeight": "",
             "imageTitleTemplate": "{{ @ }}",
             "imageUrlTemplate": "{{ @ }}",
             "imageWidth": "",
             "linkOpenInNewTab": true,
             "linkTextTemplate": "{{ @ }}",
             "linkTitleTemplate": "{{ @ }}",
             "linkUrlTemplate": "{{ @ }}",
             "name": "TGT_COL_COMMENT",
             "order": 100010,
             "preserveWhitespace": false,
             "title": "TGT_COL_COMMENT",
             "type": "string",
             "useMonospaceFont": false,
             "visible": true
            },
            {
             "alignContent": "left",
             "allowHTML": false,
             "allowSearch": false,
             "booleanValues": [
              "false",
              "true"
             ],
             "cellFormat": {
              "default": {
               "foregroundColor": null
              },
              "rules": [
               {
                "if": {
                 "column": "comment_compare",
                 "fn": "=",
                 "literal": "MISMATCH"
                },
                "value": {
                 "foregroundColor": "#E92828"
                }
               }
              ]
             },
             "displayAs": "string",
             "highlightLinks": false,
             "imageHeight": "",
             "imageTitleTemplate": "{{ @ }}",
             "imageUrlTemplate": "{{ @ }}",
             "imageWidth": "",
             "linkOpenInNewTab": true,
             "linkTextTemplate": "{{ @ }}",
             "linkTitleTemplate": "{{ @ }}",
             "linkUrlTemplate": "{{ @ }}",
             "name": "comment_compare",
             "order": 100011,
             "preserveWhitespace": false,
             "title": "comment_compare",
             "type": "string",
             "useMonospaceFont": false,
             "visible": true
            }
           ],
           "condensed": true,
           "itemsPerPage": 25,
           "paginationSize": "default",
           "version": 2,
           "withRowNumber": false
          }
         }
        ]
       },
       "datasetPreviewNameToCmdIdMap": {},
       "diffDeletes": [],
       "diffInserts": [],
       "displayType": "redashChart",
       "error": null,
       "errorDetails": null,
       "errorSummary": null,
       "errorTraceType": null,
       "finishTime": 0,
       "globalVars": {},
       "guid": "",
       "height": "auto",
       "hideCommandCode": false,
       "hideCommandResult": false,
       "iPythonMetadata": null,
       "inputWidgets": {},
       "isLockedInExamMode": false,
       "latestUser": "a user",
       "latestUserId": null,
       "listResultMetadata": null,
       "metadata": {
        "byteLimit": 2048000,
        "rowLimit": 10000
       },
       "nuid": "aed4a065-0d90-492a-b5c1-f6a52f3d86eb",
       "origId": 0,
       "parentHierarchy": [],
       "pivotAggregation": null,
       "pivotColumns": null,
       "position": 5.0,
       "resultDbfsErrorMessage": null,
       "resultDbfsStatus": "INLINED_IN_TREE",
       "results": null,
       "showCommandTitle": false,
       "startTime": 0,
       "state": "input",
       "streamStates": {},
       "subcommandOptions": {},
       "submitTime": 0,
       "subtype": "tableResultSubCmd.visualization",
       "tableResultIndex": 0,
       "tableResultSettingsMap": {},
       "useConsistentColors": false,
       "version": "CommandV1",
       "width": "auto",
       "workflows": null,
       "xColumns": null,
       "yColumns": null
      }
     },
     "output_type": "display_data"
    }
   ],
   "source": [
    "%python\n",
    "display(spark.sql(f'''\n",
    "SELECT\n",
    "  a.ITERATION_NAME,\n",
    "  a.TABLE_NAME SRC_TABLE_NAME,\n",
    "  b.TABLE_NAME TGT_TABLE_NAME,\n",
    "  a.COL_NAME SRC_COL_NAME,\n",
    "  b.COL_NAME TGT_COL_NAME,\n",
    "  IF(\n",
    "    lower(a.COL_NAME) <=> lower(b.COL_NAME),\n",
    "    'MATCH',\n",
    "    'MISMATCH'\n",
    "  ) as col_name_compare,\n",
    "  a.DATA_TYPE SRC_DATA_TYPE,\n",
    "  b.DATA_TYPE TGT_DATA_TYPE,\n",
    "  IF(\n",
    "    lower(a.DATA_TYPE) <=> lower(b.DATA_TYPE),\n",
    "    'MATCH',\n",
    "    'MISMATCH'\n",
    "  ) as data_type_compare,\n",
    "  a.COL_COMMENT SRC_COL_COMMENT,\n",
    "  b.COL_COMMENT TGT_COL_COMMENT,\n",
    "  IF(\n",
    "    lower(a.COL_COMMENT) <=> lower(b.COL_COMMENT),\n",
    "    'MATCH',\n",
    "    'MISMATCH'\n",
    "  ) as comment_compare\n",
    "from\n",
    "(select * from schema_store_catalog_v where lower(warehouse) = lower('{src_wrhse}') and iteration_name =\"{iteration_name}\" and lower(TABLE_NAME) = lower(\"{src_tbl}\"))a\n",
    "FULL OUTER JOIN \n",
    "(select * from schema_store_catalog_v where lower(warehouse) = lower('{tgt_wrhse}') and iteration_name =\"{iteration_name}\" and lower(TABLE_NAME) = lower(\"{tgt_tbl}\"))b\n",
    "ON lower(a.COL_NAME) = lower(b.COL_NAME)\n",
    "order by a.COL_ORDER\n",
    "'''))"
   ]
  },
  {
   "cell_type": "code",
   "execution_count": 0,
   "metadata": {
    "application/vnd.databricks.v1+cell": {
     "cellMetadata": {
      "byteLimit": 2048000,
      "rowLimit": 10000
     },
     "inputWidgets": {},
     "nuid": "eda4675e-8cf9-4ff7-9c78-79bbdd938f67",
     "showTitle": false,
     "tableResultSettingsMap": {},
     "title": ""
    }
   },
   "outputs": [
    {
     "output_type": "display_data",
     "data": {
      "text/plain": [
       "Databricks visualization. Run in Databricks to view."
      ]
     },
     "metadata": {
      "application/vnd.databricks.v1.subcommand+json": {
       "baseErrorDetails": null,
       "bindings": {},
       "collapsed": false,
       "command": "%python\n__backend_agg_display_orig = display\n__backend_agg_dfs = []\ndef __backend_agg_display_new(df):\n    __backend_agg_df_modules = [\"pandas.core.frame\", \"databricks.koalas.frame\", \"pyspark.sql.dataframe\", \"pyspark.pandas.frame\", \"pyspark.sql.connect.dataframe\"]\n    if (type(df).__module__ in __backend_agg_df_modules and type(df).__name__ == 'DataFrame') or isinstance(df, list):\n        __backend_agg_dfs.append(df)\n\ndisplay = __backend_agg_display_new\n\ndef __backend_agg_user_code_fn():\n    import base64\n    exec(base64.standard_b64decode(\"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\").decode())\n\ntry:\n    # run user code\n    __backend_agg_user_code_fn()\n\n    #reset display function\n    display = __backend_agg_display_orig\n\n    if len(__backend_agg_dfs) > 0:\n        # create a temp view\n        if type(__backend_agg_dfs[0]).__module__ == \"databricks.koalas.frame\":\n            # koalas dataframe\n            __backend_agg_dfs[0].to_spark().createOrReplaceTempView(\"DatabricksView709eff4\")\n        elif type(__backend_agg_dfs[0]).__module__ == \"pandas.core.frame\" or isinstance(__backend_agg_dfs[0], list):\n            # pandas dataframe\n            spark.createDataFrame(__backend_agg_dfs[0]).createOrReplaceTempView(\"DatabricksView709eff4\")\n        else:\n            __backend_agg_dfs[0].createOrReplaceTempView(\"DatabricksView709eff4\")\n        #run backend agg\n        display(spark.sql(\"\"\"WITH q AS (select * from DatabricksView709eff4) SELECT `col_name`,`final_compatibility`,`src_data_type`,`tgt_data_type` FROM q\"\"\"))\n    else:\n        displayHTML(\"dataframe no longer exists. If you're using dataframe.display(), use display(dataframe) instead.\")\n\n\nfinally:\n    spark.sql(\"drop view if exists DatabricksView709eff4\")\n    display = __backend_agg_display_orig\n    del __backend_agg_display_new\n    del __backend_agg_display_orig\n    del __backend_agg_dfs\n    del __backend_agg_user_code_fn\n\n",
       "commandTitle": "Visualization 1",
       "commandType": "auto",
       "commandVersion": 0,
       "commentThread": [],
       "commentsVisible": false,
       "contentSha256Hex": null,
       "customPlotOptions": {
        "redashChart": [
         {
          "key": "type",
          "value": "CHART"
         },
         {
          "key": "options",
          "value": {
           "alignYAxesAtZero": true,
           "coefficient": 1,
           "columnConfigurationMap": {
            "series": {
             "column": "final_compatibility",
             "id": "column_5ea56373224"
            },
            "x": {
             "column": "col_name",
             "id": "column_5ea56373221"
            },
            "y": []
           },
           "dateTimeFormat": "DD/MM/YYYY HH:mm",
           "direction": {
            "type": "counterclockwise"
           },
           "error_y": {
            "type": "data",
            "visible": true
           },
           "globalSeriesType": "column",
           "hideYAxes": true,
           "isAggregationOn": false,
           "legend": {
            "enabled": true,
            "placement": "below",
            "traceorder": "normal"
           },
           "missingValuesAsZero": true,
           "numberFormat": "0,0[.]00000",
           "percentFormat": "0[.]00%",
           "series": {
            "error_y": {
             "type": "data",
             "visible": true
            },
            "stacking": "stack"
           },
           "seriesOptions": {
            "column_5ea56373220": {
             "type": "column",
             "yAxis": 0
            },
            "false": {
             "color": "#FF3621"
            },
            "true": {
             "color": "#A8D1D1"
            }
           },
           "showDataLabels": true,
           "sizemode": "diameter",
           "sortX": true,
           "sortY": true,
           "swappedAxes": true,
           "textFormat": "Source- {{src_data_type}}; Target- {{tgt_data_type}}",
           "useAggregationsUi": true,
           "valuesOptions": {},
           "version": 2,
           "xAxis": {
            "labels": {
             "enabled": true
            },
            "type": "-"
           },
           "yAxis": [
            {
             "type": "-"
            },
            {
             "opposite": true,
             "type": "-"
            }
           ]
          }
         }
        ]
       },
       "datasetPreviewNameToCmdIdMap": {},
       "diffDeletes": [],
       "diffInserts": [],
       "displayType": "redashChart",
       "error": null,
       "errorDetails": null,
       "errorSummary": null,
       "errorTraceType": null,
       "finishTime": 0,
       "globalVars": {},
       "guid": "",
       "height": "auto",
       "hideCommandCode": false,
       "hideCommandResult": false,
       "iPythonMetadata": null,
       "inputWidgets": {},
       "isLockedInExamMode": false,
       "latestUser": "a user",
       "latestUserId": null,
       "listResultMetadata": null,
       "metadata": {
        "byteLimit": 2048000,
        "rowLimit": 10000
       },
       "nuid": "e601f84f-dcbc-45e3-8858-6487934487af",
       "origId": 0,
       "parentHierarchy": [],
       "pivotAggregation": null,
       "pivotColumns": null,
       "position": 4.5,
       "resultDbfsErrorMessage": null,
       "resultDbfsStatus": "INLINED_IN_TREE",
       "results": null,
       "showCommandTitle": false,
       "startTime": 0,
       "state": "input",
       "streamStates": {},
       "subcommandOptions": {
        "queryPlan": {
         "selects": [
          {
           "column": "col_name",
           "type": "column"
          },
          {
           "column": "final_compatibility",
           "type": "column"
          },
          {
           "column": "src_data_type",
           "type": "column"
          },
          {
           "column": "tgt_data_type",
           "type": "column"
          }
         ]
        }
       },
       "submitTime": 0,
       "subtype": "tableResultSubCmd.visualization",
       "tableResultIndex": 0,
       "tableResultSettingsMap": {},
       "useConsistentColors": false,
       "version": "CommandV1",
       "width": "auto",
       "workflows": null,
       "xColumns": null,
       "yColumns": null
      }
     },
     "output_type": "display_data"
    }
   ],
   "source": [
    "%python\n",
    "display(spark.sql(f'''\n",
    "select *, if(\n",
    "      rlike(\n",
    "        lower(src_data_type),\n",
    "        src_wrhse_compatibility_regex),\n",
    "      true,\n",
    "      false\n",
    "    )as data_type_compatibility,\n",
    "  if(y.has_precision,  \n",
    "  if(\n",
    "    (\n",
    "      regexp_extract(\n",
    "        lower(tgt_data_type),\n",
    "        tgt_wrhse_compatibility_regex,\n",
    "        2\n",
    "      )\n",
    "    ) -(\n",
    "      regexp_extract(\n",
    "        lower(src_data_type),\n",
    "        src_wrhse_compatibility_regex,\n",
    "        2\n",
    "      )\n",
    "    ) >= 0,\n",
    "    true,\n",
    "    false\n",
    "  ),true) precision_compatible,\n",
    "  if(y.has_precision,\n",
    "    if(\n",
    "    (\n",
    "      nvl(int(regexp_extract(\n",
    "        lower(tgt_data_type),\n",
    "        tgt_wrhse_compatibility_regex,\n",
    "        4\n",
    "      )),0)\n",
    "    ) -(\n",
    "      nvl(int(regexp_extract(\n",
    "        lower(src_data_type),\n",
    "        src_wrhse_compatibility_regex,\n",
    "        4\n",
    "      )),0)\n",
    "    ) >= 0,\n",
    "    true,\n",
    "    false\n",
    "  ),true) scale_compatible,\n",
    "  (data_type_compatibility and precision_compatible and scale_compatible) final_compatibility\n",
    "  from (select a.iteration_name, a.table_name src_table_name, b.table_name tgt_table_name, b.col_name, a.data_type src_data_type, b.data_type tgt_data_type from (select * from schema_store_catalog_v where lower(warehouse) = lower('{src_wrhse}') and iteration_name =\"{iteration_name}\" and lower(TABLE_NAME) = lower(\"{src_tbl}\"))a\n",
    "FULL OUTER JOIN \n",
    "(select * from schema_store_catalog_v where lower(warehouse) = lower('{tgt_wrhse}') and iteration_name =\"{iteration_name}\" and lower(TABLE_NAME) =lower(\"{tgt_tbl}\"))b\n",
    "ON lower(a.COL_NAME) = lower(b.COL_NAME)\n",
    "-- where lower(a.DATA_TYPE) <> lower(b.DATA_TYPE)\n",
    "order by b.COL_ORDER) x\n",
    "left outer join (select data_type lkp_data_type, warehouse, data_type data_type_aliases, has_precision, {src_wrhse}_compatibility_regex src_wrhse_compatibility_regex, {tgt_wrhse}_compatibility_regex tgt_wrhse_compatibility_regex from {DATA_TYPE_COMPATIBILITY_MATRIX}\n",
    " where lower(warehouse) = lower('{tgt_wrhse}')) y\n",
    "on rlike(lower(x.tgt_data_type),lkp_data_type)\n",
    "where src_wrhse_compatibility_regex is not null\n",
    "'''))\n",
    "\n",
    "\n",
    "\n"
   ]
  },
  {
   "cell_type": "code",
   "execution_count": 0,
   "metadata": {
    "application/vnd.databricks.v1+cell": {
     "cellMetadata": {
      "byteLimit": 2048000,
      "rowLimit": 10000
     },
     "inputWidgets": {},
     "nuid": "f65da087-eaa5-413c-84e9-c752caca4a0d",
     "showTitle": false,
     "tableResultSettingsMap": {},
     "title": ""
    }
   },
   "outputs": [
    {
     "output_type": "display_data",
     "data": {
      "text/plain": [
       "Databricks visualization. Run in Databricks to view."
      ]
     },
     "metadata": {
      "application/vnd.databricks.v1.subcommand+json": {
       "baseErrorDetails": null,
       "bindings": {},
       "collapsed": false,
       "command": "%python\ndisplay(spark.sql(f'''select SRC_COL_NAME as stage1, TGT_COL_NAME as stage2, SRC_DATA_TYPE as stage3, TGT_DATA_TYPE as stage4, count(TGT_DATA_TYPE) as value from (\nSELECT\n  a.ITERATION_NAME,\n  a.TABLE_NAME SRC_TABLE_NAME,\n  b.TABLE_NAME TGT_TABLE_NAME,\n  a.COL_NAME SRC_COL_NAME,\n  b.COL_NAME TGT_COL_NAME,\n  IF(\n    lower(a.COL_NAME) <=> lower(b.COL_NAME),\n    'MATCH',\n    'MISMATCH'\n  ) as col_name_compare,\n  a.DATA_TYPE SRC_DATA_TYPE,\n  b.DATA_TYPE TGT_DATA_TYPE,\n  IF(\n    lower(a.DATA_TYPE) <=> lower(b.DATA_TYPE),\n    'MATCH',\n    'MISMATCH'\n  ) as data_type_compare,\n  a.COL_COMMENT SRC_COL_COMMENT,\n  b.COL_COMMENT TGT_COL_COMMENT,\n  IF(\n    lower(a.COL_COMMENT) <=> lower(b.COL_COMMENT),\n    'MATCH',\n    'MISMATCH'\n  ) as comment_compare\nfrom\n(select * from schema_store_catalog_v where lower(warehouse) = lower('{src_wrhse}') and iteration_name =\"{iteration_name}\" and lower(TABLE_NAME) = lower(\"{src_tbl}\"))a\nFULL OUTER JOIN \n(select * from schema_store_catalog_v where lower(warehouse) = lower('{tgt_wrhse}') and iteration_name =\"{iteration_name}\" and lower(TABLE_NAME) =lower(\"{tgt_tbl}\"))b\nON lower(a.COL_NAME) = lower(b.COL_NAME)\norder by a.COL_ORDER) group by all order by all\n'''))",
       "commandTitle": "sankey",
       "commandType": "auto",
       "commandVersion": 0,
       "commentThread": [],
       "commentsVisible": false,
       "contentSha256Hex": null,
       "customPlotOptions": {
        "redashChart": [
         {
          "key": "type",
          "value": "SANKEY"
         },
         {
          "key": "options",
          "value": {}
         }
        ]
       },
       "datasetPreviewNameToCmdIdMap": {},
       "diffDeletes": [],
       "diffInserts": [],
       "displayType": "redashChart",
       "error": null,
       "errorDetails": null,
       "errorSummary": null,
       "errorTraceType": null,
       "finishTime": 0,
       "globalVars": {},
       "guid": "",
       "height": "auto",
       "hideCommandCode": false,
       "hideCommandResult": false,
       "iPythonMetadata": null,
       "inputWidgets": {},
       "isLockedInExamMode": false,
       "latestUser": "a user",
       "latestUserId": null,
       "listResultMetadata": null,
       "metadata": {
        "byteLimit": 2048000,
        "rowLimit": 10000
       },
       "nuid": "182d1cde-7881-4eb9-93d3-b09d4e51b2b5",
       "origId": 0,
       "parentHierarchy": [],
       "pivotAggregation": null,
       "pivotColumns": null,
       "position": 5.0,
       "resultDbfsErrorMessage": null,
       "resultDbfsStatus": "INLINED_IN_TREE",
       "results": null,
       "showCommandTitle": false,
       "startTime": 0,
       "state": "input",
       "streamStates": {},
       "subcommandOptions": {},
       "submitTime": 0,
       "subtype": "tableResultSubCmd.visualization",
       "tableResultIndex": 0,
       "tableResultSettingsMap": {},
       "useConsistentColors": false,
       "version": "CommandV1",
       "width": "auto",
       "workflows": null,
       "xColumns": null,
       "yColumns": null
      }
     },
     "output_type": "display_data"
    }
   ],
   "source": [
    "%python\n",
    "display(spark.sql(f'''select SRC_COL_NAME as stage1, TGT_COL_NAME as stage2, SRC_DATA_TYPE as stage3, TGT_DATA_TYPE as stage4, count(TGT_DATA_TYPE) as value from (\n",
    "SELECT\n",
    "  a.ITERATION_NAME,\n",
    "  a.TABLE_NAME SRC_TABLE_NAME,\n",
    "  b.TABLE_NAME TGT_TABLE_NAME,\n",
    "  a.COL_NAME SRC_COL_NAME,\n",
    "  b.COL_NAME TGT_COL_NAME,\n",
    "  IF(\n",
    "    lower(a.COL_NAME) <=> lower(b.COL_NAME),\n",
    "    'MATCH',\n",
    "    'MISMATCH'\n",
    "  ) as col_name_compare,\n",
    "  a.DATA_TYPE SRC_DATA_TYPE,\n",
    "  b.DATA_TYPE TGT_DATA_TYPE,\n",
    "  IF(\n",
    "    lower(a.DATA_TYPE) <=> lower(b.DATA_TYPE),\n",
    "    'MATCH',\n",
    "    'MISMATCH'\n",
    "  ) as data_type_compare,\n",
    "  a.COL_COMMENT SRC_COL_COMMENT,\n",
    "  b.COL_COMMENT TGT_COL_COMMENT,\n",
    "  IF(\n",
    "    lower(a.COL_COMMENT) <=> lower(b.COL_COMMENT),\n",
    "    'MATCH',\n",
    "    'MISMATCH'\n",
    "  ) as comment_compare\n",
    "from\n",
    "(select * from schema_store_catalog_v where lower(warehouse) = lower('{src_wrhse}') and iteration_name =\"{iteration_name}\" and lower(TABLE_NAME) = lower(\"{src_tbl}\"))a\n",
    "FULL OUTER JOIN \n",
    "(select * from schema_store_catalog_v where lower(warehouse) = lower('{tgt_wrhse}') and iteration_name =\"{iteration_name}\" and lower(TABLE_NAME) =lower(\"{tgt_tbl}\"))b\n",
    "ON lower(a.COL_NAME) = lower(b.COL_NAME)\n",
    "order by a.COL_ORDER) group by all order by all\n",
    "'''))"
   ]
  },
  {
   "cell_type": "code",
   "execution_count": 0,
   "metadata": {
    "application/vnd.databricks.v1+cell": {
     "cellMetadata": {
      "byteLimit": 2048000,
      "rowLimit": 10000
     },
     "inputWidgets": {},
     "nuid": "bce0801a-2a89-46fd-bacd-65202bb856bd",
     "showTitle": false,
     "tableResultSettingsMap": {},
     "title": ""
    }
   },
   "outputs": [
    {
     "output_type": "display_data",
     "data": {
      "text/plain": [
       "Databricks visualization. Run in Databricks to view."
      ]
     },
     "metadata": {
      "application/vnd.databricks.v1.subcommand+json": {
       "baseErrorDetails": null,
       "bindings": {},
       "collapsed": false,
       "command": "%python\n__backend_agg_display_orig = display\n__backend_agg_dfs = []\ndef __backend_agg_display_new(df):\n    __backend_agg_df_modules = [\"pandas.core.frame\", \"databricks.koalas.frame\", \"pyspark.sql.dataframe\", \"pyspark.pandas.frame\", \"pyspark.sql.connect.dataframe\"]\n    if (type(df).__module__ in __backend_agg_df_modules and type(df).__name__ == 'DataFrame') or isinstance(df, list):\n        __backend_agg_dfs.append(df)\n\ndisplay = __backend_agg_display_new\n\ndef __backend_agg_user_code_fn():\n    import base64\n    exec(base64.standard_b64decode(\"ZGlzcGxheShzcGFyay5zcWwoZiJzZWxlY3QgKiBmcm9tIHtNSVNNQVRDSF9NRVRSSUNTfSB3aGVyZSBpdGVyYXRpb25fbmFtZSA9ICd7aXRlcmF0aW9uX25hbWV9JyBhbmQgIHRhYmxlX2ZhbWlseSA9J3t0YWJsZV9mYW1pbHl9JyBvcmRlciBieSBtaXNtYXRjaGVzIGRlc2MiKSk=\").decode())\n\ntry:\n    # run user code\n    __backend_agg_user_code_fn()\n\n    #reset display function\n    display = __backend_agg_display_orig\n\n    if len(__backend_agg_dfs) > 0:\n        # create a temp view\n        if type(__backend_agg_dfs[0]).__module__ == \"databricks.koalas.frame\":\n            # koalas dataframe\n            __backend_agg_dfs[0].to_spark().createOrReplaceTempView(\"DatabricksView2a72a42\")\n        elif type(__backend_agg_dfs[0]).__module__ == \"pandas.core.frame\" or isinstance(__backend_agg_dfs[0], list):\n            # pandas dataframe\n            spark.createDataFrame(__backend_agg_dfs[0]).createOrReplaceTempView(\"DatabricksView2a72a42\")\n        else:\n            __backend_agg_dfs[0].createOrReplaceTempView(\"DatabricksView2a72a42\")\n        #run backend agg\n        display(spark.sql(\"\"\"WITH q AS (select * from DatabricksView2a72a42) SELECT `col_name`,`total_matches`,`mismatches` FROM q\"\"\"))\n    else:\n        displayHTML(\"dataframe no longer exists. If you're using dataframe.display(), use display(dataframe) instead.\")\n\n\nfinally:\n    spark.sql(\"drop view if exists DatabricksView2a72a42\")\n    display = __backend_agg_display_orig\n    del __backend_agg_display_new\n    del __backend_agg_display_orig\n    del __backend_agg_dfs\n    del __backend_agg_user_code_fn\n\n",
       "commandTitle": "Visualization 1",
       "commandType": "auto",
       "commandVersion": 0,
       "commentThread": [],
       "commentsVisible": false,
       "contentSha256Hex": null,
       "customPlotOptions": {
        "redashChart": [
         {
          "key": "type",
          "value": "CHART"
         },
         {
          "key": "options",
          "value": {
           "alignYAxesAtZero": true,
           "coefficient": 1,
           "columnConfigurationMap": {
            "x": {
             "column": "col_name",
             "id": "column_ed33f4c0468"
            },
            "y": [
             {
              "column": "total_matches",
              "id": "column_ed33f4c0472"
             },
             {
              "column": "mismatches",
              "id": "column_ed33f4c0474"
             }
            ]
           },
           "dateTimeFormat": "DD/MM/YYYY HH:mm",
           "direction": {
            "type": "counterclockwise"
           },
           "error_y": {
            "type": "data",
            "visible": true
           },
           "globalSeriesType": "column",
           "isAggregationOn": false,
           "legend": {
            "traceorder": "normal"
           },
           "missingValuesAsZero": true,
           "numberFormat": "0,0[.]00000",
           "percentFormat": "0[.]00%",
           "series": {
            "error_y": {
             "type": "data",
             "visible": true
            },
            "stacking": null
           },
           "seriesOptions": {
            "mismatches": {
             "color": "#FF3621",
             "type": "column",
             "yAxis": 0
            },
            "total_matches": {
             "color": "#A8D1D1",
             "type": "column",
             "yAxis": 0
            }
           },
           "showDataLabels": false,
           "sizemode": "diameter",
           "sortX": false,
           "sortY": true,
           "swappedAxes": false,
           "textFormat": "",
           "useAggregationsUi": true,
           "valuesOptions": {},
           "version": 2,
           "xAxis": {
            "labels": {
             "enabled": true
            },
            "type": "-"
           },
           "yAxis": [
            {
             "type": "logarithmic"
            },
            {
             "opposite": true,
             "type": "-"
            }
           ]
          }
         }
        ]
       },
       "datasetPreviewNameToCmdIdMap": {},
       "diffDeletes": [],
       "diffInserts": [],
       "displayType": "redashChart",
       "error": null,
       "errorDetails": null,
       "errorSummary": null,
       "errorTraceType": null,
       "finishTime": 0,
       "globalVars": {},
       "guid": "",
       "height": "auto",
       "hideCommandCode": false,
       "hideCommandResult": false,
       "iPythonMetadata": null,
       "inputWidgets": {},
       "isLockedInExamMode": false,
       "latestUser": "a user",
       "latestUserId": null,
       "listResultMetadata": null,
       "metadata": {
        "byteLimit": 2048000,
        "rowLimit": 10000
       },
       "nuid": "82f5a78a-e8e8-4aac-9a21-dd6e807f8fd8",
       "origId": 0,
       "parentHierarchy": [],
       "pivotAggregation": null,
       "pivotColumns": null,
       "position": 6.0,
       "resultDbfsErrorMessage": null,
       "resultDbfsStatus": "INLINED_IN_TREE",
       "results": null,
       "showCommandTitle": false,
       "startTime": 0,
       "state": "input",
       "streamStates": {},
       "subcommandOptions": {
        "queryPlan": {
         "selects": [
          {
           "column": "col_name",
           "type": "column"
          },
          {
           "column": "total_matches",
           "type": "column"
          },
          {
           "column": "mismatches",
           "type": "column"
          }
         ]
        }
       },
       "submitTime": 0,
       "subtype": "tableResultSubCmd.visualization",
       "tableResultIndex": 0,
       "tableResultSettingsMap": {},
       "useConsistentColors": false,
       "version": "CommandV1",
       "width": "auto",
       "workflows": null,
       "xColumns": null,
       "yColumns": null
      }
     },
     "output_type": "display_data"
    }
   ],
   "source": [
    "%python\n",
    "display(spark.sql(f\"select * from {MISMATCH_METRICS} where iteration_name = '{iteration_name}' and  table_family ='{table_family}' order by mismatches desc\"))"
   ]
  },
  {
   "cell_type": "code",
   "execution_count": 0,
   "metadata": {
    "application/vnd.databricks.v1+cell": {
     "cellMetadata": {
      "byteLimit": 2048000,
      "rowLimit": 10000
     },
     "inputWidgets": {},
     "nuid": "1711959b-4821-4a8d-8b01-ee8a600f0a84",
     "showTitle": false,
     "tableResultSettingsMap": {},
     "title": ""
    }
   },
   "outputs": [
    {
     "output_type": "display_data",
     "data": {
      "text/plain": [
       "Databricks visualization. Run in Databricks to view."
      ]
     },
     "metadata": {
      "application/vnd.databricks.v1.subcommand+json": {
       "baseErrorDetails": null,
       "bindings": {},
       "collapsed": false,
       "command": "%python\n__backend_agg_display_orig = display\n__backend_agg_dfs = []\ndef __backend_agg_display_new(df):\n    __backend_agg_df_modules = [\"pandas.core.frame\", \"databricks.koalas.frame\", \"pyspark.sql.dataframe\", \"pyspark.pandas.frame\", \"pyspark.sql.connect.dataframe\"]\n    if (type(df).__module__ in __backend_agg_df_modules and type(df).__name__ == 'DataFrame') or isinstance(df, list):\n        __backend_agg_dfs.append(df)\n\ndisplay = __backend_agg_display_new\n\ndef __backend_agg_user_code_fn():\n    import base64\n    exec(base64.standard_b64decode(\"ZGlzcGxheShzcGFyay5zcWwoZiJzZWxlY3QgKiBmcm9tIHtNSVNNQVRDSF9NRVRSSUNTfSB3aGVyZSBpdGVyYXRpb25fbmFtZSA9ICd7aXRlcmF0aW9uX25hbWV9JyBhbmQgdGFibGVfZmFtaWx5ID0ne3RhYmxlX2ZhbWlseX0nIGFuZCBhZGR0bmxfZmlsdGVyID0ne2FkZHRubF9maWx0ZXJ9JyBvcmRlciBieSBtaXNtYXRjaGVzIGRlc2MiKSk=\").decode())\n\ntry:\n    # run user code\n    __backend_agg_user_code_fn()\n\n    #reset display function\n    display = __backend_agg_display_orig\n\n    if len(__backend_agg_dfs) > 0:\n        # create a temp view\n        if type(__backend_agg_dfs[0]).__module__ == \"databricks.koalas.frame\":\n            # koalas dataframe\n            __backend_agg_dfs[0].to_spark().createOrReplaceTempView(\"DatabricksView33064aa\")\n        elif type(__backend_agg_dfs[0]).__module__ == \"pandas.core.frame\" or isinstance(__backend_agg_dfs[0], list):\n            # pandas dataframe\n            spark.createDataFrame(__backend_agg_dfs[0]).createOrReplaceTempView(\"DatabricksView33064aa\")\n        else:\n            __backend_agg_dfs[0].createOrReplaceTempView(\"DatabricksView33064aa\")\n        #run backend agg\n        display(spark.sql(\"\"\"WITH q AS (select * from DatabricksView33064aa) SELECT `col_name`,`total_matches`,`mismatches` FROM q\"\"\"))\n    else:\n        displayHTML(\"dataframe no longer exists. If you're using dataframe.display(), use display(dataframe) instead.\")\n\n\nfinally:\n    spark.sql(\"drop view if exists DatabricksView33064aa\")\n    display = __backend_agg_display_orig\n    del __backend_agg_display_new\n    del __backend_agg_display_orig\n    del __backend_agg_dfs\n    del __backend_agg_user_code_fn\n\n",
       "commandTitle": "Visualization 1",
       "commandType": "auto",
       "commandVersion": 0,
       "commentThread": [],
       "commentsVisible": false,
       "contentSha256Hex": null,
       "customPlotOptions": {
        "redashChart": [
         {
          "key": "type",
          "value": "CHART"
         },
         {
          "key": "options",
          "value": {
           "alignYAxesAtZero": true,
           "coefficient": 1,
           "columnConfigurationMap": {
            "x": {
             "column": "col_name",
             "id": "column_15079ab4209"
            },
            "y": [
             {
              "column": "total_matches",
              "id": "column_15079ab4211"
             },
             {
              "column": "mismatches",
              "id": "column_15079ab4213"
             }
            ]
           },
           "dateTimeFormat": "DD/MM/YYYY HH:mm",
           "direction": {
            "type": "counterclockwise"
           },
           "error_y": {
            "type": "data",
            "visible": true
           },
           "globalSeriesType": "column",
           "isAggregationOn": false,
           "legend": {
            "traceorder": "normal"
           },
           "missingValuesAsZero": true,
           "numberFormat": "0,0[.]00000",
           "percentFormat": "0[.]00%",
           "series": {
            "error_y": {
             "type": "data",
             "visible": true
            },
            "stacking": null
           },
           "seriesOptions": {
            "mismatches": {
             "color": "#FF3621",
             "type": "column",
             "yAxis": 0
            },
            "total_matches": {
             "color": "#A8D1D1",
             "type": "column",
             "yAxis": 0
            }
           },
           "showDataLabels": false,
           "sizemode": "diameter",
           "sortX": false,
           "sortY": true,
           "swappedAxes": false,
           "textFormat": "",
           "useAggregationsUi": true,
           "valuesOptions": {},
           "version": 2,
           "xAxis": {
            "labels": {
             "enabled": true
            },
            "type": "-"
           },
           "yAxis": [
            {
             "type": "logarithmic"
            },
            {
             "opposite": true,
             "type": "-"
            }
           ]
          }
         }
        ]
       },
       "datasetPreviewNameToCmdIdMap": {},
       "diffDeletes": [],
       "diffInserts": [],
       "displayType": "redashChart",
       "error": null,
       "errorDetails": null,
       "errorSummary": null,
       "errorTraceType": null,
       "finishTime": 0,
       "globalVars": {},
       "guid": "",
       "height": "auto",
       "hideCommandCode": false,
       "hideCommandResult": false,
       "iPythonMetadata": null,
       "inputWidgets": {},
       "isLockedInExamMode": false,
       "latestUser": "a user",
       "latestUserId": null,
       "listResultMetadata": null,
       "metadata": {
        "byteLimit": 2048000,
        "rowLimit": 10000
       },
       "nuid": "69b15e0d-5a16-49c1-92d3-128b2efd9ffe",
       "origId": 0,
       "parentHierarchy": [],
       "pivotAggregation": null,
       "pivotColumns": null,
       "position": 7.0,
       "resultDbfsErrorMessage": null,
       "resultDbfsStatus": "INLINED_IN_TREE",
       "results": null,
       "showCommandTitle": false,
       "startTime": 0,
       "state": "input",
       "streamStates": {},
       "subcommandOptions": {
        "queryPlan": {
         "selects": [
          {
           "column": "col_name",
           "type": "column"
          },
          {
           "column": "total_matches",
           "type": "column"
          },
          {
           "column": "mismatches",
           "type": "column"
          }
         ]
        }
       },
       "submitTime": 0,
       "subtype": "tableResultSubCmd.visualization",
       "tableResultIndex": 0,
       "tableResultSettingsMap": {},
       "useConsistentColors": false,
       "version": "CommandV1",
       "width": "auto",
       "workflows": null,
       "xColumns": null,
       "yColumns": null
      }
     },
     "output_type": "display_data"
    }
   ],
   "source": [
    "%python\n",
    "display(spark.sql(f\"select * from {MISMATCH_METRICS} where iteration_name = '{iteration_name}' and table_family ='{table_family}' and addtnl_filter ='{addtnl_filter}' order by mismatches desc\"))"
   ]
  },
  {
   "cell_type": "code",
   "execution_count": 0,
   "metadata": {
    "application/vnd.databricks.v1+cell": {
     "cellMetadata": {
      "byteLimit": 2048000,
      "rowLimit": 10000
     },
     "inputWidgets": {},
     "nuid": "0184a383-a25e-4218-9baa-3f770ea047e1",
     "showTitle": false,
     "tableResultSettingsMap": {},
     "title": ""
    }
   },
   "outputs": [],
   "source": [
    "%python\n",
    "dbutils.widgets.remove(\"04-Columns with Mismatch\")"
   ]
  },
  {
   "cell_type": "code",
   "execution_count": 0,
   "metadata": {
    "application/vnd.databricks.v1+cell": {
     "cellMetadata": {
      "byteLimit": 2048000,
      "rowLimit": 10000
     },
     "inputWidgets": {},
     "nuid": "6d83094b-9254-44e3-a346-001871365a3c",
     "showTitle": false,
     "tableResultSettingsMap": {},
     "title": ""
    }
   },
   "outputs": [],
   "source": [
    "%python\n",
    "dbutils.widgets.dropdown(\"04-Columns with Mismatch\",\"*\", [mismatch[0] for mismatch in spark.sql(f\"select mismatch from (select distinct col_name as mismatch, mismatches from {MISMATCH_METRICS} where mismatches >0 and iteration_name ='{iteration_name}' and table_family ='{table_family}' order by mismatches desc)x\").collect()]+[\"*\"])\n",
    "\n",
    "columns_with_mismatch=dbutils.widgets.get(\"04-Columns with Mismatch\")\n",
    "\n"
   ]
  },
  {
   "cell_type": "code",
   "execution_count": 0,
   "metadata": {
    "application/vnd.databricks.v1+cell": {
     "cellMetadata": {
      "byteLimit": 2048000,
      "rowLimit": 10000
     },
     "inputWidgets": {},
     "nuid": "4cec1404-4c5b-4914-b96e-1de817c0d7d4",
     "showTitle": false,
     "tableResultSettingsMap": {},
     "title": ""
    }
   },
   "outputs": [
    {
     "output_type": "display_data",
     "data": {
      "text/plain": [
       "Databricks visualization. Run in Databricks to view."
      ]
     },
     "metadata": {
      "application/vnd.databricks.v1.subcommand+json": {
       "baseErrorDetails": null,
       "bindings": {},
       "collapsed": false,
       "command": "%python\n\ncolumns_with_mismatch_where_condition = \"\" if columns_with_mismatch ==\"*\" else f\"and col_name ='{columns_with_mismatch}'\"\nmismatch_data_tbl=spark.sql(f\"select concat(validation_data_db,'.',table_family,'__mismatch_data') as mismatch_data from {VALIDATION_MAPPING_TABLE} where table_family ='{table_family}'\").collect()[0][\"mismatch_data\"]\nif(spark.catalog.tableExists(mismatch_data_tbl)):\n  display(spark.sql(f\"select * from {mismatch_data_tbl} where iteration_name ='{iteration_name}' {columns_with_mismatch_where_condition}\"))\n",
       "commandTitle": "Visualization 1",
       "commandType": "auto",
       "commandVersion": 0,
       "commentThread": [],
       "commentsVisible": false,
       "contentSha256Hex": null,
       "customPlotOptions": {
        "redashChart": [
         {
          "key": "type",
          "value": "TABLE"
         },
         {
          "key": "options",
          "value": {
           "columns": [
            {
             "alignContent": "right",
             "allowHTML": false,
             "allowSearch": false,
             "booleanValues": [
              "false",
              "true"
             ],
             "dateTimeFormat": "DD/MM/YYYY HH:mm:ss.SSS",
             "displayAs": "datetime",
             "highlightLinks": false,
             "imageHeight": "",
             "imageTitleTemplate": "{{ @ }}",
             "imageUrlTemplate": "{{ @ }}",
             "imageWidth": "",
             "linkOpenInNewTab": true,
             "linkTextTemplate": "{{ @ }}",
             "linkTitleTemplate": "{{ @ }}",
             "linkUrlTemplate": "{{ @ }}",
             "name": "run_timestamp",
             "order": 100000,
             "preserveWhitespace": false,
             "title": "run_timestamp",
             "type": "datetime",
             "useMonospaceFont": false,
             "visible": true
            },
            {
             "alignContent": "left",
             "allowHTML": false,
             "allowSearch": false,
             "booleanValues": [
              "false",
              "true"
             ],
             "displayAs": "string",
             "highlightLinks": false,
             "imageHeight": "",
             "imageTitleTemplate": "{{ @ }}",
             "imageUrlTemplate": "{{ @ }}",
             "imageWidth": "",
             "linkOpenInNewTab": true,
             "linkTextTemplate": "{{ @ }}",
             "linkTitleTemplate": "{{ @ }}",
             "linkUrlTemplate": "{{ @ }}",
             "name": "col_name",
             "order": 100001,
             "preserveWhitespace": false,
             "title": "col_name",
             "type": "string",
             "useMonospaceFont": false,
             "visible": true
            },
            {
             "alignContent": "left",
             "allowHTML": false,
             "allowSearch": false,
             "booleanValues": [
              "false",
              "true"
             ],
             "displayAs": "string",
             "highlightLinks": false,
             "imageHeight": "",
             "imageTitleTemplate": "{{ @ }}",
             "imageUrlTemplate": "{{ @ }}",
             "imageWidth": "",
             "linkOpenInNewTab": true,
             "linkTextTemplate": "{{ @ }}",
             "linkTitleTemplate": "{{ @ }}",
             "linkUrlTemplate": "{{ @ }}",
             "name": "addtnl_filter",
             "order": 100002,
             "preserveWhitespace": false,
             "title": "addtnl_filter",
             "type": "string",
             "useMonospaceFont": false,
             "visible": true
            },
            {
             "alignContent": "left",
             "allowHTML": false,
             "allowSearch": false,
             "booleanValues": [
              "false",
              "true"
             ],
             "displayAs": "string",
             "highlightLinks": false,
             "imageHeight": "",
             "imageTitleTemplate": "{{ @ }}",
             "imageUrlTemplate": "{{ @ }}",
             "imageWidth": "",
             "linkOpenInNewTab": true,
             "linkTextTemplate": "{{ @ }}",
             "linkTitleTemplate": "{{ @ }}",
             "linkUrlTemplate": "{{ @ }}",
             "name": "iteration_name",
             "order": 100003,
             "preserveWhitespace": false,
             "title": "iteration_name",
             "type": "string",
             "useMonospaceFont": false,
             "visible": true
            },
            {
             "alignContent": "left",
             "allowHTML": false,
             "allowSearch": false,
             "booleanValues": [
              "false",
              "true"
             ],
             "displayAs": "string",
             "highlightLinks": false,
             "imageHeight": "",
             "imageTitleTemplate": "{{ @ }}",
             "imageUrlTemplate": "{{ @ }}",
             "imageWidth": "",
             "linkOpenInNewTab": true,
             "linkTextTemplate": "{{ @ }}",
             "linkTitleTemplate": "{{ @ }}",
             "linkUrlTemplate": "{{ @ }}",
             "name": "mismatch_tbl",
             "order": 100004,
             "preserveWhitespace": false,
             "title": "mismatch_tbl",
             "type": "string",
             "useMonospaceFont": false,
             "visible": true
            },
            {
             "alignContent": "right",
             "allowHTML": false,
             "allowSearch": false,
             "booleanValues": [
              "false",
              "true"
             ],
             "displayAs": "number",
             "highlightLinks": false,
             "imageHeight": "",
             "imageTitleTemplate": "{{ @ }}",
             "imageUrlTemplate": "{{ @ }}",
             "imageWidth": "",
             "linkOpenInNewTab": true,
             "linkTextTemplate": "{{ @ }}",
             "linkTitleTemplate": "{{ @ }}",
             "linkUrlTemplate": "{{ @ }}",
             "name": "TRAINING_RESERVATION_HISTORY_ID",
             "numberFormat": "0",
             "order": 100005,
             "preserveWhitespace": false,
             "title": "TRAINING_RESERVATION_HISTORY_ID",
             "type": "integer",
             "useMonospaceFont": false,
             "visible": true
            },
            {
             "alignContent": "right",
             "allowHTML": false,
             "allowSearch": false,
             "booleanValues": [
              "false",
              "true"
             ],
             "displayAs": "number",
             "highlightLinks": false,
             "imageHeight": "",
             "imageTitleTemplate": "{{ @ }}",
             "imageUrlTemplate": "{{ @ }}",
             "imageWidth": "",
             "linkOpenInNewTab": true,
             "linkTextTemplate": "{{ @ }}",
             "linkTitleTemplate": "{{ @ }}",
             "linkUrlTemplate": "{{ @ }}",
             "name": "TRAINING_RESERVATION_ID",
             "numberFormat": "0",
             "order": 100006,
             "preserveWhitespace": false,
             "title": "TRAINING_RESERVATION_ID",
             "type": "integer",
             "useMonospaceFont": false,
             "visible": true
            },
            {
             "alignContent": "right",
             "allowHTML": false,
             "allowSearch": false,
             "booleanValues": [
              "false",
              "true"
             ],
             "displayAs": "number",
             "highlightLinks": false,
             "imageHeight": "",
             "imageTitleTemplate": "{{ @ }}",
             "imageUrlTemplate": "{{ @ }}",
             "imageWidth": "",
             "linkOpenInNewTab": true,
             "linkTextTemplate": "{{ @ }}",
             "linkTitleTemplate": "{{ @ }}",
             "linkUrlTemplate": "{{ @ }}",
             "name": "TRAINING_STORE_CLASS_ID",
             "numberFormat": "0",
             "order": 100007,
             "preserveWhitespace": false,
             "title": "TRAINING_STORE_CLASS_ID",
             "type": "integer",
             "useMonospaceFont": false,
             "visible": true
            },
            {
             "alignContent": "left",
             "allowHTML": false,
             "allowSearch": false,
             "booleanValues": [
              "false",
              "true"
             ],
             "displayAs": "string",
             "highlightLinks": false,
             "imageHeight": "",
             "imageTitleTemplate": "{{ @ }}",
             "imageUrlTemplate": "{{ @ }}",
             "imageWidth": "",
             "linkOpenInNewTab": true,
             "linkTextTemplate": "{{ @ }}",
             "linkTitleTemplate": "{{ @ }}",
             "linkUrlTemplate": "{{ @ }}",
             "name": "TRAINING_PACKAGE_NAME",
             "order": 100008,
             "preserveWhitespace": false,
             "title": "TRAINING_PACKAGE_NAME",
             "type": "string",
             "useMonospaceFont": false,
             "visible": true
            },
            {
             "alignContent": "left",
             "allowHTML": false,
             "allowSearch": false,
             "booleanValues": [
              "false",
              "true"
             ],
             "displayAs": "string",
             "highlightLinks": false,
             "imageHeight": "",
             "imageTitleTemplate": "{{ @ }}",
             "imageUrlTemplate": "{{ @ }}",
             "imageWidth": "",
             "linkOpenInNewTab": true,
             "linkTextTemplate": "{{ @ }}",
             "linkTitleTemplate": "{{ @ }}",
             "linkUrlTemplate": "{{ @ }}",
             "name": "TRAINING_PACKAGE_OPTION_NAME",
             "order": 100009,
             "preserveWhitespace": false,
             "title": "TRAINING_PACKAGE_OPTION_NAME",
             "type": "string",
             "useMonospaceFont": false,
             "visible": true
            },
            {
             "alignContent": "left",
             "allowHTML": false,
             "allowSearch": false,
             "booleanValues": [
              "false",
              "true"
             ],
             "displayAs": "string",
             "highlightLinks": false,
             "imageHeight": "",
             "imageTitleTemplate": "{{ @ }}",
             "imageUrlTemplate": "{{ @ }}",
             "imageWidth": "",
             "linkOpenInNewTab": true,
             "linkTextTemplate": "{{ @ }}",
             "linkTitleTemplate": "{{ @ }}",
             "linkUrlTemplate": "{{ @ }}",
             "name": "CLASS_TYPE_NAME",
             "order": 100010,
             "preserveWhitespace": false,
             "title": "CLASS_TYPE_NAME",
             "type": "string",
             "useMonospaceFont": false,
             "visible": true
            },
            {
             "alignContent": "left",
             "allowHTML": false,
             "allowSearch": false,
             "booleanValues": [
              "false",
              "true"
             ],
             "displayAs": "string",
             "highlightLinks": false,
             "imageHeight": "",
             "imageTitleTemplate": "{{ @ }}",
             "imageUrlTemplate": "{{ @ }}",
             "imageWidth": "",
             "linkOpenInNewTab": true,
             "linkTextTemplate": "{{ @ }}",
             "linkTitleTemplate": "{{ @ }}",
             "linkUrlTemplate": "{{ @ }}",
             "name": "TRAINER_NAME",
             "order": 100011,
             "preserveWhitespace": false,
             "title": "TRAINER_NAME",
             "type": "string",
             "useMonospaceFont": false,
             "visible": true
            },
            {
             "alignContent": "right",
             "allowHTML": false,
             "allowSearch": false,
             "booleanValues": [
              "false",
              "true"
             ],
             "displayAs": "number",
             "highlightLinks": false,
             "imageHeight": "",
             "imageTitleTemplate": "{{ @ }}",
             "imageUrlTemplate": "{{ @ }}",
             "imageWidth": "",
             "linkOpenInNewTab": true,
             "linkTextTemplate": "{{ @ }}",
             "linkTitleTemplate": "{{ @ }}",
             "linkUrlTemplate": "{{ @ }}",
             "name": "CLASS_DURATION_WEEKS",
             "numberFormat": "0",
             "order": 100012,
             "preserveWhitespace": false,
             "title": "CLASS_DURATION_WEEKS",
             "type": "integer",
             "useMonospaceFont": false,
             "visible": true
            },
            {
             "alignContent": "right",
             "allowHTML": false,
             "allowSearch": false,
             "booleanValues": [
              "false",
              "true"
             ],
             "dateTimeFormat": "DD/MM/YYYY HH:mm:ss.SSS",
             "displayAs": "datetime",
             "highlightLinks": false,
             "imageHeight": "",
             "imageTitleTemplate": "{{ @ }}",
             "imageUrlTemplate": "{{ @ }}",
             "imageWidth": "",
             "linkOpenInNewTab": true,
             "linkTextTemplate": "{{ @ }}",
             "linkTitleTemplate": "{{ @ }}",
             "linkUrlTemplate": "{{ @ }}",
             "name": "CLASS_START_TSTMP",
             "order": 100013,
             "preserveWhitespace": false,
             "title": "CLASS_START_TSTMP",
             "type": "datetime",
             "useMonospaceFont": false,
             "visible": true
            },
            {
             "alignContent": "right",
             "allowHTML": false,
             "allowSearch": false,
             "booleanValues": [
              "false",
              "true"
             ],
             "displayAs": "number",
             "highlightLinks": false,
             "imageHeight": "",
             "imageTitleTemplate": "{{ @ }}",
             "imageUrlTemplate": "{{ @ }}",
             "imageWidth": "",
             "linkOpenInNewTab": true,
             "linkTextTemplate": "{{ @ }}",
             "linkTitleTemplate": "{{ @ }}",
             "linkUrlTemplate": "{{ @ }}",
             "name": "UPC_ID",
             "numberFormat": "0",
             "order": 100014,
             "preserveWhitespace": false,
             "title": "UPC_ID",
             "type": "integer",
             "useMonospaceFont": false,
             "visible": true
            },
            {
             "alignContent": "right",
             "allowHTML": false,
             "allowSearch": false,
             "booleanValues": [
              "false",
              "true"
             ],
             "displayAs": "number",
             "highlightLinks": false,
             "imageHeight": "",
             "imageTitleTemplate": "{{ @ }}",
             "imageUrlTemplate": "{{ @ }}",
             "imageWidth": "",
             "linkOpenInNewTab": true,
             "linkTextTemplate": "{{ @ }}",
             "linkTitleTemplate": "{{ @ }}",
             "linkUrlTemplate": "{{ @ }}",
             "name": "CLASS_PRICE_AMT",
             "numberFormat": "0.00",
             "order": 100015,
             "preserveWhitespace": false,
             "title": "CLASS_PRICE_AMT",
             "type": "float",
             "useMonospaceFont": false,
             "visible": true
            },
            {
             "alignContent": "right",
             "allowHTML": false,
             "allowSearch": false,
             "booleanValues": [
              "false",
              "true"
             ],
             "dateTimeFormat": "DD/MM/YYYY HH:mm:ss.SSS",
             "displayAs": "datetime",
             "highlightLinks": false,
             "imageHeight": "",
             "imageTitleTemplate": "{{ @ }}",
             "imageUrlTemplate": "{{ @ }}",
             "imageWidth": "",
             "linkOpenInNewTab": true,
             "linkTextTemplate": "{{ @ }}",
             "linkTitleTemplate": "{{ @ }}",
             "linkUrlTemplate": "{{ @ }}",
             "name": "SRC_CREATE_TSTMP",
             "order": 100016,
             "preserveWhitespace": false,
             "title": "SRC_CREATE_TSTMP",
             "type": "datetime",
             "useMonospaceFont": false,
             "visible": true
            },
            {
             "alignContent": "right",
             "allowHTML": false,
             "allowSearch": false,
             "booleanValues": [
              "false",
              "true"
             ],
             "dateTimeFormat": "DD/MM/YYYY HH:mm:ss.SSS",
             "displayAs": "datetime",
             "highlightLinks": false,
             "imageHeight": "",
             "imageTitleTemplate": "{{ @ }}",
             "imageUrlTemplate": "{{ @ }}",
             "imageWidth": "",
             "linkOpenInNewTab": true,
             "linkTextTemplate": "{{ @ }}",
             "linkTitleTemplate": "{{ @ }}",
             "linkUrlTemplate": "{{ @ }}",
             "name": "UPDATE_TSTMP",
             "order": 100017,
             "preserveWhitespace": false,
             "title": "UPDATE_TSTMP",
             "type": "datetime",
             "useMonospaceFont": false,
             "visible": true
            },
            {
             "alignContent": "right",
             "allowHTML": false,
             "allowSearch": false,
             "booleanValues": [
              "false",
              "true"
             ],
             "dateTimeFormat": "DD/MM/YYYY HH:mm:ss.SSS",
             "displayAs": "datetime",
             "highlightLinks": false,
             "imageHeight": "",
             "imageTitleTemplate": "{{ @ }}",
             "imageUrlTemplate": "{{ @ }}",
             "imageWidth": "",
             "linkOpenInNewTab": true,
             "linkTextTemplate": "{{ @ }}",
             "linkTitleTemplate": "{{ @ }}",
             "linkUrlTemplate": "{{ @ }}",
             "name": "LOAD_TSTMP",
             "order": 100018,
             "preserveWhitespace": false,
             "title": "LOAD_TSTMP",
             "type": "datetime",
             "useMonospaceFont": false,
             "visible": true
            }
           ],
           "condensed": true,
           "itemsPerPage": 25,
           "paginationSize": "default",
           "version": 2,
           "withRowNumber": false
          }
         }
        ]
       },
       "datasetPreviewNameToCmdIdMap": {},
       "diffDeletes": [],
       "diffInserts": [],
       "displayType": "redashChart",
       "error": null,
       "errorDetails": null,
       "errorSummary": null,
       "errorTraceType": null,
       "finishTime": 0,
       "globalVars": {},
       "guid": "",
       "height": "auto",
       "hideCommandCode": false,
       "hideCommandResult": false,
       "iPythonMetadata": null,
       "inputWidgets": {},
       "isLockedInExamMode": false,
       "latestUser": "a user",
       "latestUserId": null,
       "listResultMetadata": null,
       "metadata": {
        "byteLimit": 2048000,
        "rowLimit": 10000
       },
       "nuid": "f92e210a-033d-45d9-af66-0d25b59297e5",
       "origId": 0,
       "parentHierarchy": [],
       "pivotAggregation": null,
       "pivotColumns": null,
       "position": 8.0,
       "resultDbfsErrorMessage": null,
       "resultDbfsStatus": "INLINED_IN_TREE",
       "results": null,
       "showCommandTitle": false,
       "startTime": 0,
       "state": "input",
       "streamStates": {},
       "subcommandOptions": {},
       "submitTime": 0,
       "subtype": "tableResultSubCmd.visualization",
       "tableResultIndex": 0,
       "tableResultSettingsMap": {},
       "useConsistentColors": false,
       "version": "CommandV1",
       "width": "auto",
       "workflows": null,
       "xColumns": null,
       "yColumns": null
      }
     },
     "output_type": "display_data"
    }
   ],
   "source": [
    "%python\n",
    "\n",
    "columns_with_mismatch_where_condition = \"\" if columns_with_mismatch ==\"*\" else f\"and col_name ='{columns_with_mismatch}'\"\n",
    "mismatch_data_tbl=spark.sql(f\"select concat(validation_data_db,'.',table_family,'__mismatch_data') as mismatch_data from {VALIDATION_MAPPING_TABLE} where table_family ='{table_family}'\").collect()[0][\"mismatch_data\"]\n",
    "if(spark.catalog.tableExists(mismatch_data_tbl)):\n",
    "  display(spark.sql(f\"select * from {mismatch_data_tbl} where iteration_name ='{iteration_name}' {columns_with_mismatch_where_condition}\"))\n"
   ]
  },
  {
   "cell_type": "code",
   "execution_count": 0,
   "metadata": {
    "application/vnd.databricks.v1+cell": {
     "cellMetadata": {
      "byteLimit": 2048000,
      "rowLimit": 10000
     },
     "inputWidgets": {},
     "nuid": "347dcf27-b514-407f-8c8e-ed6ab3696245",
     "showTitle": false,
     "tableResultSettingsMap": {},
     "title": ""
    }
   },
   "outputs": [
    {
     "output_type": "display_data",
     "data": {
      "text/plain": [
       "Databricks visualization. Run in Databricks to view."
      ]
     },
     "metadata": {
      "application/vnd.databricks.v1.subcommand+json": {
       "baseErrorDetails": null,
       "bindings": {},
       "collapsed": false,
       "command": "%python\ndisplay(spark.sql(f\"select table_family, tgt_primary_keys, mismatch_exclude_fields from {VALIDATION_MAPPING_TABLE} where table_family='{table_family}'\"));",
       "commandTitle": "Visualization 1",
       "commandType": "auto",
       "commandVersion": 0,
       "commentThread": [],
       "commentsVisible": false,
       "contentSha256Hex": null,
       "customPlotOptions": {
        "redashChart": [
         {
          "key": "type",
          "value": "DETAILS"
         },
         {
          "key": "options",
          "value": {
           "columns": [
            {
             "name": "table_family",
             "title": "table_family",
             "type": "string"
            },
            {
             "name": "tgt_primary_keys",
             "title": "tgt_primary_keys",
             "type": "string"
            },
            {
             "name": "mismatch_exclude_fields",
             "title": "mismatch_exclude_fields",
             "type": "string"
            }
           ],
           "version": 1
          }
         }
        ]
       },
       "datasetPreviewNameToCmdIdMap": {},
       "diffDeletes": [],
       "diffInserts": [],
       "displayType": "redashChart",
       "error": null,
       "errorDetails": null,
       "errorSummary": null,
       "errorTraceType": null,
       "finishTime": 0,
       "globalVars": {},
       "guid": "",
       "height": "auto",
       "hideCommandCode": false,
       "hideCommandResult": false,
       "iPythonMetadata": null,
       "inputWidgets": {},
       "isLockedInExamMode": false,
       "latestUser": "a user",
       "latestUserId": null,
       "listResultMetadata": null,
       "metadata": {
        "byteLimit": 2048000,
        "rowLimit": 10000
       },
       "nuid": "46b1fe31-ea48-47b7-865c-7d12453aa748",
       "origId": 0,
       "parentHierarchy": [],
       "pivotAggregation": null,
       "pivotColumns": null,
       "position": 9.0,
       "resultDbfsErrorMessage": null,
       "resultDbfsStatus": "INLINED_IN_TREE",
       "results": null,
       "showCommandTitle": false,
       "startTime": 0,
       "state": "input",
       "streamStates": {},
       "subcommandOptions": {},
       "submitTime": 0,
       "subtype": "tableResultSubCmd.visualization",
       "tableResultIndex": 0,
       "tableResultSettingsMap": {},
       "useConsistentColors": false,
       "version": "CommandV1",
       "width": "auto",
       "workflows": null,
       "xColumns": null,
       "yColumns": null
      }
     },
     "output_type": "display_data"
    }
   ],
   "source": [
    "%python\n",
    "display(spark.sql(f\"select table_family, tgt_primary_keys, mismatch_exclude_fields from {VALIDATION_MAPPING_TABLE} where table_family='{table_family}'\"));"
   ]
  },
  {
   "cell_type": "code",
   "execution_count": 0,
   "metadata": {
    "application/vnd.databricks.v1+cell": {
     "cellMetadata": {
      "byteLimit": 2048000,
      "rowLimit": 10000
     },
     "inputWidgets": {},
     "nuid": "1f6c0a75-541f-405c-829e-3e0c8fc8f6a9",
     "showTitle": false,
     "tableResultSettingsMap": {},
     "title": ""
    }
   },
   "outputs": [
    {
     "output_type": "display_data",
     "data": {
      "text/plain": [
       "Databricks visualization. Run in Databricks to view."
      ]
     },
     "metadata": {
      "application/vnd.databricks.v1.subcommand+json": {
       "baseErrorDetails": null,
       "bindings": {},
       "collapsed": false,
       "command": "%python\n__backend_agg_display_orig = display\n__backend_agg_dfs = []\ndef __backend_agg_display_new(df):\n    __backend_agg_df_modules = [\"pandas.core.frame\", \"databricks.koalas.frame\", \"pyspark.sql.dataframe\", \"pyspark.pandas.frame\", \"pyspark.sql.connect.dataframe\"]\n    if (type(df).__module__ in __backend_agg_df_modules and type(df).__name__ == 'DataFrame') or isinstance(df, list):\n        __backend_agg_dfs.append(df)\n\ndisplay = __backend_agg_display_new\n\ndef __backend_agg_user_code_fn():\n    import base64\n    exec(base64.standard_b64decode(\"ZGlzcGxheShzcGFyay5zcWwoZicnJ3NlbGVjdCAqIGZyb20ge1dJTkRPV0VEX1ZBTElEQVRJT05fTUVUUklDU30gd2hlcmUgaXRlcmF0aW9uX25hbWUgPSJ7aXRlcmF0aW9uX25hbWV9IiBhbmQgbG93ZXIodGFibGVfZmFtaWx5KSA9IGxvd2VyKCJ7dGFibGVfZmFtaWx5fSIpIG9yZGVyIGJ5IGxhc3RfdXBkYXRlZF9kYXRlLCB0YWJsZV90eXBlJycnKSk=\").decode())\n\ntry:\n    # run user code\n    __backend_agg_user_code_fn()\n\n    #reset display function\n    display = __backend_agg_display_orig\n\n    if len(__backend_agg_dfs) > 0:\n        # create a temp view\n        if type(__backend_agg_dfs[0]).__module__ == \"databricks.koalas.frame\":\n            # koalas dataframe\n            __backend_agg_dfs[0].to_spark().createOrReplaceTempView(\"DatabricksViewb6fcccb\")\n        elif type(__backend_agg_dfs[0]).__module__ == \"pandas.core.frame\" or isinstance(__backend_agg_dfs[0], list):\n            # pandas dataframe\n            spark.createDataFrame(__backend_agg_dfs[0]).createOrReplaceTempView(\"DatabricksViewb6fcccb\")\n        else:\n            __backend_agg_dfs[0].createOrReplaceTempView(\"DatabricksViewb6fcccb\")\n        #run backend agg\n        display(spark.sql(\"\"\"WITH q AS (select * from DatabricksViewb6fcccb) SELECT `last_updated_date`,SUM(`num_records`) `column_c2f52c66534`,`table_type` FROM q GROUP BY `last_updated_date`,`table_type`\"\"\"))\n    else:\n        displayHTML(\"dataframe no longer exists. If you're using dataframe.display(), use display(dataframe) instead.\")\n\n\nfinally:\n    spark.sql(\"drop view if exists DatabricksViewb6fcccb\")\n    display = __backend_agg_display_orig\n    del __backend_agg_display_new\n    del __backend_agg_display_orig\n    del __backend_agg_dfs\n    del __backend_agg_user_code_fn\n\n",
       "commandTitle": "Visualization 1",
       "commandType": "auto",
       "commandVersion": 0,
       "commentThread": [],
       "commentsVisible": false,
       "contentSha256Hex": null,
       "customPlotOptions": {
        "redashChart": [
         {
          "key": "type",
          "value": "CHART"
         },
         {
          "key": "options",
          "value": {
           "alignYAxesAtZero": true,
           "coefficient": 1,
           "columnConfigurationMap": {
            "series": {
             "column": "table_type",
             "id": "column_c2f52c66535"
            },
            "x": {
             "column": "last_updated_date",
             "id": "column_c2f52c66532"
            },
            "y": [
             {
              "column": "num_records",
              "id": "column_c2f52c66534",
              "transform": "SUM"
             }
            ]
           },
           "dateTimeFormat": "DD/MM/YYYY HH:mm",
           "direction": {
            "type": "counterclockwise"
           },
           "error_y": {
            "type": "data",
            "visible": true
           },
           "globalSeriesType": "column",
           "isAggregationOn": true,
           "legend": {
            "traceorder": "normal"
           },
           "missingValuesAsZero": true,
           "numberFormat": "0,0[.]00000",
           "percentFormat": "0[.]00%",
           "series": {
            "error_y": {
             "type": "data",
             "visible": true
            },
            "stacking": null
           },
           "seriesOptions": {
            "column_c2f52c66534": {
             "type": "column",
             "yAxis": 0
            },
            "src": {
             "color": "#DFEBEB",
             "zIndex": 0
            },
            "src_extras": {
             "color": "#50F5ED",
             "zIndex": 4
            },
            "src_mismatches": {
             "color": "#FB8D3D",
             "zIndex": 2
            },
            "tgt": {
             "color": "#9EA1D4",
             "zIndex": 1
            },
            "tgt_mismatches": {
             "color": "#E92828",
             "zIndex": 3
            }
           },
           "showDataLabels": false,
           "sizemode": "diameter",
           "sortX": true,
           "sortY": true,
           "swappedAxes": false,
           "textFormat": "",
           "useAggregationsUi": true,
           "valuesOptions": {},
           "version": 2,
           "xAxis": {
            "labels": {
             "enabled": true
            },
            "type": "-"
           },
           "yAxis": [
            {
             "type": "-"
            },
            {
             "opposite": true,
             "type": "-"
            }
           ]
          }
         }
        ]
       },
       "datasetPreviewNameToCmdIdMap": {},
       "diffDeletes": [],
       "diffInserts": [],
       "displayType": "redashChart",
       "error": null,
       "errorDetails": null,
       "errorSummary": null,
       "errorTraceType": null,
       "finishTime": 0,
       "globalVars": {},
       "guid": "",
       "height": "auto",
       "hideCommandCode": false,
       "hideCommandResult": false,
       "iPythonMetadata": null,
       "inputWidgets": {},
       "isLockedInExamMode": false,
       "latestUser": "a user",
       "latestUserId": null,
       "listResultMetadata": null,
       "metadata": {
        "byteLimit": 2048000,
        "rowLimit": 10000
       },
       "nuid": "30d4d349-1d96-4e66-9c51-c940b10a096a",
       "origId": 0,
       "parentHierarchy": [],
       "pivotAggregation": null,
       "pivotColumns": null,
       "position": 10.0,
       "resultDbfsErrorMessage": null,
       "resultDbfsStatus": "INLINED_IN_TREE",
       "results": null,
       "showCommandTitle": false,
       "startTime": 0,
       "state": "input",
       "streamStates": {},
       "subcommandOptions": {
        "queryPlan": {
         "groups": [
          {
           "column": "last_updated_date",
           "type": "column"
          },
          {
           "column": "table_type",
           "type": "column"
          }
         ],
         "selects": [
          {
           "column": "last_updated_date",
           "type": "column"
          },
          {
           "alias": "column_c2f52c66534",
           "args": [
            {
             "column": "num_records",
             "type": "column"
            }
           ],
           "function": "SUM",
           "type": "function"
          },
          {
           "column": "table_type",
           "type": "column"
          }
         ]
        }
       },
       "submitTime": 0,
       "subtype": "tableResultSubCmd.visualization",
       "tableResultIndex": 0,
       "tableResultSettingsMap": {},
       "useConsistentColors": false,
       "version": "CommandV1",
       "width": "auto",
       "workflows": null,
       "xColumns": null,
       "yColumns": null
      }
     },
     "output_type": "display_data"
    },
    {
     "output_type": "display_data",
     "data": {
      "text/plain": [
       "Databricks visualization. Run in Databricks to view."
      ]
     },
     "metadata": {
      "application/vnd.databricks.v1.subcommand+json": {
       "baseErrorDetails": null,
       "bindings": {},
       "collapsed": false,
       "command": "%python\ndisplay(spark.sql(f'''select * from {WINDOWED_VALIDATION_METRICS} where iteration_name =\"{iteration_name}\" and lower(table_family) = lower(\"{table_family}\") order by last_updated_date, table_type'''))",
       "commandTitle": "Visualization 2",
       "commandType": "auto",
       "commandVersion": 0,
       "commentThread": [],
       "commentsVisible": false,
       "contentSha256Hex": null,
       "customPlotOptions": {
        "redashChart": [
         {
          "key": "type",
          "value": "COUNTER"
         },
         {
          "key": "options",
          "value": {
           "counterColName": "last_update_date_field",
           "counterLabel": "DATE BUCKET FIELD",
           "rowNumber": 1,
           "stringDecChar": ".",
           "stringDecimal": 0,
           "stringThouSep": ",",
           "targetRowNumber": 1,
           "tooltipFormat": "0,0.000"
          }
         }
        ]
       },
       "datasetPreviewNameToCmdIdMap": {},
       "diffDeletes": [],
       "diffInserts": [],
       "displayType": "redashChart",
       "error": null,
       "errorDetails": null,
       "errorSummary": null,
       "errorTraceType": null,
       "finishTime": 0,
       "globalVars": {},
       "guid": "",
       "height": "auto",
       "hideCommandCode": false,
       "hideCommandResult": false,
       "iPythonMetadata": null,
       "inputWidgets": {},
       "isLockedInExamMode": false,
       "latestUser": "a user",
       "latestUserId": null,
       "listResultMetadata": null,
       "metadata": {
        "byteLimit": 2048000,
        "rowLimit": 10000
       },
       "nuid": "f9d596f3-cef5-4ce6-81dc-7ebd16bc0e2d",
       "origId": 0,
       "parentHierarchy": [],
       "pivotAggregation": null,
       "pivotColumns": null,
       "position": 11.0,
       "resultDbfsErrorMessage": null,
       "resultDbfsStatus": "INLINED_IN_TREE",
       "results": null,
       "showCommandTitle": false,
       "startTime": 0,
       "state": "input",
       "streamStates": {},
       "subcommandOptions": {},
       "submitTime": 0,
       "subtype": "tableResultSubCmd.visualization",
       "tableResultIndex": 0,
       "tableResultSettingsMap": {},
       "useConsistentColors": false,
       "version": "CommandV1",
       "width": "auto",
       "workflows": null,
       "xColumns": null,
       "yColumns": null
      }
     },
     "output_type": "display_data"
    }
   ],
   "source": [
    "%python\n",
    "display(spark.sql(f'''select * from {WINDOWED_VALIDATION_METRICS} where iteration_name =\"{iteration_name}\" and lower(table_family) = lower(\"{table_family}\") order by last_updated_date, table_type'''))"
   ]
  },
  {
   "cell_type": "code",
   "execution_count": 0,
   "metadata": {
    "application/vnd.databricks.v1+cell": {
     "cellMetadata": {
      "byteLimit": 2048000,
      "rowLimit": 10000
     },
     "inputWidgets": {},
     "nuid": "62b18641-6f40-4445-bd8f-16518636520a",
     "showTitle": true,
     "tableResultSettingsMap": {},
     "title": "Column Mismatch Status per Table across filters applied"
    }
   },
   "outputs": [
    {
     "output_type": "display_data",
     "data": {
      "text/plain": [
       "Databricks visualization. Run in Databricks to view."
      ]
     },
     "metadata": {
      "application/vnd.databricks.v1.subcommand+json": {
       "baseErrorDetails": null,
       "bindings": {},
       "collapsed": false,
       "command": "%python\n__backend_agg_display_orig = display\n__backend_agg_dfs = []\ndef __backend_agg_display_new(df):\n    __backend_agg_df_modules = [\"pandas.core.frame\", \"databricks.koalas.frame\", \"pyspark.sql.dataframe\", \"pyspark.pandas.frame\", \"pyspark.sql.connect.dataframe\"]\n    if (type(df).__module__ in __backend_agg_df_modules and type(df).__name__ == 'DataFrame') or isinstance(df, list):\n        __backend_agg_dfs.append(df)\n\ndisplay = __backend_agg_display_new\n\ndef __backend_agg_user_code_fn():\n    import base64\n    exec(base64.standard_b64decode(\"ZGlzcGxheShzcGFyay5zcWwoZicnJwpzZWxlY3QKICBhLnRhYmxlX2ZhbWlseSwKICB0Z3RfdGJsLAogIGEuaXRlcmF0aW9uX25hbWUsCiAgYS5hZGR0bmxfZmlsdGVyLAogIGNvdW50KGNvbF9uYW1lKSB0b3RhbF9jb2x1bW5zLCAKICBzdW0oaXNfbWlzbWF0Y2gpIG1pc21hdGNoZWRfY29sdW1ucwpmcm9tCiAgKAogICAgc2VsZWN0CiAgICAgIHRhYmxlX2ZhbWlseSwKICAgICAgdGd0X3RibCwKICAgICAgaXRlcmF0aW9uX25hbWUsCiAgICAgIGNvbF9uYW1lLAogICAgICB0b3RhbF9tYXRjaGVzLAogICAgICBtaXNtYXRjaGVzLAogICAgICBhZGR0bmxfZmlsdGVyLAogICAgICBpZihtaXNtYXRjaGVzID0gMCwgMCwgMSkgaXNfbWlzbWF0Y2gKICAgIGZyb20KICAgICAge01JU01BVENIX01FVFJJQ1N9CiAgICAgIHdoZXJlIHRhYmxlX2ZhbWlseSA9J3t0YWJsZV9mYW1pbHl9JyBhbmQgaXRlcmF0aW9uX25hbWUgPSd7aXRlcmF0aW9uX25hbWV9JwogICkgYQpncm91cCBieQogIGFsbApvcmRlciBieSBtaXNtYXRjaGVkX2NvbHVtbnMgZGVzYwonJycpKQ==\").decode())\n\ntry:\n    # run user code\n    __backend_agg_user_code_fn()\n\n    #reset display function\n    display = __backend_agg_display_orig\n\n    if len(__backend_agg_dfs) > 0:\n        # create a temp view\n        if type(__backend_agg_dfs[0]).__module__ == \"databricks.koalas.frame\":\n            # koalas dataframe\n            __backend_agg_dfs[0].to_spark().createOrReplaceTempView(\"DatabricksView707d630\")\n        elif type(__backend_agg_dfs[0]).__module__ == \"pandas.core.frame\" or isinstance(__backend_agg_dfs[0], list):\n            # pandas dataframe\n            spark.createDataFrame(__backend_agg_dfs[0]).createOrReplaceTempView(\"DatabricksView707d630\")\n        else:\n            __backend_agg_dfs[0].createOrReplaceTempView(\"DatabricksView707d630\")\n        #run backend agg\n        display(spark.sql(\"\"\"WITH q AS (select * from DatabricksView707d630) SELECT `tgt_tbl`,`total_columns`,`mismatched_columns`,`addtnl_filter` FROM q\"\"\"))\n    else:\n        displayHTML(\"dataframe no longer exists. If you're using dataframe.display(), use display(dataframe) instead.\")\n\n\nfinally:\n    spark.sql(\"drop view if exists DatabricksView707d630\")\n    display = __backend_agg_display_orig\n    del __backend_agg_display_new\n    del __backend_agg_display_orig\n    del __backend_agg_dfs\n    del __backend_agg_user_code_fn\n\n",
       "commandTitle": "Column Mismatch Status per Table across filters applied",
       "commandType": "auto",
       "commandVersion": 0,
       "commentThread": [],
       "commentsVisible": false,
       "contentSha256Hex": null,
       "customPlotOptions": {
        "redashChart": [
         {
          "key": "type",
          "value": "CHART"
         },
         {
          "key": "options",
          "value": {
           "alignYAxesAtZero": true,
           "coefficient": 1,
           "columnConfigurationMap": {
            "series": {
             "column": "addtnl_filter",
             "id": "column_5ea56373372"
            },
            "x": {
             "column": "tgt_tbl",
             "id": "column_5ea56373364"
            },
            "y": [
             {
              "column": "total_columns",
              "id": "column_5ea56373371"
             },
             {
              "column": "mismatched_columns",
              "id": "column_5ea56373375"
             }
            ]
           },
           "dateTimeFormat": "DD/MM/YYYY HH:mm",
           "direction": {
            "type": "counterclockwise"
           },
           "error_y": {
            "type": "data",
            "visible": true
           },
           "globalSeriesType": "column",
           "isAggregationOn": false,
           "legend": {
            "enabled": true,
            "placement": "below",
            "traceorder": "normal"
           },
           "missingValuesAsZero": true,
           "numberFormat": "0,0[.]00000",
           "percentFormat": "0[.]00%",
           "series": {
            "error_y": {
             "type": "data",
             "visible": true
            },
            "stacking": ""
           },
           "seriesOptions": {
            "N/A, SUM(mismatched_columns)": {
             "zIndex": 1
            },
            "N/A, SUM(total_columns)": {
             "zIndex": 0
            },
            "N/A, mismatched_columns": {
             "color": "#F6C7B3",
             "zIndex": 1
            },
            "N/A, total_columns": {
             "color": "#CDE8E6",
             "zIndex": 0
            },
            "column_5ea56373371": {
             "type": "column",
             "yAxis": 0
            },
            "column_5ea56373375": {
             "type": "column",
             "yAxis": 0
            },
            "mismatched_columns": {
             "type": "column",
             "yAxis": 0
            },
            "total_columns": {
             "type": "column",
             "yAxis": 0
            }
           },
           "showDataLabels": false,
           "sizemode": "diameter",
           "sortX": true,
           "sortY": true,
           "swappedAxes": false,
           "textFormat": "",
           "useAggregationsUi": true,
           "valuesOptions": {},
           "version": 2,
           "xAxis": {
            "labels": {
             "enabled": true
            },
            "type": "-"
           },
           "yAxis": [
            {
             "type": "-"
            },
            {
             "opposite": true,
             "type": "-"
            }
           ]
          }
         }
        ]
       },
       "datasetPreviewNameToCmdIdMap": {},
       "diffDeletes": [],
       "diffInserts": [],
       "displayType": "redashChart",
       "error": null,
       "errorDetails": null,
       "errorSummary": null,
       "errorTraceType": null,
       "finishTime": 0,
       "globalVars": {},
       "guid": "",
       "height": "auto",
       "hideCommandCode": false,
       "hideCommandResult": false,
       "iPythonMetadata": null,
       "inputWidgets": {},
       "isLockedInExamMode": false,
       "latestUser": "a user",
       "latestUserId": null,
       "listResultMetadata": null,
       "metadata": {
        "byteLimit": 2048000,
        "rowLimit": 10000
       },
       "nuid": "539ce6dd-6e31-4aa8-97c0-adacbb244c06",
       "origId": 0,
       "parentHierarchy": [],
       "pivotAggregation": null,
       "pivotColumns": null,
       "position": 11.0,
       "resultDbfsErrorMessage": null,
       "resultDbfsStatus": "INLINED_IN_TREE",
       "results": null,
       "showCommandTitle": false,
       "startTime": 0,
       "state": "input",
       "streamStates": {},
       "subcommandOptions": {
        "queryPlan": {
         "selects": [
          {
           "column": "tgt_tbl",
           "type": "column"
          },
          {
           "column": "total_columns",
           "type": "column"
          },
          {
           "column": "mismatched_columns",
           "type": "column"
          },
          {
           "column": "addtnl_filter",
           "type": "column"
          }
         ]
        }
       },
       "submitTime": 0,
       "subtype": "tableResultSubCmd.visualization",
       "tableResultIndex": 0,
       "tableResultSettingsMap": {},
       "useConsistentColors": false,
       "version": "CommandV1",
       "width": "auto",
       "workflows": null,
       "xColumns": null,
       "yColumns": null
      }
     },
     "output_type": "display_data"
    }
   ],
   "source": [
    "%python\n",
    "display(spark.sql(f'''\n",
    "select\n",
    "  a.table_family,\n",
    "  tgt_tbl,\n",
    "  a.iteration_name,\n",
    "  a.addtnl_filter,\n",
    "  count(col_name) total_columns, \n",
    "  sum(is_mismatch) mismatched_columns\n",
    "from\n",
    "  (\n",
    "    select\n",
    "      table_family,\n",
    "      tgt_tbl,\n",
    "      iteration_name,\n",
    "      col_name,\n",
    "      total_matches,\n",
    "      mismatches,\n",
    "      addtnl_filter,\n",
    "      if(mismatches = 0, 0, 1) is_mismatch\n",
    "    from\n",
    "      {MISMATCH_METRICS}\n",
    "      where table_family ='{table_family}' and iteration_name ='{iteration_name}'\n",
    "  ) a\n",
    "group by\n",
    "  all\n",
    "order by mismatched_columns desc\n",
    "'''))"
   ]
  },
  {
   "cell_type": "code",
   "execution_count": 0,
   "metadata": {
    "application/vnd.databricks.v1+cell": {
     "cellMetadata": {
      "byteLimit": 2048000,
      "rowLimit": 10000
     },
     "inputWidgets": {},
     "nuid": "4f71f039-f0e8-499f-a484-dea98dfe8100",
     "showTitle": false,
     "tableResultSettingsMap": {},
     "title": ""
    }
   },
   "outputs": [
    {
     "output_type": "display_data",
     "data": {
      "text/plain": [
       "Databricks visualization. Run in Databricks to view."
      ]
     },
     "metadata": {
      "application/vnd.databricks.v1.subcommand+json": {
       "baseErrorDetails": null,
       "bindings": {},
       "collapsed": false,
       "command": "%python\n__backend_agg_display_orig = display\n__backend_agg_dfs = []\ndef __backend_agg_display_new(df):\n    __backend_agg_df_modules = [\"pandas.core.frame\", \"databricks.koalas.frame\", \"pyspark.sql.dataframe\", \"pyspark.pandas.frame\", \"pyspark.sql.connect.dataframe\"]\n    if (type(df).__module__ in __backend_agg_df_modules and type(df).__name__ == 'DataFrame') or isinstance(df, list):\n        __backend_agg_dfs.append(df)\n\ndisplay = __backend_agg_display_new\n\ndef __backend_agg_user_code_fn():\n    import base64\n    exec(base64.standard_b64decode(\"YW5vbWFsaWVzX2RhdGFfdGJsPXNwYXJrLnNxbChmInNlbGVjdCBjb25jYXQodmFsaWRhdGlvbl9kYXRhX2RiLCcuJyx0YWJsZV9mYW1pbHksJ19fYW5vbWFsaWVzJykgYXMgYW5vbWFsaWVzX2RhdGEgZnJvbSB7VkFMSURBVElPTl9NQVBQSU5HX1RBQkxFfSB3aGVyZSB0YWJsZV9mYW1pbHkgPSd7dGFibGVfZmFtaWx5fSciKS5jb2xsZWN0KClbMF1bImFub21hbGllc19kYXRhIl0KaWYoc3BhcmsuY2F0YWxvZy50YWJsZUV4aXN0cyhhbm9tYWxpZXNfZGF0YV90YmwpKToKICBkaXNwbGF5KHNwYXJrLnNxbChmInNlbGVjdCAne3RhYmxlX2ZhbWlseX0nIGFzIHRhYmxlX2ZhbWlseSwgKiBmcm9tIHthbm9tYWxpZXNfZGF0YV90Ymx9IHdoZXJlIGl0ZXJhdGlvbl9uYW1lID0ne2l0ZXJhdGlvbl9uYW1lfSciKSk=\").decode())\n\ntry:\n    # run user code\n    __backend_agg_user_code_fn()\n\n    #reset display function\n    display = __backend_agg_display_orig\n\n    if len(__backend_agg_dfs) > 0:\n        # create a temp view\n        if type(__backend_agg_dfs[0]).__module__ == \"databricks.koalas.frame\":\n            # koalas dataframe\n            __backend_agg_dfs[0].to_spark().createOrReplaceTempView(\"DatabricksViewaffed40\")\n        elif type(__backend_agg_dfs[0]).__module__ == \"pandas.core.frame\" or isinstance(__backend_agg_dfs[0], list):\n            # pandas dataframe\n            spark.createDataFrame(__backend_agg_dfs[0]).createOrReplaceTempView(\"DatabricksViewaffed40\")\n        else:\n            __backend_agg_dfs[0].createOrReplaceTempView(\"DatabricksViewaffed40\")\n        #run backend agg\n        display(spark.sql(\"\"\"WITH q AS (select * from DatabricksViewaffed40) SELECT `table_family`,COUNT(*) `column_5ea56373888`,`type` FROM q GROUP BY `table_family`,`type`\"\"\"))\n    else:\n        displayHTML(\"dataframe no longer exists. If you're using dataframe.display(), use display(dataframe) instead.\")\n\n\nfinally:\n    spark.sql(\"drop view if exists DatabricksViewaffed40\")\n    display = __backend_agg_display_orig\n    del __backend_agg_display_new\n    del __backend_agg_display_orig\n    del __backend_agg_dfs\n    del __backend_agg_user_code_fn\n\n",
       "commandTitle": "Anomalies Metrics",
       "commandType": "auto",
       "commandVersion": 0,
       "commentThread": [],
       "commentsVisible": false,
       "contentSha256Hex": null,
       "customPlotOptions": {
        "redashChart": [
         {
          "key": "type",
          "value": "CHART"
         },
         {
          "key": "options",
          "value": {
           "alignYAxesAtZero": true,
           "coefficient": 1,
           "columnConfigurationMap": {
            "series": {
             "column": "type",
             "id": "column_5ea56373889"
            },
            "x": {
             "column": "table_family",
             "id": "column_5ea56373886"
            },
            "y": [
             {
              "column": "*",
              "id": "column_5ea56373888",
              "transform": "COUNT"
             }
            ]
           },
           "dateTimeFormat": "DD/MM/YYYY HH:mm",
           "direction": {
            "type": "counterclockwise"
           },
           "error_y": {
            "type": "data",
            "visible": true
           },
           "globalSeriesType": "column",
           "isAggregationOn": true,
           "legend": {
            "traceorder": "normal"
           },
           "missingValuesAsZero": true,
           "numberFormat": "0,0[.]00000",
           "percentFormat": "0[.]00%",
           "series": {
            "error_y": {
             "type": "data",
             "visible": true
            },
            "stacking": null
           },
           "seriesOptions": {
            "column_5ea56373888": {
             "type": "column",
             "yAxis": 0
            },
            "src_extras": {
             "color": "#799CFF",
             "zIndex": 2
            },
            "src_mismatches": {
             "color": "#FB8D3D",
             "zIndex": 1
            },
            "tgt_mismatches": {
             "color": "#E92828",
             "zIndex": 0
            }
           },
           "showDataLabels": false,
           "sizemode": "diameter",
           "sortX": true,
           "sortY": true,
           "swappedAxes": false,
           "textFormat": "",
           "useAggregationsUi": true,
           "valuesOptions": {},
           "version": 2,
           "xAxis": {
            "labels": {
             "enabled": true
            },
            "type": "-"
           },
           "yAxis": [
            {
             "type": "-"
            },
            {
             "opposite": true,
             "type": "-"
            }
           ]
          }
         }
        ]
       },
       "datasetPreviewNameToCmdIdMap": {},
       "diffDeletes": [],
       "diffInserts": [],
       "displayType": "redashChart",
       "error": null,
       "errorDetails": null,
       "errorSummary": null,
       "errorTraceType": null,
       "finishTime": 0,
       "globalVars": {},
       "guid": "",
       "height": "auto",
       "hideCommandCode": false,
       "hideCommandResult": false,
       "iPythonMetadata": null,
       "inputWidgets": {},
       "isLockedInExamMode": false,
       "latestUser": "a user",
       "latestUserId": null,
       "listResultMetadata": null,
       "metadata": {
        "byteLimit": 2048000,
        "rowLimit": 10000
       },
       "nuid": "2e6a5714-8f74-459b-b97d-f8a33592cc21",
       "origId": 0,
       "parentHierarchy": [],
       "pivotAggregation": null,
       "pivotColumns": null,
       "position": 12.0,
       "resultDbfsErrorMessage": null,
       "resultDbfsStatus": "INLINED_IN_TREE",
       "results": null,
       "showCommandTitle": false,
       "startTime": 0,
       "state": "input",
       "streamStates": {},
       "subcommandOptions": {
        "queryPlan": {
         "groups": [
          {
           "column": "table_family",
           "type": "column"
          },
          {
           "column": "type",
           "type": "column"
          }
         ],
         "selects": [
          {
           "column": "table_family",
           "type": "column"
          },
          {
           "alias": "column_5ea56373888",
           "args": [
            {
             "column": "*",
             "type": "column"
            }
           ],
           "function": "COUNT",
           "type": "function"
          },
          {
           "column": "type",
           "type": "column"
          }
         ]
        }
       },
       "submitTime": 0,
       "subtype": "tableResultSubCmd.visualization",
       "tableResultIndex": 0,
       "tableResultSettingsMap": {},
       "useConsistentColors": false,
       "version": "CommandV1",
       "width": "auto",
       "workflows": null,
       "xColumns": null,
       "yColumns": null
      }
     },
     "output_type": "display_data"
    },
    {
     "output_type": "display_data",
     "data": {
      "text/plain": [
       "Databricks visualization. Run in Databricks to view."
      ]
     },
     "metadata": {
      "application/vnd.databricks.v1.subcommand+json": {
       "baseErrorDetails": null,
       "bindings": {},
       "collapsed": false,
       "command": "%python\nanomalies_data_tbl=spark.sql(f\"select concat(validation_data_db,'.',table_family,'__anomalies') as anomalies_data from {VALIDATION_MAPPING_TABLE} where table_family ='{table_family}'\").collect()[0][\"anomalies_data\"]\nif(spark.catalog.tableExists(anomalies_data_tbl)):\n  display(spark.sql(f\"select '{table_family}' as table_family, * from {anomalies_data_tbl} where iteration_name ='{iteration_name}'\"))\n",
       "commandTitle": "Visualization 1",
       "commandType": "auto",
       "commandVersion": 0,
       "commentThread": [],
       "commentsVisible": false,
       "contentSha256Hex": null,
       "customPlotOptions": {
        "redashChart": [
         {
          "key": "type",
          "value": "TABLE"
         },
         {
          "key": "options",
          "value": {
           "columns": [
            {
             "alignContent": "left",
             "allowHTML": false,
             "allowSearch": false,
             "booleanValues": [
              "false",
              "true"
             ],
             "displayAs": "string",
             "highlightLinks": false,
             "imageHeight": "",
             "imageTitleTemplate": "{{ @ }}",
             "imageUrlTemplate": "{{ @ }}",
             "imageWidth": "",
             "linkOpenInNewTab": true,
             "linkTextTemplate": "{{ @ }}",
             "linkTitleTemplate": "{{ @ }}",
             "linkUrlTemplate": "{{ @ }}",
             "name": "table_family",
             "order": 100000,
             "preserveWhitespace": false,
             "title": "table_family",
             "type": "string",
             "useMonospaceFont": false,
             "visible": true
            },
            {
             "alignContent": "left",
             "allowHTML": false,
             "allowSearch": false,
             "booleanValues": [
              "false",
              "true"
             ],
             "displayAs": "string",
             "highlightLinks": false,
             "imageHeight": "",
             "imageTitleTemplate": "{{ @ }}",
             "imageUrlTemplate": "{{ @ }}",
             "imageWidth": "",
             "linkOpenInNewTab": true,
             "linkTextTemplate": "{{ @ }}",
             "linkTitleTemplate": "{{ @ }}",
             "linkUrlTemplate": "{{ @ }}",
             "name": "type",
             "order": 100001,
             "preserveWhitespace": false,
             "title": "type",
             "type": "string",
             "useMonospaceFont": false,
             "visible": true
            },
            {
             "alignContent": "right",
             "allowHTML": false,
             "allowSearch": false,
             "booleanValues": [
              "false",
              "true"
             ],
             "displayAs": "number",
             "highlightLinks": false,
             "imageHeight": "",
             "imageTitleTemplate": "{{ @ }}",
             "imageUrlTemplate": "{{ @ }}",
             "imageWidth": "",
             "linkOpenInNewTab": true,
             "linkTextTemplate": "{{ @ }}",
             "linkTitleTemplate": "{{ @ }}",
             "linkUrlTemplate": "{{ @ }}",
             "name": "LOCATION_ID",
             "numberFormat": "0.00",
             "order": 100002,
             "preserveWhitespace": false,
             "title": "LOCATION_ID",
             "type": "float",
             "useMonospaceFont": false,
             "visible": true
            },
            {
             "alignContent": "right",
             "allowHTML": false,
             "allowSearch": false,
             "booleanValues": [
              "false",
              "true"
             ],
             "displayAs": "number",
             "highlightLinks": false,
             "imageHeight": "",
             "imageTitleTemplate": "{{ @ }}",
             "imageUrlTemplate": "{{ @ }}",
             "imageWidth": "",
             "linkOpenInNewTab": true,
             "linkTextTemplate": "{{ @ }}",
             "linkTitleTemplate": "{{ @ }}",
             "linkUrlTemplate": "{{ @ }}",
             "name": "WM_TASK_HDR_ID",
             "numberFormat": "0.00",
             "order": 100003,
             "preserveWhitespace": false,
             "title": "WM_TASK_HDR_ID",
             "type": "float",
             "useMonospaceFont": false,
             "visible": true
            },
            {
             "alignContent": "right",
             "allowHTML": false,
             "allowSearch": false,
             "booleanValues": [
              "false",
              "true"
             ],
             "displayAs": "number",
             "highlightLinks": false,
             "imageHeight": "",
             "imageTitleTemplate": "{{ @ }}",
             "imageUrlTemplate": "{{ @ }}",
             "imageWidth": "",
             "linkOpenInNewTab": true,
             "linkTextTemplate": "{{ @ }}",
             "linkTitleTemplate": "{{ @ }}",
             "linkUrlTemplate": "{{ @ }}",
             "name": "WM_TASK_ID",
             "numberFormat": "0.00",
             "order": 100004,
             "preserveWhitespace": false,
             "title": "WM_TASK_ID",
             "type": "float",
             "useMonospaceFont": false,
             "visible": true
            },
            {
             "alignContent": "right",
             "allowHTML": false,
             "allowSearch": false,
             "booleanValues": [
              "false",
              "true"
             ],
             "displayAs": "number",
             "highlightLinks": false,
             "imageHeight": "",
             "imageTitleTemplate": "{{ @ }}",
             "imageUrlTemplate": "{{ @ }}",
             "imageWidth": "",
             "linkOpenInNewTab": true,
             "linkTextTemplate": "{{ @ }}",
             "linkTitleTemplate": "{{ @ }}",
             "linkUrlTemplate": "{{ @ }}",
             "name": "WM_ORIG_TASK_ID",
             "numberFormat": "0.00",
             "order": 100005,
             "preserveWhitespace": false,
             "title": "WM_ORIG_TASK_ID",
             "type": "float",
             "useMonospaceFont": false,
             "visible": true
            },
            {
             "alignContent": "left",
             "allowHTML": false,
             "allowSearch": false,
             "booleanValues": [
              "false",
              "true"
             ],
             "displayAs": "string",
             "highlightLinks": false,
             "imageHeight": "",
             "imageTitleTemplate": "{{ @ }}",
             "imageUrlTemplate": "{{ @ }}",
             "imageWidth": "",
             "linkOpenInNewTab": true,
             "linkTextTemplate": "{{ @ }}",
             "linkTitleTemplate": "{{ @ }}",
             "linkUrlTemplate": "{{ @ }}",
             "name": "WM_WHSE",
             "order": 100006,
             "preserveWhitespace": false,
             "title": "WM_WHSE",
             "type": "string",
             "useMonospaceFont": false,
             "visible": true
            },
            {
             "alignContent": "left",
             "allowHTML": false,
             "allowSearch": false,
             "booleanValues": [
              "false",
              "true"
             ],
             "displayAs": "string",
             "highlightLinks": false,
             "imageHeight": "",
             "imageTitleTemplate": "{{ @ }}",
             "imageUrlTemplate": "{{ @ }}",
             "imageWidth": "",
             "linkOpenInNewTab": true,
             "linkTextTemplate": "{{ @ }}",
             "linkTitleTemplate": "{{ @ }}",
             "linkUrlTemplate": "{{ @ }}",
             "name": "WM_TASK_DESC",
             "order": 100007,
             "preserveWhitespace": false,
             "title": "WM_TASK_DESC",
             "type": "string",
             "useMonospaceFont": false,
             "visible": true
            },
            {
             "alignContent": "left",
             "allowHTML": false,
             "allowSearch": false,
             "booleanValues": [
              "false",
              "true"
             ],
             "displayAs": "string",
             "highlightLinks": false,
             "imageHeight": "",
             "imageTitleTemplate": "{{ @ }}",
             "imageUrlTemplate": "{{ @ }}",
             "imageWidth": "",
             "linkOpenInNewTab": true,
             "linkTextTemplate": "{{ @ }}",
             "linkTitleTemplate": "{{ @ }}",
             "linkUrlTemplate": "{{ @ }}",
             "name": "WM_TASK_TYPE",
             "order": 100008,
             "preserveWhitespace": false,
             "title": "WM_TASK_TYPE",
             "type": "string",
             "useMonospaceFont": false,
             "visible": true
            },
            {
             "alignContent": "left",
             "allowHTML": false,
             "allowSearch": false,
             "booleanValues": [
              "false",
              "true"
             ],
             "displayAs": "string",
             "highlightLinks": false,
             "imageHeight": "",
             "imageTitleTemplate": "{{ @ }}",
             "imageUrlTemplate": "{{ @ }}",
             "imageWidth": "",
             "linkOpenInNewTab": true,
             "linkTextTemplate": "{{ @ }}",
             "linkTitleTemplate": "{{ @ }}",
             "linkUrlTemplate": "{{ @ }}",
             "name": "WM_TASK_BATCH",
             "order": 100009,
             "preserveWhitespace": false,
             "title": "WM_TASK_BATCH",
             "type": "string",
             "useMonospaceFont": false,
             "visible": true
            },
            {
             "alignContent": "right",
             "allowHTML": false,
             "allowSearch": false,
             "booleanValues": [
              "false",
              "true"
             ],
             "displayAs": "number",
             "highlightLinks": false,
             "imageHeight": "",
             "imageTitleTemplate": "{{ @ }}",
             "imageUrlTemplate": "{{ @ }}",
             "imageWidth": "",
             "linkOpenInNewTab": true,
             "linkTextTemplate": "{{ @ }}",
             "linkTitleTemplate": "{{ @ }}",
             "linkUrlTemplate": "{{ @ }}",
             "name": "WM_NEXT_TASK_ID",
             "numberFormat": "0.00",
             "order": 100010,
             "preserveWhitespace": false,
             "title": "WM_NEXT_TASK_ID",
             "type": "float",
             "useMonospaceFont": false,
             "visible": true
            },
            {
             "alignContent": "right",
             "allowHTML": false,
             "allowSearch": false,
             "booleanValues": [
              "false",
              "true"
             ],
             "displayAs": "number",
             "highlightLinks": false,
             "imageHeight": "",
             "imageTitleTemplate": "{{ @ }}",
             "imageUrlTemplate": "{{ @ }}",
             "imageWidth": "",
             "linkOpenInNewTab": true,
             "linkTextTemplate": "{{ @ }}",
             "linkTitleTemplate": "{{ @ }}",
             "linkUrlTemplate": "{{ @ }}",
             "name": "WM_STAT_CD",
             "numberFormat": "0.00",
             "order": 100011,
             "preserveWhitespace": false,
             "title": "WM_STAT_CD",
             "type": "float",
             "useMonospaceFont": false,
             "visible": true
            },
            {
             "alignContent": "right",
             "allowHTML": false,
             "allowSearch": false,
             "booleanValues": [
              "false",
              "true"
             ],
             "displayAs": "number",
             "highlightLinks": false,
             "imageHeight": "",
             "imageTitleTemplate": "{{ @ }}",
             "imageUrlTemplate": "{{ @ }}",
             "imageWidth": "",
             "linkOpenInNewTab": true,
             "linkTextTemplate": "{{ @ }}",
             "linkTitleTemplate": "{{ @ }}",
             "linkUrlTemplate": "{{ @ }}",
             "name": "WM_LOCN_HDR_ID",
             "numberFormat": "0.00",
             "order": 100012,
             "preserveWhitespace": false,
             "title": "WM_LOCN_HDR_ID",
             "type": "float",
             "useMonospaceFont": false,
             "visible": true
            },
            {
             "alignContent": "right",
             "allowHTML": false,
             "allowSearch": false,
             "booleanValues": [
              "false",
              "true"
             ],
             "displayAs": "number",
             "highlightLinks": false,
             "imageHeight": "",
             "imageTitleTemplate": "{{ @ }}",
             "imageUrlTemplate": "{{ @ }}",
             "imageWidth": "",
             "linkOpenInNewTab": true,
             "linkTextTemplate": "{{ @ }}",
             "linkTitleTemplate": "{{ @ }}",
             "linkUrlTemplate": "{{ @ }}",
             "name": "WM_ITEM_ID",
             "numberFormat": "0.00",
             "order": 100013,
             "preserveWhitespace": false,
             "title": "WM_ITEM_ID",
             "type": "float",
             "useMonospaceFont": false,
             "visible": true
            },
            {
             "alignContent": "left",
             "allowHTML": false,
             "allowSearch": false,
             "booleanValues": [
              "false",
              "true"
             ],
             "displayAs": "string",
             "highlightLinks": false,
             "imageHeight": "",
             "imageTitleTemplate": "{{ @ }}",
             "imageUrlTemplate": "{{ @ }}",
             "imageWidth": "",
             "linkOpenInNewTab": true,
             "linkTextTemplate": "{{ @ }}",
             "linkTitleTemplate": "{{ @ }}",
             "linkUrlTemplate": "{{ @ }}",
             "name": "WM_NEED_ID",
             "order": 100014,
             "preserveWhitespace": false,
             "title": "WM_NEED_ID",
             "type": "string",
             "useMonospaceFont": false,
             "visible": true
            },
            {
             "alignContent": "left",
             "allowHTML": false,
             "allowSearch": false,
             "booleanValues": [
              "false",
              "true"
             ],
             "displayAs": "string",
             "highlightLinks": false,
             "imageHeight": "",
             "imageTitleTemplate": "{{ @ }}",
             "imageUrlTemplate": "{{ @ }}",
             "imageWidth": "",
             "linkOpenInNewTab": true,
             "linkTextTemplate": "{{ @ }}",
             "linkTitleTemplate": "{{ @ }}",
             "linkUrlTemplate": "{{ @ }}",
             "name": "WM_INVN_TYPE",
             "order": 100015,
             "preserveWhitespace": false,
             "title": "WM_INVN_TYPE",
             "type": "string",
             "useMonospaceFont": false,
             "visible": true
            },
            {
             "alignContent": "right",
             "allowHTML": false,
             "allowSearch": false,
             "booleanValues": [
              "false",
              "true"
             ],
             "displayAs": "number",
             "highlightLinks": false,
             "imageHeight": "",
             "imageTitleTemplate": "{{ @ }}",
             "imageUrlTemplate": "{{ @ }}",
             "imageWidth": "",
             "linkOpenInNewTab": true,
             "linkTextTemplate": "{{ @ }}",
             "linkTitleTemplate": "{{ @ }}",
             "linkUrlTemplate": "{{ @ }}",
             "name": "WM_INVN_NEED_TYPE",
             "numberFormat": "0.00",
             "order": 100016,
             "preserveWhitespace": false,
             "title": "WM_INVN_NEED_TYPE",
             "type": "float",
             "useMonospaceFont": false,
             "visible": true
            },
            {
             "alignContent": "right",
             "allowHTML": false,
             "allowSearch": false,
             "booleanValues": [
              "false",
              "true"
             ],
             "displayAs": "number",
             "highlightLinks": false,
             "imageHeight": "",
             "imageTitleTemplate": "{{ @ }}",
             "imageUrlTemplate": "{{ @ }}",
             "imageWidth": "",
             "linkOpenInNewTab": true,
             "linkTextTemplate": "{{ @ }}",
             "linkTitleTemplate": "{{ @ }}",
             "linkUrlTemplate": "{{ @ }}",
             "name": "WM_TASK_RULE_PARM_ID",
             "numberFormat": "0.00",
             "order": 100017,
             "preserveWhitespace": false,
             "title": "WM_TASK_RULE_PARM_ID",
             "type": "float",
             "useMonospaceFont": false,
             "visible": true
            },
            {
             "alignContent": "right",
             "allowHTML": false,
             "allowSearch": false,
             "booleanValues": [
              "false",
              "true"
             ],
             "displayAs": "number",
             "highlightLinks": false,
             "imageHeight": "",
             "imageTitleTemplate": "{{ @ }}",
             "imageUrlTemplate": "{{ @ }}",
             "imageWidth": "",
             "linkOpenInNewTab": true,
             "linkTextTemplate": "{{ @ }}",
             "linkTitleTemplate": "{{ @ }}",
             "linkUrlTemplate": "{{ @ }}",
             "name": "WM_TASK_PARM_ID",
             "numberFormat": "0.00",
             "order": 100018,
             "preserveWhitespace": false,
             "title": "WM_TASK_PARM_ID",
             "type": "float",
             "useMonospaceFont": false,
             "visible": true
            },
            {
             "alignContent": "right",
             "allowHTML": false,
             "allowSearch": false,
             "booleanValues": [
              "false",
              "true"
             ],
             "displayAs": "number",
             "highlightLinks": false,
             "imageHeight": "",
             "imageTitleTemplate": "{{ @ }}",
             "imageUrlTemplate": "{{ @ }}",
             "imageWidth": "",
             "linkOpenInNewTab": true,
             "linkTextTemplate": "{{ @ }}",
             "linkTitleTemplate": "{{ @ }}",
             "linkUrlTemplate": "{{ @ }}",
             "name": "WM_RULE_ID",
             "numberFormat": "0.00",
             "order": 100019,
             "preserveWhitespace": false,
             "title": "WM_RULE_ID",
             "type": "float",
             "useMonospaceFont": false,
             "visible": true
            },
            {
             "alignContent": "left",
             "allowHTML": false,
             "allowSearch": false,
             "booleanValues": [
              "false",
              "true"
             ],
             "displayAs": "string",
             "highlightLinks": false,
             "imageHeight": "",
             "imageTitleTemplate": "{{ @ }}",
             "imageUrlTemplate": "{{ @ }}",
             "imageWidth": "",
             "linkOpenInNewTab": true,
             "linkTextTemplate": "{{ @ }}",
             "linkTitleTemplate": "{{ @ }}",
             "linkUrlTemplate": "{{ @ }}",
             "name": "WM_EXCEPTION_CD",
             "order": 100020,
             "preserveWhitespace": false,
             "title": "WM_EXCEPTION_CD",
             "type": "string",
             "useMonospaceFont": false,
             "visible": true
            },
            {
             "alignContent": "left",
             "allowHTML": false,
             "allowSearch": false,
             "booleanValues": [
              "false",
              "true"
             ],
             "displayAs": "string",
             "highlightLinks": false,
             "imageHeight": "",
             "imageTitleTemplate": "{{ @ }}",
             "imageUrlTemplate": "{{ @ }}",
             "imageWidth": "",
             "linkOpenInNewTab": true,
             "linkTextTemplate": "{{ @ }}",
             "linkTitleTemplate": "{{ @ }}",
             "linkUrlTemplate": "{{ @ }}",
             "name": "WM_PICK_CART_TYPE",
             "order": 100021,
             "preserveWhitespace": false,
             "title": "WM_PICK_CART_TYPE",
             "type": "string",
             "useMonospaceFont": false,
             "visible": true
            },
            {
             "alignContent": "right",
             "allowHTML": false,
             "allowSearch": false,
             "booleanValues": [
              "false",
              "true"
             ],
             "displayAs": "number",
             "highlightLinks": false,
             "imageHeight": "",
             "imageTitleTemplate": "{{ @ }}",
             "imageUrlTemplate": "{{ @ }}",
             "imageWidth": "",
             "linkOpenInNewTab": true,
             "linkTextTemplate": "{{ @ }}",
             "linkTitleTemplate": "{{ @ }}",
             "linkUrlTemplate": "{{ @ }}",
             "name": "DFLT_TASK_PRTY",
             "numberFormat": "0.00",
             "order": 100022,
             "preserveWhitespace": false,
             "title": "DFLT_TASK_PRTY",
             "type": "float",
             "useMonospaceFont": false,
             "visible": true
            },
            {
             "alignContent": "right",
             "allowHTML": false,
             "allowSearch": false,
             "booleanValues": [
              "false",
              "true"
             ],
             "displayAs": "number",
             "highlightLinks": false,
             "imageHeight": "",
             "imageTitleTemplate": "{{ @ }}",
             "imageUrlTemplate": "{{ @ }}",
             "imageWidth": "",
             "linkOpenInNewTab": true,
             "linkTextTemplate": "{{ @ }}",
             "linkTitleTemplate": "{{ @ }}",
             "linkUrlTemplate": "{{ @ }}",
             "name": "CURR_TASK_PRTY",
             "numberFormat": "0.00",
             "order": 100023,
             "preserveWhitespace": false,
             "title": "CURR_TASK_PRTY",
             "type": "float",
             "useMonospaceFont": false,
             "visible": true
            },
            {
             "alignContent": "left",
             "allowHTML": false,
             "allowSearch": false,
             "booleanValues": [
              "false",
              "true"
             ],
             "displayAs": "string",
             "highlightLinks": false,
             "imageHeight": "",
             "imageTitleTemplate": "{{ @ }}",
             "imageUrlTemplate": "{{ @ }}",
             "imageWidth": "",
             "linkOpenInNewTab": true,
             "linkTextTemplate": "{{ @ }}",
             "linkTitleTemplate": "{{ @ }}",
             "linkUrlTemplate": "{{ @ }}",
             "name": "WM_TASK_GENRTN_REF_CD",
             "order": 100024,
             "preserveWhitespace": false,
             "title": "WM_TASK_GENRTN_REF_CD",
             "type": "string",
             "useMonospaceFont": false,
             "visible": true
            },
            {
             "alignContent": "left",
             "allowHTML": false,
             "allowSearch": false,
             "booleanValues": [
              "false",
              "true"
             ],
             "displayAs": "string",
             "highlightLinks": false,
             "imageHeight": "",
             "imageTitleTemplate": "{{ @ }}",
             "imageUrlTemplate": "{{ @ }}",
             "imageWidth": "",
             "linkOpenInNewTab": true,
             "linkTextTemplate": "{{ @ }}",
             "linkTitleTemplate": "{{ @ }}",
             "linkUrlTemplate": "{{ @ }}",
             "name": "WM_TASK_GENRTN_REF_NBR",
             "order": 100025,
             "preserveWhitespace": false,
             "title": "WM_TASK_GENRTN_REF_NBR",
             "type": "string",
             "useMonospaceFont": false,
             "visible": true
            },
            {
             "alignContent": "left",
             "allowHTML": false,
             "allowSearch": false,
             "booleanValues": [
              "false",
              "true"
             ],
             "displayAs": "string",
             "highlightLinks": false,
             "imageHeight": "",
             "imageTitleTemplate": "{{ @ }}",
             "imageUrlTemplate": "{{ @ }}",
             "imageWidth": "",
             "linkOpenInNewTab": true,
             "linkTextTemplate": "{{ @ }}",
             "linkTitleTemplate": "{{ @ }}",
             "linkUrlTemplate": "{{ @ }}",
             "name": "WM_TASK_CMPL_REF_CD",
             "order": 100026,
             "preserveWhitespace": false,
             "title": "WM_TASK_CMPL_REF_CD",
             "type": "string",
             "useMonospaceFont": false,
             "visible": true
            },
            {
             "alignContent": "left",
             "allowHTML": false,
             "allowSearch": false,
             "booleanValues": [
              "false",
              "true"
             ],
             "displayAs": "string",
             "highlightLinks": false,
             "imageHeight": "",
             "imageTitleTemplate": "{{ @ }}",
             "imageUrlTemplate": "{{ @ }}",
             "imageWidth": "",
             "linkOpenInNewTab": true,
             "linkTextTemplate": "{{ @ }}",
             "linkTitleTemplate": "{{ @ }}",
             "linkUrlTemplate": "{{ @ }}",
             "name": "WM_TASK_CMPL_REF_NBR",
             "order": 100027,
             "preserveWhitespace": false,
             "title": "WM_TASK_CMPL_REF_NBR",
             "type": "string",
             "useMonospaceFont": false,
             "visible": true
            },
            {
             "alignContent": "left",
             "allowHTML": false,
             "allowSearch": false,
             "booleanValues": [
              "false",
              "true"
             ],
             "displayAs": "string",
             "highlightLinks": false,
             "imageHeight": "",
             "imageTitleTemplate": "{{ @ }}",
             "imageUrlTemplate": "{{ @ }}",
             "imageWidth": "",
             "linkOpenInNewTab": true,
             "linkTextTemplate": "{{ @ }}",
             "linkTitleTemplate": "{{ @ }}",
             "linkUrlTemplate": "{{ @ }}",
             "name": "ONE_USER_PER_GRP",
             "order": 100028,
             "preserveWhitespace": false,
             "title": "ONE_USER_PER_GRP",
             "type": "string",
             "useMonospaceFont": false,
             "visible": true
            },
            {
             "alignContent": "right",
             "allowHTML": false,
             "allowSearch": false,
             "booleanValues": [
              "false",
              "true"
             ],
             "displayAs": "number",
             "highlightLinks": false,
             "imageHeight": "",
             "imageTitleTemplate": "{{ @ }}",
             "imageUrlTemplate": "{{ @ }}",
             "imageWidth": "",
             "linkOpenInNewTab": true,
             "linkTextTemplate": "{{ @ }}",
             "linkTitleTemplate": "{{ @ }}",
             "linkUrlTemplate": "{{ @ }}",
             "name": "WM_VOCOLLECT_ASSIGN_ID",
             "numberFormat": "0.00",
             "order": 100029,
             "preserveWhitespace": false,
             "title": "WM_VOCOLLECT_ASSIGN_ID",
             "type": "float",
             "useMonospaceFont": false,
             "visible": true
            },
            {
             "alignContent": "right",
             "allowHTML": false,
             "allowSearch": false,
             "booleanValues": [
              "false",
              "true"
             ],
             "displayAs": "number",
             "highlightLinks": false,
             "imageHeight": "",
             "imageTitleTemplate": "{{ @ }}",
             "imageUrlTemplate": "{{ @ }}",
             "imageWidth": "",
             "linkOpenInNewTab": true,
             "linkTextTemplate": "{{ @ }}",
             "linkTitleTemplate": "{{ @ }}",
             "linkUrlTemplate": "{{ @ }}",
             "name": "WM_MHE_FLAG",
             "numberFormat": "0.00",
             "order": 100030,
             "preserveWhitespace": false,
             "title": "WM_MHE_FLAG",
             "type": "float",
             "useMonospaceFont": false,
             "visible": true
            },
            {
             "alignContent": "right",
             "allowHTML": false,
             "allowSearch": false,
             "booleanValues": [
              "false",
              "true"
             ],
             "displayAs": "number",
             "highlightLinks": false,
             "imageHeight": "",
             "imageTitleTemplate": "{{ @ }}",
             "imageUrlTemplate": "{{ @ }}",
             "imageWidth": "",
             "linkOpenInNewTab": true,
             "linkTextTemplate": "{{ @ }}",
             "linkTitleTemplate": "{{ @ }}",
             "linkUrlTemplate": "{{ @ }}",
             "name": "PICK_TO_TOTE_FLAG",
             "numberFormat": "0.00",
             "order": 100031,
             "preserveWhitespace": false,
             "title": "PICK_TO_TOTE_FLAG",
             "type": "float",
             "useMonospaceFont": false,
             "visible": true
            },
            {
             "alignContent": "left",
             "allowHTML": false,
             "allowSearch": false,
             "booleanValues": [
              "false",
              "true"
             ],
             "displayAs": "string",
             "highlightLinks": false,
             "imageHeight": "",
             "imageTitleTemplate": "{{ @ }}",
             "imageUrlTemplate": "{{ @ }}",
             "imageWidth": "",
             "linkOpenInNewTab": true,
             "linkTextTemplate": "{{ @ }}",
             "linkTitleTemplate": "{{ @ }}",
             "linkUrlTemplate": "{{ @ }}",
             "name": "WM_MHE_ORD_STATE",
             "order": 100032,
             "preserveWhitespace": false,
             "title": "WM_MHE_ORD_STATE",
             "type": "string",
             "useMonospaceFont": false,
             "visible": true
            },
            {
             "alignContent": "right",
             "allowHTML": false,
             "allowSearch": false,
             "booleanValues": [
              "false",
              "true"
             ],
             "displayAs": "number",
             "highlightLinks": false,
             "imageHeight": "",
             "imageTitleTemplate": "{{ @ }}",
             "imageUrlTemplate": "{{ @ }}",
             "imageWidth": "",
             "linkOpenInNewTab": true,
             "linkTextTemplate": "{{ @ }}",
             "linkTitleTemplate": "{{ @ }}",
             "linkUrlTemplate": "{{ @ }}",
             "name": "PRT_TASK_LIST_FLAG",
             "numberFormat": "0.00",
             "order": 100033,
             "preserveWhitespace": false,
             "title": "PRT_TASK_LIST_FLAG",
             "type": "float",
             "useMonospaceFont": false,
             "visible": true
            },
            {
             "alignContent": "left",
             "allowHTML": false,
             "allowSearch": false,
             "booleanValues": [
              "false",
              "true"
             ],
             "displayAs": "string",
             "highlightLinks": false,
             "imageHeight": "",
             "imageTitleTemplate": "{{ @ }}",
             "imageUrlTemplate": "{{ @ }}",
             "imageWidth": "",
             "linkOpenInNewTab": true,
             "linkTextTemplate": "{{ @ }}",
             "linkTitleTemplate": "{{ @ }}",
             "linkUrlTemplate": "{{ @ }}",
             "name": "RPT_PRTR_REQSTR",
             "order": 100034,
             "preserveWhitespace": false,
             "title": "RPT_PRTR_REQSTR",
             "type": "string",
             "useMonospaceFont": false,
             "visible": true
            },
            {
             "alignContent": "left",
             "allowHTML": false,
             "allowSearch": false,
             "booleanValues": [
              "false",
              "true"
             ],
             "displayAs": "string",
             "highlightLinks": false,
             "imageHeight": "",
             "imageTitleTemplate": "{{ @ }}",
             "imageUrlTemplate": "{{ @ }}",
             "imageWidth": "",
             "linkOpenInNewTab": true,
             "linkTextTemplate": "{{ @ }}",
             "linkTitleTemplate": "{{ @ }}",
             "linkUrlTemplate": "{{ @ }}",
             "name": "WM_DOC_ID",
             "order": 100035,
             "preserveWhitespace": false,
             "title": "WM_DOC_ID",
             "type": "string",
             "useMonospaceFont": false,
             "visible": true
            },
            {
             "alignContent": "left",
             "allowHTML": false,
             "allowSearch": false,
             "booleanValues": [
              "false",
              "true"
             ],
             "displayAs": "string",
             "highlightLinks": false,
             "imageHeight": "",
             "imageTitleTemplate": "{{ @ }}",
             "imageUrlTemplate": "{{ @ }}",
             "imageWidth": "",
             "linkOpenInNewTab": true,
             "linkTextTemplate": "{{ @ }}",
             "linkTitleTemplate": "{{ @ }}",
             "linkUrlTemplate": "{{ @ }}",
             "name": "WM_VOCO_INTRNL_REVERSE_ID",
             "order": 100036,
             "preserveWhitespace": false,
             "title": "WM_VOCO_INTRNL_REVERSE_ID",
             "type": "string",
             "useMonospaceFont": false,
             "visible": true
            },
            {
             "alignContent": "left",
             "allowHTML": false,
             "allowSearch": false,
             "booleanValues": [
              "false",
              "true"
             ],
             "displayAs": "string",
             "highlightLinks": false,
             "imageHeight": "",
             "imageTitleTemplate": "{{ @ }}",
             "imageUrlTemplate": "{{ @ }}",
             "imageWidth": "",
             "linkOpenInNewTab": true,
             "linkTextTemplate": "{{ @ }}",
             "linkTitleTemplate": "{{ @ }}",
             "linkUrlTemplate": "{{ @ }}",
             "name": "WM_CURR_LOCN_ID",
             "order": 100037,
             "preserveWhitespace": false,
             "title": "WM_CURR_LOCN_ID",
             "type": "string",
             "useMonospaceFont": false,
             "visible": true
            },
            {
             "alignContent": "left",
             "allowHTML": false,
             "allowSearch": false,
             "booleanValues": [
              "false",
              "true"
             ],
             "displayAs": "string",
             "highlightLinks": false,
             "imageHeight": "",
             "imageTitleTemplate": "{{ @ }}",
             "imageUrlTemplate": "{{ @ }}",
             "imageWidth": "",
             "linkOpenInNewTab": true,
             "linkTextTemplate": "{{ @ }}",
             "linkTitleTemplate": "{{ @ }}",
             "linkUrlTemplate": "{{ @ }}",
             "name": "START_CURR_WORK_GRP",
             "order": 100038,
             "preserveWhitespace": false,
             "title": "START_CURR_WORK_GRP",
             "type": "string",
             "useMonospaceFont": false,
             "visible": true
            },
            {
             "alignContent": "left",
             "allowHTML": false,
             "allowSearch": false,
             "booleanValues": [
              "false",
              "true"
             ],
             "displayAs": "string",
             "highlightLinks": false,
             "imageHeight": "",
             "imageTitleTemplate": "{{ @ }}",
             "imageUrlTemplate": "{{ @ }}",
             "imageWidth": "",
             "linkOpenInNewTab": true,
             "linkTextTemplate": "{{ @ }}",
             "linkTitleTemplate": "{{ @ }}",
             "linkUrlTemplate": "{{ @ }}",
             "name": "START_CURR_WORK_AREA",
             "order": 100039,
             "preserveWhitespace": false,
             "title": "START_CURR_WORK_AREA",
             "type": "string",
             "useMonospaceFont": false,
             "visible": true
            },
            {
             "alignContent": "left",
             "allowHTML": false,
             "allowSearch": false,
             "booleanValues": [
              "false",
              "true"
             ],
             "displayAs": "string",
             "highlightLinks": false,
             "imageHeight": "",
             "imageTitleTemplate": "{{ @ }}",
             "imageUrlTemplate": "{{ @ }}",
             "imageWidth": "",
             "linkOpenInNewTab": true,
             "linkTextTemplate": "{{ @ }}",
             "linkTitleTemplate": "{{ @ }}",
             "linkUrlTemplate": "{{ @ }}",
             "name": "END_CURR_WORK_GRP",
             "order": 100040,
             "preserveWhitespace": false,
             "title": "END_CURR_WORK_GRP",
             "type": "string",
             "useMonospaceFont": false,
             "visible": true
            },
            {
             "alignContent": "left",
             "allowHTML": false,
             "allowSearch": false,
             "booleanValues": [
              "false",
              "true"
             ],
             "displayAs": "string",
             "highlightLinks": false,
             "imageHeight": "",
             "imageTitleTemplate": "{{ @ }}",
             "imageUrlTemplate": "{{ @ }}",
             "imageWidth": "",
             "linkOpenInNewTab": true,
             "linkTextTemplate": "{{ @ }}",
             "linkTitleTemplate": "{{ @ }}",
             "linkUrlTemplate": "{{ @ }}",
             "name": "END_CURR_WORK_AREA",
             "order": 100041,
             "preserveWhitespace": false,
             "title": "END_CURR_WORK_AREA",
             "type": "string",
             "useMonospaceFont": false,
             "visible": true
            },
            {
             "alignContent": "left",
             "allowHTML": false,
             "allowSearch": false,
             "booleanValues": [
              "false",
              "true"
             ],
             "displayAs": "string",
             "highlightLinks": false,
             "imageHeight": "",
             "imageTitleTemplate": "{{ @ }}",
             "imageUrlTemplate": "{{ @ }}",
             "imageWidth": "",
             "linkOpenInNewTab": true,
             "linkTextTemplate": "{{ @ }}",
             "linkTitleTemplate": "{{ @ }}",
             "linkUrlTemplate": "{{ @ }}",
             "name": "START_DEST_WORK_GRP",
             "order": 100042,
             "preserveWhitespace": false,
             "title": "START_DEST_WORK_GRP",
             "type": "string",
             "useMonospaceFont": false,
             "visible": true
            },
            {
             "alignContent": "left",
             "allowHTML": false,
             "allowSearch": false,
             "booleanValues": [
              "false",
              "true"
             ],
             "displayAs": "string",
             "highlightLinks": false,
             "imageHeight": "",
             "imageTitleTemplate": "{{ @ }}",
             "imageUrlTemplate": "{{ @ }}",
             "imageWidth": "",
             "linkOpenInNewTab": true,
             "linkTextTemplate": "{{ @ }}",
             "linkTitleTemplate": "{{ @ }}",
             "linkUrlTemplate": "{{ @ }}",
             "name": "START_DEST_WORK_AREA",
             "order": 100043,
             "preserveWhitespace": false,
             "title": "START_DEST_WORK_AREA",
             "type": "string",
             "useMonospaceFont": false,
             "visible": true
            },
            {
             "alignContent": "left",
             "allowHTML": false,
             "allowSearch": false,
             "booleanValues": [
              "false",
              "true"
             ],
             "displayAs": "string",
             "highlightLinks": false,
             "imageHeight": "",
             "imageTitleTemplate": "{{ @ }}",
             "imageUrlTemplate": "{{ @ }}",
             "imageWidth": "",
             "linkOpenInNewTab": true,
             "linkTextTemplate": "{{ @ }}",
             "linkTitleTemplate": "{{ @ }}",
             "linkUrlTemplate": "{{ @ }}",
             "name": "END_DEST_WORK_GRP",
             "order": 100044,
             "preserveWhitespace": false,
             "title": "END_DEST_WORK_GRP",
             "type": "string",
             "useMonospaceFont": false,
             "visible": true
            },
            {
             "alignContent": "left",
             "allowHTML": false,
             "allowSearch": false,
             "booleanValues": [
              "false",
              "true"
             ],
             "displayAs": "string",
             "highlightLinks": false,
             "imageHeight": "",
             "imageTitleTemplate": "{{ @ }}",
             "imageUrlTemplate": "{{ @ }}",
             "imageWidth": "",
             "linkOpenInNewTab": true,
             "linkTextTemplate": "{{ @ }}",
             "linkTitleTemplate": "{{ @ }}",
             "linkUrlTemplate": "{{ @ }}",
             "name": "END_DEST_WORK_AREA",
             "order": 100045,
             "preserveWhitespace": false,
             "title": "END_DEST_WORK_AREA",
             "type": "string",
             "useMonospaceFont": false,
             "visible": true
            },
            {
             "alignContent": "right",
             "allowHTML": false,
             "allowSearch": false,
             "booleanValues": [
              "false",
              "true"
             ],
             "dateTimeFormat": "DD/MM/YYYY HH:mm:ss.SSS",
             "displayAs": "datetime",
             "highlightLinks": false,
             "imageHeight": "",
             "imageTitleTemplate": "{{ @ }}",
             "imageUrlTemplate": "{{ @ }}",
             "imageWidth": "",
             "linkOpenInNewTab": true,
             "linkTextTemplate": "{{ @ }}",
             "linkTitleTemplate": "{{ @ }}",
             "linkUrlTemplate": "{{ @ }}",
             "name": "WM_RLS_TSTMP",
             "order": 100046,
             "preserveWhitespace": false,
             "title": "WM_RLS_TSTMP",
             "type": "datetime",
             "useMonospaceFont": false,
             "visible": true
            },
            {
             "alignContent": "right",
             "allowHTML": false,
             "allowSearch": false,
             "booleanValues": [
              "false",
              "true"
             ],
             "dateTimeFormat": "DD/MM/YYYY HH:mm:ss.SSS",
             "displayAs": "datetime",
             "highlightLinks": false,
             "imageHeight": "",
             "imageTitleTemplate": "{{ @ }}",
             "imageUrlTemplate": "{{ @ }}",
             "imageWidth": "",
             "linkOpenInNewTab": true,
             "linkTextTemplate": "{{ @ }}",
             "linkTitleTemplate": "{{ @ }}",
             "linkUrlTemplate": "{{ @ }}",
             "name": "ERLST_START_TSTMP",
             "order": 100047,
             "preserveWhitespace": false,
             "title": "ERLST_START_TSTMP",
             "type": "datetime",
             "useMonospaceFont": false,
             "visible": true
            },
            {
             "alignContent": "right",
             "allowHTML": false,
             "allowSearch": false,
             "booleanValues": [
              "false",
              "true"
             ],
             "dateTimeFormat": "DD/MM/YYYY HH:mm:ss.SSS",
             "displayAs": "datetime",
             "highlightLinks": false,
             "imageHeight": "",
             "imageTitleTemplate": "{{ @ }}",
             "imageUrlTemplate": "{{ @ }}",
             "imageWidth": "",
             "linkOpenInNewTab": true,
             "linkTextTemplate": "{{ @ }}",
             "linkTitleTemplate": "{{ @ }}",
             "linkUrlTemplate": "{{ @ }}",
             "name": "LTST_START_TSTMP",
             "order": 100048,
             "preserveWhitespace": false,
             "title": "LTST_START_TSTMP",
             "type": "datetime",
             "useMonospaceFont": false,
             "visible": true
            },
            {
             "alignContent": "right",
             "allowHTML": false,
             "allowSearch": false,
             "booleanValues": [
              "false",
              "true"
             ],
             "dateTimeFormat": "DD/MM/YYYY HH:mm:ss.SSS",
             "displayAs": "datetime",
             "highlightLinks": false,
             "imageHeight": "",
             "imageTitleTemplate": "{{ @ }}",
             "imageUrlTemplate": "{{ @ }}",
             "imageWidth": "",
             "linkOpenInNewTab": true,
             "linkTextTemplate": "{{ @ }}",
             "linkTitleTemplate": "{{ @ }}",
             "linkUrlTemplate": "{{ @ }}",
             "name": "LTST_CMPL_TSTMP",
             "order": 100049,
             "preserveWhitespace": false,
             "title": "LTST_CMPL_TSTMP",
             "type": "datetime",
             "useMonospaceFont": false,
             "visible": true
            },
            {
             "alignContent": "left",
             "allowHTML": false,
             "allowSearch": false,
             "booleanValues": [
              "false",
              "true"
             ],
             "displayAs": "string",
             "highlightLinks": false,
             "imageHeight": "",
             "imageTitleTemplate": "{{ @ }}",
             "imageUrlTemplate": "{{ @ }}",
             "imageWidth": "",
             "linkOpenInNewTab": true,
             "linkTextTemplate": "{{ @ }}",
             "linkTitleTemplate": "{{ @ }}",
             "linkUrlTemplate": "{{ @ }}",
             "name": "BEGIN_AREA",
             "order": 100050,
             "preserveWhitespace": false,
             "title": "BEGIN_AREA",
             "type": "string",
             "useMonospaceFont": false,
             "visible": true
            },
            {
             "alignContent": "left",
             "allowHTML": false,
             "allowSearch": false,
             "booleanValues": [
              "false",
              "true"
             ],
             "displayAs": "string",
             "highlightLinks": false,
             "imageHeight": "",
             "imageTitleTemplate": "{{ @ }}",
             "imageUrlTemplate": "{{ @ }}",
             "imageWidth": "",
             "linkOpenInNewTab": true,
             "linkTextTemplate": "{{ @ }}",
             "linkTitleTemplate": "{{ @ }}",
             "linkUrlTemplate": "{{ @ }}",
             "name": "BEGIN_ZONE",
             "order": 100051,
             "preserveWhitespace": false,
             "title": "BEGIN_ZONE",
             "type": "string",
             "useMonospaceFont": false,
             "visible": true
            },
            {
             "alignContent": "left",
             "allowHTML": false,
             "allowSearch": false,
             "booleanValues": [
              "false",
              "true"
             ],
             "displayAs": "string",
             "highlightLinks": false,
             "imageHeight": "",
             "imageTitleTemplate": "{{ @ }}",
             "imageUrlTemplate": "{{ @ }}",
             "imageWidth": "",
             "linkOpenInNewTab": true,
             "linkTextTemplate": "{{ @ }}",
             "linkTitleTemplate": "{{ @ }}",
             "linkUrlTemplate": "{{ @ }}",
             "name": "BEGIN_AISLE",
             "order": 100052,
             "preserveWhitespace": false,
             "title": "BEGIN_AISLE",
             "type": "string",
             "useMonospaceFont": false,
             "visible": true
            },
            {
             "alignContent": "left",
             "allowHTML": false,
             "allowSearch": false,
             "booleanValues": [
              "false",
              "true"
             ],
             "displayAs": "string",
             "highlightLinks": false,
             "imageHeight": "",
             "imageTitleTemplate": "{{ @ }}",
             "imageUrlTemplate": "{{ @ }}",
             "imageWidth": "",
             "linkOpenInNewTab": true,
             "linkTextTemplate": "{{ @ }}",
             "linkTitleTemplate": "{{ @ }}",
             "linkUrlTemplate": "{{ @ }}",
             "name": "END_AREA",
             "order": 100053,
             "preserveWhitespace": false,
             "title": "END_AREA",
             "type": "string",
             "useMonospaceFont": false,
             "visible": true
            },
            {
             "alignContent": "left",
             "allowHTML": false,
             "allowSearch": false,
             "booleanValues": [
              "false",
              "true"
             ],
             "displayAs": "string",
             "highlightLinks": false,
             "imageHeight": "",
             "imageTitleTemplate": "{{ @ }}",
             "imageUrlTemplate": "{{ @ }}",
             "imageWidth": "",
             "linkOpenInNewTab": true,
             "linkTextTemplate": "{{ @ }}",
             "linkTitleTemplate": "{{ @ }}",
             "linkUrlTemplate": "{{ @ }}",
             "name": "END_ZONE",
             "order": 100054,
             "preserveWhitespace": false,
             "title": "END_ZONE",
             "type": "string",
             "useMonospaceFont": false,
             "visible": true
            },
            {
             "alignContent": "left",
             "allowHTML": false,
             "allowSearch": false,
             "booleanValues": [
              "false",
              "true"
             ],
             "displayAs": "string",
             "highlightLinks": false,
             "imageHeight": "",
             "imageTitleTemplate": "{{ @ }}",
             "imageUrlTemplate": "{{ @ }}",
             "imageWidth": "",
             "linkOpenInNewTab": true,
             "linkTextTemplate": "{{ @ }}",
             "linkTitleTemplate": "{{ @ }}",
             "linkUrlTemplate": "{{ @ }}",
             "name": "END_AISLE",
             "order": 100055,
             "preserveWhitespace": false,
             "title": "END_AISLE",
             "type": "string",
             "useMonospaceFont": false,
             "visible": true
            },
            {
             "alignContent": "right",
             "allowHTML": false,
             "allowSearch": false,
             "booleanValues": [
              "false",
              "true"
             ],
             "displayAs": "number",
             "highlightLinks": false,
             "imageHeight": "",
             "imageTitleTemplate": "{{ @ }}",
             "imageUrlTemplate": "{{ @ }}",
             "imageWidth": "",
             "linkOpenInNewTab": true,
             "linkTextTemplate": "{{ @ }}",
             "linkTitleTemplate": "{{ @ }}",
             "linkUrlTemplate": "{{ @ }}",
             "name": "REPRINT_CNT",
             "numberFormat": "0.00",
             "order": 100056,
             "preserveWhitespace": false,
             "title": "REPRINT_CNT",
             "type": "float",
             "useMonospaceFont": false,
             "visible": true
            },
            {
             "alignContent": "right",
             "allowHTML": false,
             "allowSearch": false,
             "booleanValues": [
              "false",
              "true"
             ],
             "displayAs": "number",
             "highlightLinks": false,
             "imageHeight": "",
             "imageTitleTemplate": "{{ @ }}",
             "imageUrlTemplate": "{{ @ }}",
             "imageWidth": "",
             "linkOpenInNewTab": true,
             "linkTextTemplate": "{{ @ }}",
             "linkTitleTemplate": "{{ @ }}",
             "linkUrlTemplate": "{{ @ }}",
             "name": "ESTIMATED_TIME",
             "numberFormat": "0.00",
             "order": 100057,
             "preserveWhitespace": false,
             "title": "ESTIMATED_TIME",
             "type": "float",
             "useMonospaceFont": false,
             "visible": true
            },
            {
             "alignContent": "right",
             "allowHTML": false,
             "allowSearch": false,
             "booleanValues": [
              "false",
              "true"
             ],
             "displayAs": "number",
             "highlightLinks": false,
             "imageHeight": "",
             "imageTitleTemplate": "{{ @ }}",
             "imageUrlTemplate": "{{ @ }}",
             "imageWidth": "",
             "linkOpenInNewTab": true,
             "linkTextTemplate": "{{ @ }}",
             "linkTitleTemplate": "{{ @ }}",
             "linkUrlTemplate": "{{ @ }}",
             "name": "ESTIMATED_DISTANCE",
             "numberFormat": "0.00",
             "order": 100058,
             "preserveWhitespace": false,
             "title": "ESTIMATED_DISTANCE",
             "type": "float",
             "useMonospaceFont": false,
             "visible": true
            },
            {
             "alignContent": "right",
             "allowHTML": false,
             "allowSearch": false,
             "booleanValues": [
              "false",
              "true"
             ],
             "displayAs": "number",
             "highlightLinks": false,
             "imageHeight": "",
             "imageTitleTemplate": "{{ @ }}",
             "imageUrlTemplate": "{{ @ }}",
             "imageWidth": "",
             "linkOpenInNewTab": true,
             "linkTextTemplate": "{{ @ }}",
             "linkTitleTemplate": "{{ @ }}",
             "linkUrlTemplate": "{{ @ }}",
             "name": "XPECTD_DURTN",
             "numberFormat": "0.00",
             "order": 100059,
             "preserveWhitespace": false,
             "title": "XPECTD_DURTN",
             "type": "float",
             "useMonospaceFont": false,
             "visible": true
            },
            {
             "alignContent": "right",
             "allowHTML": false,
             "allowSearch": false,
             "booleanValues": [
              "false",
              "true"
             ],
             "displayAs": "number",
             "highlightLinks": false,
             "imageHeight": "",
             "imageTitleTemplate": "{{ @ }}",
             "imageUrlTemplate": "{{ @ }}",
             "imageWidth": "",
             "linkOpenInNewTab": true,
             "linkTextTemplate": "{{ @ }}",
             "linkTitleTemplate": "{{ @ }}",
             "linkUrlTemplate": "{{ @ }}",
             "name": "ACTL_DURTN",
             "numberFormat": "0.00",
             "order": 100060,
             "preserveWhitespace": false,
             "title": "ACTL_DURTN",
             "type": "float",
             "useMonospaceFont": false,
             "visible": true
            },
            {
             "alignContent": "left",
             "allowHTML": false,
             "allowSearch": false,
             "booleanValues": [
              "false",
              "true"
             ],
             "displayAs": "string",
             "highlightLinks": false,
             "imageHeight": "",
             "imageTitleTemplate": "{{ @ }}",
             "imageUrlTemplate": "{{ @ }}",
             "imageWidth": "",
             "linkOpenInNewTab": true,
             "linkTextTemplate": "{{ @ }}",
             "linkTitleTemplate": "{{ @ }}",
             "linkUrlTemplate": "{{ @ }}",
             "name": "WM_OWNER_USER_ID",
             "order": 100061,
             "preserveWhitespace": false,
             "title": "WM_OWNER_USER_ID",
             "type": "string",
             "useMonospaceFont": false,
             "visible": true
            },
            {
             "alignContent": "left",
             "allowHTML": false,
             "allowSearch": false,
             "booleanValues": [
              "false",
              "true"
             ],
             "displayAs": "string",
             "highlightLinks": false,
             "imageHeight": "",
             "imageTitleTemplate": "{{ @ }}",
             "imageUrlTemplate": "{{ @ }}",
             "imageWidth": "",
             "linkOpenInNewTab": true,
             "linkTextTemplate": "{{ @ }}",
             "linkTitleTemplate": "{{ @ }}",
             "linkUrlTemplate": "{{ @ }}",
             "name": "WM_CURR_USER_ID",
             "order": 100062,
             "preserveWhitespace": false,
             "title": "WM_CURR_USER_ID",
             "type": "string",
             "useMonospaceFont": false,
             "visible": true
            },
            {
             "alignContent": "left",
             "allowHTML": false,
             "allowSearch": false,
             "booleanValues": [
              "false",
              "true"
             ],
             "displayAs": "string",
             "highlightLinks": false,
             "imageHeight": "",
             "imageTitleTemplate": "{{ @ }}",
             "imageUrlTemplate": "{{ @ }}",
             "imageWidth": "",
             "linkOpenInNewTab": true,
             "linkTextTemplate": "{{ @ }}",
             "linkTitleTemplate": "{{ @ }}",
             "linkUrlTemplate": "{{ @ }}",
             "name": "WM_USER_ID",
             "order": 100063,
             "preserveWhitespace": false,
             "title": "WM_USER_ID",
             "type": "string",
             "useMonospaceFont": false,
             "visible": true
            },
            {
             "alignContent": "right",
             "allowHTML": false,
             "allowSearch": false,
             "booleanValues": [
              "false",
              "true"
             ],
             "displayAs": "number",
             "highlightLinks": false,
             "imageHeight": "",
             "imageTitleTemplate": "{{ @ }}",
             "imageUrlTemplate": "{{ @ }}",
             "imageWidth": "",
             "linkOpenInNewTab": true,
             "linkTextTemplate": "{{ @ }}",
             "linkTitleTemplate": "{{ @ }}",
             "linkUrlTemplate": "{{ @ }}",
             "name": "WM_VERSION_ID",
             "numberFormat": "0.00",
             "order": 100064,
             "preserveWhitespace": false,
             "title": "WM_VERSION_ID",
             "type": "float",
             "useMonospaceFont": false,
             "visible": true
            },
            {
             "alignContent": "right",
             "allowHTML": false,
             "allowSearch": false,
             "booleanValues": [
              "false",
              "true"
             ],
             "dateTimeFormat": "DD/MM/YYYY HH:mm:ss.SSS",
             "displayAs": "datetime",
             "highlightLinks": false,
             "imageHeight": "",
             "imageTitleTemplate": "{{ @ }}",
             "imageUrlTemplate": "{{ @ }}",
             "imageWidth": "",
             "linkOpenInNewTab": true,
             "linkTextTemplate": "{{ @ }}",
             "linkTitleTemplate": "{{ @ }}",
             "linkUrlTemplate": "{{ @ }}",
             "name": "WM_CREATE_TSTMP",
             "order": 100065,
             "preserveWhitespace": false,
             "title": "WM_CREATE_TSTMP",
             "type": "datetime",
             "useMonospaceFont": false,
             "visible": true
            },
            {
             "alignContent": "right",
             "allowHTML": false,
             "allowSearch": false,
             "booleanValues": [
              "false",
              "true"
             ],
             "dateTimeFormat": "DD/MM/YYYY HH:mm:ss.SSS",
             "displayAs": "datetime",
             "highlightLinks": false,
             "imageHeight": "",
             "imageTitleTemplate": "{{ @ }}",
             "imageUrlTemplate": "{{ @ }}",
             "imageWidth": "",
             "linkOpenInNewTab": true,
             "linkTextTemplate": "{{ @ }}",
             "linkTitleTemplate": "{{ @ }}",
             "linkUrlTemplate": "{{ @ }}",
             "name": "WM_MOD_TSTMP",
             "order": 100066,
             "preserveWhitespace": false,
             "title": "WM_MOD_TSTMP",
             "type": "datetime",
             "useMonospaceFont": false,
             "visible": true
            },
            {
             "alignContent": "right",
             "allowHTML": false,
             "allowSearch": false,
             "booleanValues": [
              "false",
              "true"
             ],
             "dateTimeFormat": "DD/MM/YYYY HH:mm:ss.SSS",
             "displayAs": "datetime",
             "highlightLinks": false,
             "imageHeight": "",
             "imageTitleTemplate": "{{ @ }}",
             "imageUrlTemplate": "{{ @ }}",
             "imageWidth": "",
             "linkOpenInNewTab": true,
             "linkTextTemplate": "{{ @ }}",
             "linkTitleTemplate": "{{ @ }}",
             "linkUrlTemplate": "{{ @ }}",
             "name": "UPDATE_TSTMP",
             "order": 100067,
             "preserveWhitespace": false,
             "title": "UPDATE_TSTMP",
             "type": "datetime",
             "useMonospaceFont": false,
             "visible": true
            },
            {
             "alignContent": "right",
             "allowHTML": false,
             "allowSearch": false,
             "booleanValues": [
              "false",
              "true"
             ],
             "dateTimeFormat": "DD/MM/YYYY HH:mm:ss.SSS",
             "displayAs": "datetime",
             "highlightLinks": false,
             "imageHeight": "",
             "imageTitleTemplate": "{{ @ }}",
             "imageUrlTemplate": "{{ @ }}",
             "imageWidth": "",
             "linkOpenInNewTab": true,
             "linkTextTemplate": "{{ @ }}",
             "linkTitleTemplate": "{{ @ }}",
             "linkUrlTemplate": "{{ @ }}",
             "name": "LOAD_TSTMP",
             "order": 100068,
             "preserveWhitespace": false,
             "title": "LOAD_TSTMP",
             "type": "datetime",
             "useMonospaceFont": false,
             "visible": true
            },
            {
             "alignContent": "left",
             "allowHTML": false,
             "allowSearch": false,
             "booleanValues": [
              "false",
              "true"
             ],
             "displayAs": "string",
             "highlightLinks": false,
             "imageHeight": "",
             "imageTitleTemplate": "{{ @ }}",
             "imageUrlTemplate": "{{ @ }}",
             "imageWidth": "",
             "linkOpenInNewTab": true,
             "linkTextTemplate": "{{ @ }}",
             "linkTitleTemplate": "{{ @ }}",
             "linkUrlTemplate": "{{ @ }}",
             "name": "SNF_UPDATE_TSTMP",
             "order": 100069,
             "preserveWhitespace": false,
             "title": "SNF_UPDATE_TSTMP",
             "type": "string",
             "useMonospaceFont": false,
             "visible": true
            },
            {
             "alignContent": "left",
             "allowHTML": false,
             "allowSearch": false,
             "booleanValues": [
              "false",
              "true"
             ],
             "displayAs": "string",
             "highlightLinks": false,
             "imageHeight": "",
             "imageTitleTemplate": "{{ @ }}",
             "imageUrlTemplate": "{{ @ }}",
             "imageWidth": "",
             "linkOpenInNewTab": true,
             "linkTextTemplate": "{{ @ }}",
             "linkTitleTemplate": "{{ @ }}",
             "linkUrlTemplate": "{{ @ }}",
             "name": "SNF_LOAD_TSTMP",
             "order": 100070,
             "preserveWhitespace": false,
             "title": "SNF_LOAD_TSTMP",
             "type": "string",
             "useMonospaceFont": false,
             "visible": true
            },
            {
             "alignContent": "left",
             "allowHTML": false,
             "allowSearch": false,
             "booleanValues": [
              "false",
              "true"
             ],
             "displayAs": "string",
             "highlightLinks": false,
             "imageHeight": "",
             "imageTitleTemplate": "{{ @ }}",
             "imageUrlTemplate": "{{ @ }}",
             "imageWidth": "",
             "linkOpenInNewTab": true,
             "linkTextTemplate": "{{ @ }}",
             "linkTitleTemplate": "{{ @ }}",
             "linkUrlTemplate": "{{ @ }}",
             "name": "iteration_name",
             "order": 100071,
             "preserveWhitespace": false,
             "title": "iteration_name",
             "type": "string",
             "useMonospaceFont": false,
             "visible": true
            }
           ],
           "condensed": true,
           "itemsPerPage": 25,
           "paginationSize": "default",
           "version": 2,
           "withRowNumber": false
          }
         }
        ]
       },
       "datasetPreviewNameToCmdIdMap": {},
       "diffDeletes": [],
       "diffInserts": [],
       "displayType": "redashChart",
       "error": null,
       "errorDetails": null,
       "errorSummary": null,
       "errorTraceType": null,
       "finishTime": 0,
       "globalVars": {},
       "guid": "",
       "height": "auto",
       "hideCommandCode": false,
       "hideCommandResult": false,
       "iPythonMetadata": null,
       "inputWidgets": {},
       "isLockedInExamMode": false,
       "latestUser": "a user",
       "latestUserId": null,
       "listResultMetadata": null,
       "metadata": {
        "byteLimit": 2048000,
        "rowLimit": 10000
       },
       "nuid": "ec0eccaa-dd31-4e47-869b-c6fb7947f114",
       "origId": 0,
       "parentHierarchy": [],
       "pivotAggregation": null,
       "pivotColumns": null,
       "position": 13.0,
       "resultDbfsErrorMessage": null,
       "resultDbfsStatus": "INLINED_IN_TREE",
       "results": null,
       "showCommandTitle": false,
       "startTime": 0,
       "state": "input",
       "streamStates": {},
       "subcommandOptions": {},
       "submitTime": 0,
       "subtype": "tableResultSubCmd.visualization",
       "tableResultIndex": 0,
       "tableResultSettingsMap": {},
       "useConsistentColors": false,
       "version": "CommandV1",
       "width": "auto",
       "workflows": null,
       "xColumns": null,
       "yColumns": null
      }
     },
     "output_type": "display_data"
    }
   ],
   "source": [
    "%python\n",
    "anomalies_data_tbl=spark.sql(f\"select concat(validation_data_db,'.',table_family,'__anomalies') as anomalies_data from {VALIDATION_MAPPING_TABLE} where table_family ='{table_family}'\").collect()[0][\"anomalies_data\"]\n",
    "if(spark.catalog.tableExists(anomalies_data_tbl)):\n",
    "  display(spark.sql(f\"select '{table_family}' as table_family, * from {anomalies_data_tbl} where iteration_name ='{iteration_name}'\"))\n"
   ]
  }
 ],
 "metadata": {
  "application/vnd.databricks.v1+notebook": {
   "computePreferences": null,
   "dashboards": [
    {
     "elements": [
      {
       "dashboardResultIndex": null,
       "elementNUID": "82f5a78a-e8e8-4aac-9a21-dd6e807f8fd8",
       "elementType": "command",
       "guid": "1128e4e6-cd38-4b9b-bf60-ca05a1fb0fe5",
       "options": {
        "autoScaleImg": false,
        "scale": 0,
        "showTitle": true,
        "title": "Mismatches between ovelapping records - Unfiltered",
        "titleAlign": "left"
       },
       "position": {
        "height": 3,
        "width": 20,
        "x": 0,
        "y": 46,
        "z": null
       },
       "resultIndex": null
      },
      {
       "dashboardResultIndex": null,
       "elementNUID": "aed4a065-0d90-492a-b5c1-f6a52f3d86eb",
       "elementType": "command",
       "guid": "30200568-aa27-49ed-8e0e-d4507bf0928e",
       "options": {
        "autoScaleImg": false,
        "scale": 0,
        "showTitle": true,
        "title": "Schema Validation",
        "titleAlign": "center"
       },
       "position": {
        "height": 5,
        "width": 20,
        "x": 0,
        "y": 17,
        "z": null
       },
       "resultIndex": null
      },
      {
       "dashboardResultIndex": null,
       "elementNUID": "ec0eccaa-dd31-4e47-869b-c6fb7947f114",
       "elementType": "command",
       "guid": "383cb4ee-219f-4497-9ad7-2f1eb1036b6a",
       "options": {
        "autoScaleImg": false,
        "scale": 0,
        "showTitle": true,
        "title": "Anomalies",
        "titleAlign": "left"
       },
       "position": {
        "height": 6,
        "width": 20,
        "x": 0,
        "y": 58,
        "z": null
       },
       "resultIndex": null
      },
      {
       "dashboardResultIndex": null,
       "elementNUID": "65c4ddd5-c69a-4020-a5f6-459c5debc4f5",
       "elementType": "command",
       "guid": "8025e0f9-e2c9-41d8-967e-0f3dd1fb7a8a",
       "options": {
        "autoScaleImg": false,
        "scale": 0,
        "showTitle": true,
        "title": "Data Type",
        "titleAlign": "left"
       },
       "position": {
        "height": 11,
        "width": 4,
        "x": 6,
        "y": 6,
        "z": null
       },
       "resultIndex": null
      },
      {
       "dashboardResultIndex": null,
       "elementNUID": "f9d596f3-cef5-4ce6-81dc-7ebd16bc0e2d",
       "elementType": "command",
       "guid": "8439a3a5-d4c0-45a9-bb56-e2d877d4b7fd",
       "options": null,
       "position": {
        "height": 3,
        "width": 9,
        "x": 11,
        "y": 33,
        "z": null
       },
       "resultIndex": null
      },
      {
       "dashboardResultIndex": null,
       "elementNUID": "30d4d349-1d96-4e66-9c51-c940b10a096a",
       "elementType": "command",
       "guid": "8bbce509-bfbf-45af-8df2-d8ff1058cda4",
       "options": {
        "autoScaleImg": false,
        "scale": 0,
        "showTitle": true,
        "title": "Windowed Validation",
        "titleAlign": "center"
       },
       "position": {
        "height": 6,
        "width": 20,
        "x": 0,
        "y": 36,
        "z": null
       },
       "resultIndex": null
      },
      {
       "dashboardResultIndex": null,
       "elementNUID": "182d1cde-7881-4eb9-93d3-b09d4e51b2b5",
       "elementType": "command",
       "guid": "99a06aea-e48c-4095-9fac-5816e4429498",
       "options": {
        "autoScaleImg": false,
        "scale": 0,
        "showTitle": true,
        "title": "SourceCol->TargetCol->SourceDataType -> TargetDataType",
        "titleAlign": "center"
       },
       "position": {
        "height": 11,
        "width": 20,
        "x": 0,
        "y": 22,
        "z": null
       },
       "resultIndex": null
      },
      {
       "dashboardResultIndex": null,
       "elementNUID": "be01a0fb-fa3c-4f04-8557-2abd0bceccc8",
       "elementType": "command",
       "guid": "a50d425d-629c-49ff-b63a-1ed318ced40f",
       "options": {
        "autoScaleImg": false,
        "scale": 0,
        "showTitle": true,
        "title": "Primary Key Violations",
        "titleAlign": "center"
       },
       "position": {
        "height": 4,
        "width": 14,
        "x": 6,
        "y": 0,
        "z": null
       },
       "resultIndex": null
      },
      {
       "dashboardResultIndex": null,
       "elementNUID": "69b15e0d-5a16-49c1-92d3-128b2efd9ffe",
       "elementType": "command",
       "guid": "a6366b1a-a323-495f-b3d8-7c5f4090f1d3",
       "options": {
        "autoScaleImg": false,
        "scale": 0,
        "showTitle": true,
        "title": "Mismatches between overlapping records (Can be filtered using the dashboard filter)",
        "titleAlign": "left"
       },
       "position": {
        "height": 3,
        "width": 20,
        "x": 0,
        "y": 49,
        "z": null
       },
       "resultIndex": null
      },
      {
       "dashboardResultIndex": null,
       "elementNUID": "75e739ff-8452-4d5d-bccc-1d7f30c6af73",
       "elementType": "command",
       "guid": "aa1bc1c2-3358-4747-ad12-8d41d963f717",
       "options": {
        "autoScaleImg": false,
        "scale": 0,
        "showRunButton": false,
        "showTitle": true,
        "title": "Column Name (Ordinal Position)",
        "titleAlign": "left"
       },
       "position": {
        "height": 11,
        "width": 3,
        "x": 0,
        "y": 6,
        "z": null
       },
       "resultIndex": null
      },
      {
       "dashboardResultIndex": null,
       "elementNUID": "ba622489-c1df-4b64-a4df-e5d35ce35013",
       "elementType": "command",
       "guid": "c8a7bdf3-951b-48b8-b639-cbc868bcceb3",
       "options": {
        "autoScaleImg": false,
        "scale": 0,
        "showTitle": true,
        "title": "Summary",
        "titleAlign": "center"
       },
       "position": {
        "height": 4,
        "width": 6,
        "x": 0,
        "y": 0,
        "z": null
       },
       "resultIndex": null
      },
      {
       "dashboardResultIndex": null,
       "elementNUID": "e601f84f-dcbc-45e3-8858-6487934487af",
       "elementType": "command",
       "guid": "d0b21f43-da03-4e4c-b84a-d62b77206ed3",
       "options": {
        "autoScaleImg": false,
        "scale": 0,
        "showTitle": true,
        "title": "Data Type Compatibility",
        "titleAlign": "left"
       },
       "position": {
        "height": 11,
        "width": 10,
        "x": 10,
        "y": 6,
        "z": null
       },
       "resultIndex": null
      },
      {
       "dashboardResultIndex": null,
       "elementNUID": "539ce6dd-6e31-4aa8-97c0-adacbb244c06",
       "elementType": "command",
       "guid": "d1bdd54d-c9e2-4faa-925d-499de70a2a0c",
       "options": {
        "autoScaleImg": false,
        "scale": 0,
        "showRunButton": true,
        "showTitle": true,
        "title": "Column Mismatch Status per Table across filters applied",
        "titleAlign": "left"
       },
       "position": {
        "height": 4,
        "width": 10,
        "x": 0,
        "y": 42,
        "z": null
       },
       "resultIndex": null
      },
      {
       "dashboardResultIndex": null,
       "elementNUID": "46b1fe31-ea48-47b7-865c-7d12453aa748",
       "elementType": "command",
       "guid": "d23609b1-1cc1-42e6-8f87-33c815d92679",
       "options": {
        "autoScaleImg": false,
        "scale": 0,
        "showTitle": true,
        "title": "Fields Excluded from Windowed Validation and the Primary Keys",
        "titleAlign": "left"
       },
       "position": {
        "height": 3,
        "width": 11,
        "x": 0,
        "y": 33,
        "z": null
       },
       "resultIndex": null
      },
      {
       "dashboardResultIndex": null,
       "elementNUID": "f92e210a-033d-45d9-af66-0d25b59297e5",
       "elementType": "command",
       "guid": "d2da3305-51e3-46aa-83bc-683f56f39317",
       "options": {
        "autoScaleImg": false,
        "scale": 0,
        "showTitle": true,
        "title": "Mismatched Records between Source and Target tables, at the Column Level",
        "titleAlign": "left"
       },
       "position": {
        "height": 6,
        "width": 20,
        "x": 0,
        "y": 52,
        "z": null
       },
       "resultIndex": null
      },
      {
       "dashboardResultIndex": 0,
       "elementNUID": "db5ad060-2bea-4bc8-ab2f-bd94a282b855",
       "elementType": "command",
       "guid": "d9860d9e-9fad-44fe-83cd-e140389f26d0",
       "options": {
        "autoScaleImg": false,
        "scale": 1,
        "showTitle": false,
        "titleAlign": "center"
       },
       "position": {
        "height": 2,
        "width": 20,
        "x": 0,
        "y": 4,
        "z": null
       },
       "resultIndex": null
      },
      {
       "dashboardResultIndex": null,
       "elementNUID": "2e6a5714-8f74-459b-b97d-f8a33592cc21",
       "elementType": "command",
       "guid": "ddf3b62b-d301-460e-8b23-3ebf42e81465",
       "options": {
        "autoScaleImg": false,
        "scale": 0,
        "showTitle": true,
        "title": "Anomalies Metrics",
        "titleAlign": "center"
       },
       "position": {
        "height": 4,
        "width": 10,
        "x": 10,
        "y": 42,
        "z": null
       },
       "resultIndex": null
      },
      {
       "dashboardResultIndex": null,
       "elementNUID": "48660602-943a-4eaf-9b07-577403c81b0c",
       "elementType": "command",
       "guid": "f08e4f84-bf9a-4708-89fa-3ec50792fd7a",
       "options": {
        "autoScaleImg": false,
        "scale": 0,
        "showTitle": true,
        "title": "Column Comment",
        "titleAlign": "left"
       },
       "position": {
        "height": 11,
        "width": 3,
        "x": 3,
        "y": 6,
        "z": null
       },
       "resultIndex": null
      }
     ],
     "globalVars": {},
     "guid": "",
     "layoutOption": {
      "grid": true,
      "stack": true
     },
     "nuid": "ad4b8eb3-a475-457f-9fcc-3aca2df71108",
     "origId": 2617645319418319,
     "title": "Warehouse Table Validator Dashboard",
     "version": "DashboardViewV1",
     "width": 1920
    }
   ],
   "environmentMetadata": null,
   "language": "sql",
   "notebookMetadata": {
    "pythonIndentUnit": 2,
    "widgetLayout": [
     {
      "breakBefore": false,
      "name": "01-Iteration Name",
      "width": 476
     },
     {
      "breakBefore": false,
      "name": "02-Table Family",
      "width": 298
     },
     {
      "breakBefore": false,
      "name": "03-Additional Filters for Mismatch Chart only",
      "width": 179
     },
     {
      "breakBefore": false,
      "name": "04-Columns with Mismatch",
      "width": 179
     }
    ]
   },
   "notebookName": "dashboarding",
   "widgets": {
    "01-Iteration Name": {
     "currentValue": "2025-03-11T16:07:10.553+0000",
     "nuid": "2c0741a3-1433-4354-8083-cd515aa1eb1c",
     "typedWidgetInfo": {
      "autoCreated": false,
      "defaultValue": "",
      "label": null,
      "name": "01-Iteration Name",
      "options": {
       "widgetDisplayType": "Dropdown",
       "choices": [
        "2025-03-11T16:07:10.553+0000",
        "2025-03-11T16:06:00.549+0000"
       ],
       "fixedDomain": false,
       "multiselect": false
      },
      "parameterDataType": "String"
     },
     "widgetInfo": {
      "widgetType": "combobox",
      "defaultValue": "",
      "label": null,
      "name": "01-Iteration Name",
      "options": {
       "widgetType": "dropdown",
       "autoCreated": null,
       "choices": [
        "2025-03-11T16:07:10.553+0000",
        "2025-03-11T16:06:00.549+0000"
       ]
      }
     }
    },
    "02-Table Family": {
     "currentValue": "people_schema_data_mismatch",
     "nuid": "6c173eca-50a1-4d4c-b0dd-96f6275c293b",
     "typedWidgetInfo": {
      "autoCreated": false,
      "defaultValue": "",
      "label": null,
      "name": "02-Table Family",
      "options": {
       "widgetDisplayType": "Dropdown",
       "choices": [
        "people_pk_violations",
        "people_schema_data_mismatch",
        "people_extras",
        "people_all_match",
        "people_data_mismatch"
       ],
       "fixedDomain": false,
       "multiselect": false
      },
      "parameterDataType": "String"
     },
     "widgetInfo": {
      "widgetType": "combobox",
      "defaultValue": "",
      "label": null,
      "name": "02-Table Family",
      "options": {
       "widgetType": "dropdown",
       "autoCreated": null,
       "choices": [
        "people_pk_violations",
        "people_schema_data_mismatch",
        "people_extras",
        "people_all_match",
        "people_data_mismatch"
       ]
      }
     }
    },
    "03-Additional Filters for Mismatch Chart only": {
     "currentValue": "N/A",
     "nuid": "9132aebc-b3bd-4403-9b12-7ad0dd707383",
     "typedWidgetInfo": {
      "autoCreated": false,
      "defaultValue": "N/A",
      "label": null,
      "name": "03-Additional Filters for Mismatch Chart only",
      "options": {
       "widgetDisplayType": "Dropdown",
       "choices": [
        "N/A"
       ],
       "fixedDomain": true,
       "multiselect": false
      },
      "parameterDataType": "String"
     },
     "widgetInfo": {
      "widgetType": "dropdown",
      "defaultValue": "N/A",
      "label": null,
      "name": "03-Additional Filters for Mismatch Chart only",
      "options": {
       "widgetType": "dropdown",
       "autoCreated": null,
       "choices": [
        "N/A"
       ]
      }
     }
    },
    "04-Columns with Mismatch": {
     "currentValue": "*",
     "nuid": "3525ed78-eda2-47bf-a121-5e87084d7b47",
     "typedWidgetInfo": {
      "autoCreated": false,
      "defaultValue": "*",
      "label": null,
      "name": "04-Columns with Mismatch",
      "options": {
       "widgetDisplayType": "Dropdown",
       "choices": [
        "birthDate",
        "salary",
        "*"
       ],
       "fixedDomain": true,
       "multiselect": false
      },
      "parameterDataType": "String"
     },
     "widgetInfo": {
      "widgetType": "dropdown",
      "defaultValue": "*",
      "label": null,
      "name": "04-Columns with Mismatch",
      "options": {
       "widgetType": "dropdown",
       "autoCreated": false,
       "choices": [
        "birthDate",
        "salary",
        "*"
       ]
      }
     }
    }
   }
  },
  "language_info": {
   "name": "sql"
  }
 },
 "nbformat": 4,
 "nbformat_minor": 0
}
